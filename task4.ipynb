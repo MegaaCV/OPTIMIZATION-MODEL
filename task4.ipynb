{
 "cells": [
  {
   "cell_type": "markdown",
   "id": "9809d29d",
   "metadata": {},
   "source": [
    "# Task 4"
   ]
  },
  {
   "cell_type": "markdown",
   "id": "ea5b2111",
   "metadata": {},
   "source": [
    "SOLVE A BUSINESS PROBLEM USING\n",
    "OPTIMIZATION TECHNIQUES (E.G., LINEAR\n",
    "PROGRAMMING) AND PYTHON LIBRARIES\n",
    "LIKE PULP"
   ]
  },
  {
   "cell_type": "markdown",
   "id": "5b99053b",
   "metadata": {},
   "source": [
    "# OPTIMIZATION MODEL"
   ]
  },
  {
   "cell_type": "markdown",
   "id": "44f738a2",
   "metadata": {},
   "source": [
    "# Problem:\n",
    "\n",
    "   Modern Mobile Cyber-Physical Systems (MCPS) operate in dynamic, interconnected environments, making them highly vulnerable to cyber threats due to their mobility, real-time network dependencies, and heterogeneous components. Existing security models fail to:\n",
    "\n",
    "         * Respond in real time,\n",
    "\n",
    "         *Adapt to evolving threats,\n",
    "\n",
    "         *Optimize actions under limited budget and resources.\n",
    "\n"
   ]
  },
  {
   "cell_type": "markdown",
   "id": "24473f6a",
   "metadata": {},
   "source": [
    "Key Problem:\n",
    "\n",
    "How can we ensure real-time threat detection and mitigation in MCPS using intelligent decision-making models while minimizing cost and resource usage?"
   ]
  },
  {
   "cell_type": "markdown",
   "id": "5832db8a",
   "metadata": {},
   "source": [
    "# Setup:\n",
    "\n",
    "We designed a real-time adaptive cybersecurity framework integrating:\n",
    "\n",
    "1. Recurrent Neural Networks (RNN) – for anomaly sequence modeling\n",
    "\n",
    "2. Isolation Forest – for unsupervised anomaly detection\n",
    "\n",
    "3. Multi-Agent Reinforcement Learning (MARL) – for learning adaptive threat responses\n",
    "\n",
    "4. Optimization (using Linear Programming) – for cost-efficient threat mitigation\n",
    "\n",
    "Dataset: Custom dataset cyberfeddefender_dataset.csv with columns like:\n",
    "\n",
    "timestamp, node_id, activity_log, threat_score, response_cost, resource_required, etc.\n"
   ]
  },
  {
   "cell_type": "markdown",
   "id": "c6267a3c",
   "metadata": {},
   "source": [
    "# Loading dataset and Preprocessing"
   ]
  },
  {
   "cell_type": "markdown",
   "id": "b7ee228a",
   "metadata": {},
   "source": [
    "Preprocessing Steps:\n",
    "\n",
    "1. Null value handling\n",
    "\n",
    "2. Categorical encoding\n",
    "\n",
    "3. Feature selection\n",
    "\n",
    "4. Threat labelling using RNN + Isolation Forest\n",
    "\n",
    "5. Normalize numeric features  "
   ]
  },
  {
   "cell_type": "code",
   "execution_count": null,
   "id": "d2c1849f",
   "metadata": {},
   "outputs": [],
   "source": [
    "# Import necessary libraries\n",
    "import pandas as pd\n",
    "from sklearn.preprocessing  import LabelEncoder,MinMaxScaler\n",
    "df=pd.read_csv(\"C:\\\\Users\\\\ADMIN\\\\Desktop\\\\VS code programs\\\\cyberfeddefender_dataset.csv\")"
   ]
  },
  {
   "cell_type": "code",
   "execution_count": 4,
   "id": "2bdd1dc4",
   "metadata": {},
   "outputs": [
    {
     "data": {
      "text/html": [
       "<div>\n",
       "<style scoped>\n",
       "    .dataframe tbody tr th:only-of-type {\n",
       "        vertical-align: middle;\n",
       "    }\n",
       "\n",
       "    .dataframe tbody tr th {\n",
       "        vertical-align: top;\n",
       "    }\n",
       "\n",
       "    .dataframe thead th {\n",
       "        text-align: right;\n",
       "    }\n",
       "</style>\n",
       "<table border=\"1\" class=\"dataframe\">\n",
       "  <thead>\n",
       "    <tr style=\"text-align: right;\">\n",
       "      <th></th>\n",
       "      <th>Timestamp</th>\n",
       "      <th>Source_IP</th>\n",
       "      <th>Destination_IP</th>\n",
       "      <th>Protocol</th>\n",
       "      <th>Packet_Length</th>\n",
       "      <th>Duration</th>\n",
       "      <th>Source_Port</th>\n",
       "      <th>Destination_Port</th>\n",
       "      <th>Bytes_Sent</th>\n",
       "      <th>Bytes_Received</th>\n",
       "      <th>...</th>\n",
       "      <th>Avg_Packet_Size</th>\n",
       "      <th>Total_Fwd_Packets</th>\n",
       "      <th>Total_Bwd_Packets</th>\n",
       "      <th>Fwd_Header_Length</th>\n",
       "      <th>Bwd_Header_Length</th>\n",
       "      <th>Sub_Flow_Fwd_Bytes</th>\n",
       "      <th>Sub_Flow_Bwd_Bytes</th>\n",
       "      <th>Inbound</th>\n",
       "      <th>Attack_Type</th>\n",
       "      <th>Label</th>\n",
       "    </tr>\n",
       "  </thead>\n",
       "  <tbody>\n",
       "    <tr>\n",
       "      <th>0</th>\n",
       "      <td>2024-10-23 12:00:00</td>\n",
       "      <td>192.168.0.1</td>\n",
       "      <td>192.168.0.1</td>\n",
       "      <td>ICMP</td>\n",
       "      <td>1155</td>\n",
       "      <td>4.01</td>\n",
       "      <td>53</td>\n",
       "      <td>53</td>\n",
       "      <td>675</td>\n",
       "      <td>877</td>\n",
       "      <td>...</td>\n",
       "      <td>512</td>\n",
       "      <td>21</td>\n",
       "      <td>34</td>\n",
       "      <td>256</td>\n",
       "      <td>256</td>\n",
       "      <td>697</td>\n",
       "      <td>1028</td>\n",
       "      <td>1</td>\n",
       "      <td>DDoS</td>\n",
       "      <td>1</td>\n",
       "    </tr>\n",
       "    <tr>\n",
       "      <th>1</th>\n",
       "      <td>2024-10-23 12:00:01</td>\n",
       "      <td>192.168.0.7</td>\n",
       "      <td>172.16.0.5</td>\n",
       "      <td>ICMP</td>\n",
       "      <td>1776</td>\n",
       "      <td>3.75</td>\n",
       "      <td>22</td>\n",
       "      <td>22</td>\n",
       "      <td>297</td>\n",
       "      <td>1062</td>\n",
       "      <td>...</td>\n",
       "      <td>1024</td>\n",
       "      <td>14</td>\n",
       "      <td>19</td>\n",
       "      <td>512</td>\n",
       "      <td>256</td>\n",
       "      <td>513</td>\n",
       "      <td>1300</td>\n",
       "      <td>1</td>\n",
       "      <td>DDoS</td>\n",
       "      <td>1</td>\n",
       "    </tr>\n",
       "    <tr>\n",
       "      <th>2</th>\n",
       "      <td>2024-10-23 12:00:02</td>\n",
       "      <td>192.168.0.7</td>\n",
       "      <td>10.0.0.3</td>\n",
       "      <td>UDP</td>\n",
       "      <td>627</td>\n",
       "      <td>4.24</td>\n",
       "      <td>80</td>\n",
       "      <td>8080</td>\n",
       "      <td>122</td>\n",
       "      <td>723</td>\n",
       "      <td>...</td>\n",
       "      <td>512</td>\n",
       "      <td>10</td>\n",
       "      <td>41</td>\n",
       "      <td>512</td>\n",
       "      <td>256</td>\n",
       "      <td>250</td>\n",
       "      <td>497</td>\n",
       "      <td>0</td>\n",
       "      <td>DDoS</td>\n",
       "      <td>1</td>\n",
       "    </tr>\n",
       "    <tr>\n",
       "      <th>3</th>\n",
       "      <td>2024-10-23 12:00:03</td>\n",
       "      <td>192.168.0.7</td>\n",
       "      <td>10.0.0.3</td>\n",
       "      <td>UDP</td>\n",
       "      <td>1754</td>\n",
       "      <td>3.09</td>\n",
       "      <td>443</td>\n",
       "      <td>443</td>\n",
       "      <td>1626</td>\n",
       "      <td>1703</td>\n",
       "      <td>...</td>\n",
       "      <td>256</td>\n",
       "      <td>37</td>\n",
       "      <td>44</td>\n",
       "      <td>128</td>\n",
       "      <td>256</td>\n",
       "      <td>985</td>\n",
       "      <td>1471</td>\n",
       "      <td>0</td>\n",
       "      <td>Ransomware</td>\n",
       "      <td>0</td>\n",
       "    </tr>\n",
       "    <tr>\n",
       "      <th>4</th>\n",
       "      <td>2024-10-23 12:00:04</td>\n",
       "      <td>192.168.0.1</td>\n",
       "      <td>10.0.0.4</td>\n",
       "      <td>UDP</td>\n",
       "      <td>1326</td>\n",
       "      <td>2.52</td>\n",
       "      <td>80</td>\n",
       "      <td>443</td>\n",
       "      <td>1851</td>\n",
       "      <td>771</td>\n",
       "      <td>...</td>\n",
       "      <td>1024</td>\n",
       "      <td>40</td>\n",
       "      <td>16</td>\n",
       "      <td>512</td>\n",
       "      <td>256</td>\n",
       "      <td>1877</td>\n",
       "      <td>595</td>\n",
       "      <td>1</td>\n",
       "      <td>Normal</td>\n",
       "      <td>1</td>\n",
       "    </tr>\n",
       "  </tbody>\n",
       "</table>\n",
       "<p>5 rows × 23 columns</p>\n",
       "</div>"
      ],
      "text/plain": [
       "             Timestamp    Source_IP Destination_IP Protocol  Packet_Length  \\\n",
       "0  2024-10-23 12:00:00  192.168.0.1    192.168.0.1     ICMP           1155   \n",
       "1  2024-10-23 12:00:01  192.168.0.7     172.16.0.5     ICMP           1776   \n",
       "2  2024-10-23 12:00:02  192.168.0.7       10.0.0.3      UDP            627   \n",
       "3  2024-10-23 12:00:03  192.168.0.7       10.0.0.3      UDP           1754   \n",
       "4  2024-10-23 12:00:04  192.168.0.1       10.0.0.4      UDP           1326   \n",
       "\n",
       "   Duration  Source_Port  Destination_Port  Bytes_Sent  Bytes_Received  ...  \\\n",
       "0      4.01           53                53         675             877  ...   \n",
       "1      3.75           22                22         297            1062  ...   \n",
       "2      4.24           80              8080         122             723  ...   \n",
       "3      3.09          443               443        1626            1703  ...   \n",
       "4      2.52           80               443        1851             771  ...   \n",
       "\n",
       "  Avg_Packet_Size  Total_Fwd_Packets  Total_Bwd_Packets  Fwd_Header_Length  \\\n",
       "0             512                 21                 34                256   \n",
       "1            1024                 14                 19                512   \n",
       "2             512                 10                 41                512   \n",
       "3             256                 37                 44                128   \n",
       "4            1024                 40                 16                512   \n",
       "\n",
       "   Bwd_Header_Length  Sub_Flow_Fwd_Bytes  Sub_Flow_Bwd_Bytes  Inbound  \\\n",
       "0                256                 697                1028        1   \n",
       "1                256                 513                1300        1   \n",
       "2                256                 250                 497        0   \n",
       "3                256                 985                1471        0   \n",
       "4                256                1877                 595        1   \n",
       "\n",
       "   Attack_Type  Label  \n",
       "0         DDoS      1  \n",
       "1         DDoS      1  \n",
       "2         DDoS      1  \n",
       "3   Ransomware      0  \n",
       "4       Normal      1  \n",
       "\n",
       "[5 rows x 23 columns]"
      ]
     },
     "execution_count": 4,
     "metadata": {},
     "output_type": "execute_result"
    }
   ],
   "source": [
    "df.head()"
   ]
  },
  {
   "cell_type": "code",
   "execution_count": 5,
   "id": "84daef41",
   "metadata": {},
   "outputs": [
    {
     "data": {
      "text/plain": [
       "Timestamp             0\n",
       "Source_IP             0\n",
       "Destination_IP        0\n",
       "Protocol              0\n",
       "Packet_Length         0\n",
       "Duration              0\n",
       "Source_Port           0\n",
       "Destination_Port      0\n",
       "Bytes_Sent            0\n",
       "Bytes_Received        0\n",
       "Flags                 0\n",
       "Flow_Packets/s        0\n",
       "Flow_Bytes/s          0\n",
       "Avg_Packet_Size       0\n",
       "Total_Fwd_Packets     0\n",
       "Total_Bwd_Packets     0\n",
       "Fwd_Header_Length     0\n",
       "Bwd_Header_Length     0\n",
       "Sub_Flow_Fwd_Bytes    0\n",
       "Sub_Flow_Bwd_Bytes    0\n",
       "Inbound               0\n",
       "Attack_Type           0\n",
       "Label                 0\n",
       "dtype: int64"
      ]
     },
     "execution_count": 5,
     "metadata": {},
     "output_type": "execute_result"
    }
   ],
   "source": [
    "df.isnull().sum()"
   ]
  },
  {
   "cell_type": "code",
   "execution_count": 6,
   "id": "d87cf1a7",
   "metadata": {},
   "outputs": [
    {
     "data": {
      "text/html": [
       "<div>\n",
       "<style scoped>\n",
       "    .dataframe tbody tr th:only-of-type {\n",
       "        vertical-align: middle;\n",
       "    }\n",
       "\n",
       "    .dataframe tbody tr th {\n",
       "        vertical-align: top;\n",
       "    }\n",
       "\n",
       "    .dataframe thead th {\n",
       "        text-align: right;\n",
       "    }\n",
       "</style>\n",
       "<table border=\"1\" class=\"dataframe\">\n",
       "  <thead>\n",
       "    <tr style=\"text-align: right;\">\n",
       "      <th></th>\n",
       "      <th>Timestamp</th>\n",
       "      <th>Source_IP</th>\n",
       "      <th>Destination_IP</th>\n",
       "      <th>Protocol</th>\n",
       "      <th>Packet_Length</th>\n",
       "      <th>Duration</th>\n",
       "      <th>Source_Port</th>\n",
       "      <th>Destination_Port</th>\n",
       "      <th>Bytes_Sent</th>\n",
       "      <th>Bytes_Received</th>\n",
       "      <th>...</th>\n",
       "      <th>Avg_Packet_Size</th>\n",
       "      <th>Total_Fwd_Packets</th>\n",
       "      <th>Total_Bwd_Packets</th>\n",
       "      <th>Fwd_Header_Length</th>\n",
       "      <th>Bwd_Header_Length</th>\n",
       "      <th>Sub_Flow_Fwd_Bytes</th>\n",
       "      <th>Sub_Flow_Bwd_Bytes</th>\n",
       "      <th>Inbound</th>\n",
       "      <th>Attack_Type</th>\n",
       "      <th>Label</th>\n",
       "    </tr>\n",
       "  </thead>\n",
       "  <tbody>\n",
       "    <tr>\n",
       "      <th>0</th>\n",
       "      <td>2024-10-23 12:00:00</td>\n",
       "      <td>192.168.0.1</td>\n",
       "      <td>192.168.0.1</td>\n",
       "      <td>ICMP</td>\n",
       "      <td>1155</td>\n",
       "      <td>4.01</td>\n",
       "      <td>53</td>\n",
       "      <td>53</td>\n",
       "      <td>675</td>\n",
       "      <td>877</td>\n",
       "      <td>...</td>\n",
       "      <td>512</td>\n",
       "      <td>21</td>\n",
       "      <td>34</td>\n",
       "      <td>256</td>\n",
       "      <td>256</td>\n",
       "      <td>697</td>\n",
       "      <td>1028</td>\n",
       "      <td>1</td>\n",
       "      <td>DDoS</td>\n",
       "      <td>1</td>\n",
       "    </tr>\n",
       "    <tr>\n",
       "      <th>1</th>\n",
       "      <td>2024-10-23 12:00:01</td>\n",
       "      <td>192.168.0.7</td>\n",
       "      <td>172.16.0.5</td>\n",
       "      <td>ICMP</td>\n",
       "      <td>1776</td>\n",
       "      <td>3.75</td>\n",
       "      <td>22</td>\n",
       "      <td>22</td>\n",
       "      <td>297</td>\n",
       "      <td>1062</td>\n",
       "      <td>...</td>\n",
       "      <td>1024</td>\n",
       "      <td>14</td>\n",
       "      <td>19</td>\n",
       "      <td>512</td>\n",
       "      <td>256</td>\n",
       "      <td>513</td>\n",
       "      <td>1300</td>\n",
       "      <td>1</td>\n",
       "      <td>DDoS</td>\n",
       "      <td>1</td>\n",
       "    </tr>\n",
       "    <tr>\n",
       "      <th>2</th>\n",
       "      <td>2024-10-23 12:00:02</td>\n",
       "      <td>192.168.0.7</td>\n",
       "      <td>10.0.0.3</td>\n",
       "      <td>UDP</td>\n",
       "      <td>627</td>\n",
       "      <td>4.24</td>\n",
       "      <td>80</td>\n",
       "      <td>8080</td>\n",
       "      <td>122</td>\n",
       "      <td>723</td>\n",
       "      <td>...</td>\n",
       "      <td>512</td>\n",
       "      <td>10</td>\n",
       "      <td>41</td>\n",
       "      <td>512</td>\n",
       "      <td>256</td>\n",
       "      <td>250</td>\n",
       "      <td>497</td>\n",
       "      <td>0</td>\n",
       "      <td>DDoS</td>\n",
       "      <td>1</td>\n",
       "    </tr>\n",
       "    <tr>\n",
       "      <th>3</th>\n",
       "      <td>2024-10-23 12:00:03</td>\n",
       "      <td>192.168.0.7</td>\n",
       "      <td>10.0.0.3</td>\n",
       "      <td>UDP</td>\n",
       "      <td>1754</td>\n",
       "      <td>3.09</td>\n",
       "      <td>443</td>\n",
       "      <td>443</td>\n",
       "      <td>1626</td>\n",
       "      <td>1703</td>\n",
       "      <td>...</td>\n",
       "      <td>256</td>\n",
       "      <td>37</td>\n",
       "      <td>44</td>\n",
       "      <td>128</td>\n",
       "      <td>256</td>\n",
       "      <td>985</td>\n",
       "      <td>1471</td>\n",
       "      <td>0</td>\n",
       "      <td>Ransomware</td>\n",
       "      <td>0</td>\n",
       "    </tr>\n",
       "    <tr>\n",
       "      <th>4</th>\n",
       "      <td>2024-10-23 12:00:04</td>\n",
       "      <td>192.168.0.1</td>\n",
       "      <td>10.0.0.4</td>\n",
       "      <td>UDP</td>\n",
       "      <td>1326</td>\n",
       "      <td>2.52</td>\n",
       "      <td>80</td>\n",
       "      <td>443</td>\n",
       "      <td>1851</td>\n",
       "      <td>771</td>\n",
       "      <td>...</td>\n",
       "      <td>1024</td>\n",
       "      <td>40</td>\n",
       "      <td>16</td>\n",
       "      <td>512</td>\n",
       "      <td>256</td>\n",
       "      <td>1877</td>\n",
       "      <td>595</td>\n",
       "      <td>1</td>\n",
       "      <td>Normal</td>\n",
       "      <td>1</td>\n",
       "    </tr>\n",
       "  </tbody>\n",
       "</table>\n",
       "<p>5 rows × 23 columns</p>\n",
       "</div>"
      ],
      "text/plain": [
       "             Timestamp    Source_IP Destination_IP Protocol  Packet_Length  \\\n",
       "0  2024-10-23 12:00:00  192.168.0.1    192.168.0.1     ICMP           1155   \n",
       "1  2024-10-23 12:00:01  192.168.0.7     172.16.0.5     ICMP           1776   \n",
       "2  2024-10-23 12:00:02  192.168.0.7       10.0.0.3      UDP            627   \n",
       "3  2024-10-23 12:00:03  192.168.0.7       10.0.0.3      UDP           1754   \n",
       "4  2024-10-23 12:00:04  192.168.0.1       10.0.0.4      UDP           1326   \n",
       "\n",
       "   Duration  Source_Port  Destination_Port  Bytes_Sent  Bytes_Received  ...  \\\n",
       "0      4.01           53                53         675             877  ...   \n",
       "1      3.75           22                22         297            1062  ...   \n",
       "2      4.24           80              8080         122             723  ...   \n",
       "3      3.09          443               443        1626            1703  ...   \n",
       "4      2.52           80               443        1851             771  ...   \n",
       "\n",
       "  Avg_Packet_Size  Total_Fwd_Packets  Total_Bwd_Packets  Fwd_Header_Length  \\\n",
       "0             512                 21                 34                256   \n",
       "1            1024                 14                 19                512   \n",
       "2             512                 10                 41                512   \n",
       "3             256                 37                 44                128   \n",
       "4            1024                 40                 16                512   \n",
       "\n",
       "   Bwd_Header_Length  Sub_Flow_Fwd_Bytes  Sub_Flow_Bwd_Bytes  Inbound  \\\n",
       "0                256                 697                1028        1   \n",
       "1                256                 513                1300        1   \n",
       "2                256                 250                 497        0   \n",
       "3                256                 985                1471        0   \n",
       "4                256                1877                 595        1   \n",
       "\n",
       "   Attack_Type  Label  \n",
       "0         DDoS      1  \n",
       "1         DDoS      1  \n",
       "2         DDoS      1  \n",
       "3   Ransomware      0  \n",
       "4       Normal      1  \n",
       "\n",
       "[5 rows x 23 columns]"
      ]
     },
     "execution_count": 6,
     "metadata": {},
     "output_type": "execute_result"
    }
   ],
   "source": [
    "df.drop_duplicates(inplace=True)\n",
    "df.head()"
   ]
  },
  {
   "cell_type": "code",
   "execution_count": 7,
   "id": "71e25e0a",
   "metadata": {},
   "outputs": [
    {
     "data": {
      "text/plain": [
       "(1430, 23)"
      ]
     },
     "execution_count": 7,
     "metadata": {},
     "output_type": "execute_result"
    }
   ],
   "source": [
    "df.shape"
   ]
  },
  {
   "cell_type": "code",
   "execution_count": 8,
   "id": "8b548fcd",
   "metadata": {},
   "outputs": [
    {
     "data": {
      "text/html": [
       "<div>\n",
       "<style scoped>\n",
       "    .dataframe tbody tr th:only-of-type {\n",
       "        vertical-align: middle;\n",
       "    }\n",
       "\n",
       "    .dataframe tbody tr th {\n",
       "        vertical-align: top;\n",
       "    }\n",
       "\n",
       "    .dataframe thead th {\n",
       "        text-align: right;\n",
       "    }\n",
       "</style>\n",
       "<table border=\"1\" class=\"dataframe\">\n",
       "  <thead>\n",
       "    <tr style=\"text-align: right;\">\n",
       "      <th></th>\n",
       "      <th>Packet_Length</th>\n",
       "      <th>Duration</th>\n",
       "      <th>Source_Port</th>\n",
       "      <th>Destination_Port</th>\n",
       "      <th>Bytes_Sent</th>\n",
       "      <th>Bytes_Received</th>\n",
       "      <th>Flow_Packets/s</th>\n",
       "      <th>Flow_Bytes/s</th>\n",
       "      <th>Avg_Packet_Size</th>\n",
       "      <th>Total_Fwd_Packets</th>\n",
       "      <th>Total_Bwd_Packets</th>\n",
       "      <th>Fwd_Header_Length</th>\n",
       "      <th>Bwd_Header_Length</th>\n",
       "      <th>Sub_Flow_Fwd_Bytes</th>\n",
       "      <th>Sub_Flow_Bwd_Bytes</th>\n",
       "      <th>Inbound</th>\n",
       "      <th>Label</th>\n",
       "    </tr>\n",
       "  </thead>\n",
       "  <tbody>\n",
       "    <tr>\n",
       "      <th>count</th>\n",
       "      <td>1430.000000</td>\n",
       "      <td>1430.000000</td>\n",
       "      <td>1430.000000</td>\n",
       "      <td>1430.000000</td>\n",
       "      <td>1430.000000</td>\n",
       "      <td>1430.000000</td>\n",
       "      <td>1430.000000</td>\n",
       "      <td>1430.000000</td>\n",
       "      <td>1430.000000</td>\n",
       "      <td>1430.000000</td>\n",
       "      <td>1430.000000</td>\n",
       "      <td>1430.000000</td>\n",
       "      <td>1430.000000</td>\n",
       "      <td>1430.000000</td>\n",
       "      <td>1430.000000</td>\n",
       "      <td>1430.000000</td>\n",
       "      <td>1430.000000</td>\n",
       "    </tr>\n",
       "    <tr>\n",
       "      <th>mean</th>\n",
       "      <td>1064.520280</td>\n",
       "      <td>2.586084</td>\n",
       "      <td>1673.184615</td>\n",
       "      <td>1848.512587</td>\n",
       "      <td>1015.900000</td>\n",
       "      <td>1045.531469</td>\n",
       "      <td>24.793007</td>\n",
       "      <td>1070.640140</td>\n",
       "      <td>460.128671</td>\n",
       "      <td>29.279021</td>\n",
       "      <td>29.665734</td>\n",
       "      <td>306.483916</td>\n",
       "      <td>295.742657</td>\n",
       "      <td>1074.735664</td>\n",
       "      <td>1064.494406</td>\n",
       "      <td>0.524476</td>\n",
       "      <td>0.488112</td>\n",
       "    </tr>\n",
       "    <tr>\n",
       "      <th>std</th>\n",
       "      <td>572.437816</td>\n",
       "      <td>1.420248</td>\n",
       "      <td>3124.172914</td>\n",
       "      <td>3275.839849</td>\n",
       "      <td>569.400101</td>\n",
       "      <td>572.170268</td>\n",
       "      <td>8.772747</td>\n",
       "      <td>562.422385</td>\n",
       "      <td>360.760328</td>\n",
       "      <td>11.530216</td>\n",
       "      <td>11.224480</td>\n",
       "      <td>159.092478</td>\n",
       "      <td>160.405437</td>\n",
       "      <td>565.793704</td>\n",
       "      <td>542.027082</td>\n",
       "      <td>0.499575</td>\n",
       "      <td>0.500034</td>\n",
       "    </tr>\n",
       "    <tr>\n",
       "      <th>min</th>\n",
       "      <td>64.000000</td>\n",
       "      <td>0.100000</td>\n",
       "      <td>22.000000</td>\n",
       "      <td>22.000000</td>\n",
       "      <td>65.000000</td>\n",
       "      <td>64.000000</td>\n",
       "      <td>10.000000</td>\n",
       "      <td>100.200000</td>\n",
       "      <td>64.000000</td>\n",
       "      <td>10.000000</td>\n",
       "      <td>10.000000</td>\n",
       "      <td>128.000000</td>\n",
       "      <td>128.000000</td>\n",
       "      <td>130.000000</td>\n",
       "      <td>128.000000</td>\n",
       "      <td>0.000000</td>\n",
       "      <td>0.000000</td>\n",
       "    </tr>\n",
       "    <tr>\n",
       "      <th>25%</th>\n",
       "      <td>562.000000</td>\n",
       "      <td>1.360000</td>\n",
       "      <td>53.000000</td>\n",
       "      <td>53.000000</td>\n",
       "      <td>503.000000</td>\n",
       "      <td>521.000000</td>\n",
       "      <td>17.200000</td>\n",
       "      <td>586.175000</td>\n",
       "      <td>256.000000</td>\n",
       "      <td>19.000000</td>\n",
       "      <td>20.000000</td>\n",
       "      <td>128.000000</td>\n",
       "      <td>128.000000</td>\n",
       "      <td>583.500000</td>\n",
       "      <td>601.500000</td>\n",
       "      <td>0.000000</td>\n",
       "      <td>0.000000</td>\n",
       "    </tr>\n",
       "    <tr>\n",
       "      <th>50%</th>\n",
       "      <td>1066.000000</td>\n",
       "      <td>2.605000</td>\n",
       "      <td>80.000000</td>\n",
       "      <td>80.000000</td>\n",
       "      <td>1019.000000</td>\n",
       "      <td>1045.000000</td>\n",
       "      <td>24.900000</td>\n",
       "      <td>1072.050000</td>\n",
       "      <td>256.000000</td>\n",
       "      <td>29.000000</td>\n",
       "      <td>30.000000</td>\n",
       "      <td>256.000000</td>\n",
       "      <td>256.000000</td>\n",
       "      <td>1083.000000</td>\n",
       "      <td>1042.000000</td>\n",
       "      <td>1.000000</td>\n",
       "      <td>0.000000</td>\n",
       "    </tr>\n",
       "    <tr>\n",
       "      <th>75%</th>\n",
       "      <td>1539.000000</td>\n",
       "      <td>3.840000</td>\n",
       "      <td>443.000000</td>\n",
       "      <td>443.000000</td>\n",
       "      <td>1497.000000</td>\n",
       "      <td>1538.500000</td>\n",
       "      <td>32.100000</td>\n",
       "      <td>1559.300000</td>\n",
       "      <td>1024.000000</td>\n",
       "      <td>39.000000</td>\n",
       "      <td>39.000000</td>\n",
       "      <td>512.000000</td>\n",
       "      <td>512.000000</td>\n",
       "      <td>1564.000000</td>\n",
       "      <td>1527.000000</td>\n",
       "      <td>1.000000</td>\n",
       "      <td>1.000000</td>\n",
       "    </tr>\n",
       "    <tr>\n",
       "      <th>max</th>\n",
       "      <td>2046.000000</td>\n",
       "      <td>5.000000</td>\n",
       "      <td>8080.000000</td>\n",
       "      <td>8080.000000</td>\n",
       "      <td>2045.000000</td>\n",
       "      <td>2044.000000</td>\n",
       "      <td>40.000000</td>\n",
       "      <td>2047.900000</td>\n",
       "      <td>1024.000000</td>\n",
       "      <td>49.000000</td>\n",
       "      <td>49.000000</td>\n",
       "      <td>512.000000</td>\n",
       "      <td>512.000000</td>\n",
       "      <td>2047.000000</td>\n",
       "      <td>2045.000000</td>\n",
       "      <td>1.000000</td>\n",
       "      <td>1.000000</td>\n",
       "    </tr>\n",
       "  </tbody>\n",
       "</table>\n",
       "</div>"
      ],
      "text/plain": [
       "       Packet_Length     Duration  Source_Port  Destination_Port   Bytes_Sent  \\\n",
       "count    1430.000000  1430.000000  1430.000000       1430.000000  1430.000000   \n",
       "mean     1064.520280     2.586084  1673.184615       1848.512587  1015.900000   \n",
       "std       572.437816     1.420248  3124.172914       3275.839849   569.400101   \n",
       "min        64.000000     0.100000    22.000000         22.000000    65.000000   \n",
       "25%       562.000000     1.360000    53.000000         53.000000   503.000000   \n",
       "50%      1066.000000     2.605000    80.000000         80.000000  1019.000000   \n",
       "75%      1539.000000     3.840000   443.000000        443.000000  1497.000000   \n",
       "max      2046.000000     5.000000  8080.000000       8080.000000  2045.000000   \n",
       "\n",
       "       Bytes_Received  Flow_Packets/s  Flow_Bytes/s  Avg_Packet_Size  \\\n",
       "count     1430.000000     1430.000000   1430.000000      1430.000000   \n",
       "mean      1045.531469       24.793007   1070.640140       460.128671   \n",
       "std        572.170268        8.772747    562.422385       360.760328   \n",
       "min         64.000000       10.000000    100.200000        64.000000   \n",
       "25%        521.000000       17.200000    586.175000       256.000000   \n",
       "50%       1045.000000       24.900000   1072.050000       256.000000   \n",
       "75%       1538.500000       32.100000   1559.300000      1024.000000   \n",
       "max       2044.000000       40.000000   2047.900000      1024.000000   \n",
       "\n",
       "       Total_Fwd_Packets  Total_Bwd_Packets  Fwd_Header_Length  \\\n",
       "count        1430.000000        1430.000000        1430.000000   \n",
       "mean           29.279021          29.665734         306.483916   \n",
       "std            11.530216          11.224480         159.092478   \n",
       "min            10.000000          10.000000         128.000000   \n",
       "25%            19.000000          20.000000         128.000000   \n",
       "50%            29.000000          30.000000         256.000000   \n",
       "75%            39.000000          39.000000         512.000000   \n",
       "max            49.000000          49.000000         512.000000   \n",
       "\n",
       "       Bwd_Header_Length  Sub_Flow_Fwd_Bytes  Sub_Flow_Bwd_Bytes      Inbound  \\\n",
       "count        1430.000000         1430.000000         1430.000000  1430.000000   \n",
       "mean          295.742657         1074.735664         1064.494406     0.524476   \n",
       "std           160.405437          565.793704          542.027082     0.499575   \n",
       "min           128.000000          130.000000          128.000000     0.000000   \n",
       "25%           128.000000          583.500000          601.500000     0.000000   \n",
       "50%           256.000000         1083.000000         1042.000000     1.000000   \n",
       "75%           512.000000         1564.000000         1527.000000     1.000000   \n",
       "max           512.000000         2047.000000         2045.000000     1.000000   \n",
       "\n",
       "             Label  \n",
       "count  1430.000000  \n",
       "mean      0.488112  \n",
       "std       0.500034  \n",
       "min       0.000000  \n",
       "25%       0.000000  \n",
       "50%       0.000000  \n",
       "75%       1.000000  \n",
       "max       1.000000  "
      ]
     },
     "execution_count": 8,
     "metadata": {},
     "output_type": "execute_result"
    }
   ],
   "source": [
    "df.describe()"
   ]
  },
  {
   "cell_type": "code",
   "execution_count": 9,
   "id": "69ce3784",
   "metadata": {},
   "outputs": [
    {
     "data": {
      "text/plain": [
       "Index(['Timestamp', 'Source_IP', 'Destination_IP', 'Protocol', 'Packet_Length',\n",
       "       'Duration', 'Source_Port', 'Destination_Port', 'Bytes_Sent',\n",
       "       'Bytes_Received', 'Flags', 'Flow_Packets/s', 'Flow_Bytes/s',\n",
       "       'Avg_Packet_Size', 'Total_Fwd_Packets', 'Total_Bwd_Packets',\n",
       "       'Fwd_Header_Length', 'Bwd_Header_Length', 'Sub_Flow_Fwd_Bytes',\n",
       "       'Sub_Flow_Bwd_Bytes', 'Inbound', 'Attack_Type', 'Label'],\n",
       "      dtype='object')"
      ]
     },
     "execution_count": 9,
     "metadata": {},
     "output_type": "execute_result"
    }
   ],
   "source": [
    "df.columns"
   ]
  },
  {
   "cell_type": "code",
   "execution_count": 10,
   "id": "d1586984",
   "metadata": {},
   "outputs": [
    {
     "data": {
      "text/html": [
       "<div>\n",
       "<style scoped>\n",
       "    .dataframe tbody tr th:only-of-type {\n",
       "        vertical-align: middle;\n",
       "    }\n",
       "\n",
       "    .dataframe tbody tr th {\n",
       "        vertical-align: top;\n",
       "    }\n",
       "\n",
       "    .dataframe thead th {\n",
       "        text-align: right;\n",
       "    }\n",
       "</style>\n",
       "<table border=\"1\" class=\"dataframe\">\n",
       "  <thead>\n",
       "    <tr style=\"text-align: right;\">\n",
       "      <th></th>\n",
       "      <th>Timestamp</th>\n",
       "      <th>Source_IP</th>\n",
       "      <th>Destination_IP</th>\n",
       "      <th>Protocol</th>\n",
       "      <th>Packet_Length</th>\n",
       "      <th>Duration</th>\n",
       "      <th>Source_Port</th>\n",
       "      <th>Destination_Port</th>\n",
       "      <th>Bytes_Sent</th>\n",
       "      <th>Bytes_Received</th>\n",
       "      <th>...</th>\n",
       "      <th>Avg_Packet_Size</th>\n",
       "      <th>Total_Fwd_Packets</th>\n",
       "      <th>Total_Bwd_Packets</th>\n",
       "      <th>Fwd_Header_Length</th>\n",
       "      <th>Bwd_Header_Length</th>\n",
       "      <th>Sub_Flow_Fwd_Bytes</th>\n",
       "      <th>Sub_Flow_Bwd_Bytes</th>\n",
       "      <th>Inbound</th>\n",
       "      <th>Attack_Type</th>\n",
       "      <th>Label</th>\n",
       "    </tr>\n",
       "  </thead>\n",
       "  <tbody>\n",
       "    <tr>\n",
       "      <th>0</th>\n",
       "      <td>2024-10-23 12:00:00</td>\n",
       "      <td>192.168.0.1</td>\n",
       "      <td>192.168.0.1</td>\n",
       "      <td>ICMP</td>\n",
       "      <td>1155</td>\n",
       "      <td>4.01</td>\n",
       "      <td>53</td>\n",
       "      <td>53</td>\n",
       "      <td>675</td>\n",
       "      <td>877</td>\n",
       "      <td>...</td>\n",
       "      <td>512</td>\n",
       "      <td>21</td>\n",
       "      <td>34</td>\n",
       "      <td>256</td>\n",
       "      <td>256</td>\n",
       "      <td>697</td>\n",
       "      <td>1028</td>\n",
       "      <td>1</td>\n",
       "      <td>DDoS</td>\n",
       "      <td>1</td>\n",
       "    </tr>\n",
       "    <tr>\n",
       "      <th>1</th>\n",
       "      <td>2024-10-23 12:00:01</td>\n",
       "      <td>192.168.0.7</td>\n",
       "      <td>172.16.0.5</td>\n",
       "      <td>ICMP</td>\n",
       "      <td>1776</td>\n",
       "      <td>3.75</td>\n",
       "      <td>22</td>\n",
       "      <td>22</td>\n",
       "      <td>297</td>\n",
       "      <td>1062</td>\n",
       "      <td>...</td>\n",
       "      <td>1024</td>\n",
       "      <td>14</td>\n",
       "      <td>19</td>\n",
       "      <td>512</td>\n",
       "      <td>256</td>\n",
       "      <td>513</td>\n",
       "      <td>1300</td>\n",
       "      <td>1</td>\n",
       "      <td>DDoS</td>\n",
       "      <td>1</td>\n",
       "    </tr>\n",
       "    <tr>\n",
       "      <th>2</th>\n",
       "      <td>2024-10-23 12:00:02</td>\n",
       "      <td>192.168.0.7</td>\n",
       "      <td>10.0.0.3</td>\n",
       "      <td>UDP</td>\n",
       "      <td>627</td>\n",
       "      <td>4.24</td>\n",
       "      <td>80</td>\n",
       "      <td>8080</td>\n",
       "      <td>122</td>\n",
       "      <td>723</td>\n",
       "      <td>...</td>\n",
       "      <td>512</td>\n",
       "      <td>10</td>\n",
       "      <td>41</td>\n",
       "      <td>512</td>\n",
       "      <td>256</td>\n",
       "      <td>250</td>\n",
       "      <td>497</td>\n",
       "      <td>0</td>\n",
       "      <td>DDoS</td>\n",
       "      <td>1</td>\n",
       "    </tr>\n",
       "    <tr>\n",
       "      <th>3</th>\n",
       "      <td>2024-10-23 12:00:03</td>\n",
       "      <td>192.168.0.7</td>\n",
       "      <td>10.0.0.3</td>\n",
       "      <td>UDP</td>\n",
       "      <td>1754</td>\n",
       "      <td>3.09</td>\n",
       "      <td>443</td>\n",
       "      <td>443</td>\n",
       "      <td>1626</td>\n",
       "      <td>1703</td>\n",
       "      <td>...</td>\n",
       "      <td>256</td>\n",
       "      <td>37</td>\n",
       "      <td>44</td>\n",
       "      <td>128</td>\n",
       "      <td>256</td>\n",
       "      <td>985</td>\n",
       "      <td>1471</td>\n",
       "      <td>0</td>\n",
       "      <td>Ransomware</td>\n",
       "      <td>0</td>\n",
       "    </tr>\n",
       "    <tr>\n",
       "      <th>4</th>\n",
       "      <td>2024-10-23 12:00:04</td>\n",
       "      <td>192.168.0.1</td>\n",
       "      <td>10.0.0.4</td>\n",
       "      <td>UDP</td>\n",
       "      <td>1326</td>\n",
       "      <td>2.52</td>\n",
       "      <td>80</td>\n",
       "      <td>443</td>\n",
       "      <td>1851</td>\n",
       "      <td>771</td>\n",
       "      <td>...</td>\n",
       "      <td>1024</td>\n",
       "      <td>40</td>\n",
       "      <td>16</td>\n",
       "      <td>512</td>\n",
       "      <td>256</td>\n",
       "      <td>1877</td>\n",
       "      <td>595</td>\n",
       "      <td>1</td>\n",
       "      <td>Normal</td>\n",
       "      <td>1</td>\n",
       "    </tr>\n",
       "  </tbody>\n",
       "</table>\n",
       "<p>5 rows × 23 columns</p>\n",
       "</div>"
      ],
      "text/plain": [
       "            Timestamp    Source_IP Destination_IP Protocol  Packet_Length  \\\n",
       "0 2024-10-23 12:00:00  192.168.0.1    192.168.0.1     ICMP           1155   \n",
       "1 2024-10-23 12:00:01  192.168.0.7     172.16.0.5     ICMP           1776   \n",
       "2 2024-10-23 12:00:02  192.168.0.7       10.0.0.3      UDP            627   \n",
       "3 2024-10-23 12:00:03  192.168.0.7       10.0.0.3      UDP           1754   \n",
       "4 2024-10-23 12:00:04  192.168.0.1       10.0.0.4      UDP           1326   \n",
       "\n",
       "   Duration  Source_Port  Destination_Port  Bytes_Sent  Bytes_Received  ...  \\\n",
       "0      4.01           53                53         675             877  ...   \n",
       "1      3.75           22                22         297            1062  ...   \n",
       "2      4.24           80              8080         122             723  ...   \n",
       "3      3.09          443               443        1626            1703  ...   \n",
       "4      2.52           80               443        1851             771  ...   \n",
       "\n",
       "  Avg_Packet_Size  Total_Fwd_Packets  Total_Bwd_Packets  Fwd_Header_Length  \\\n",
       "0             512                 21                 34                256   \n",
       "1            1024                 14                 19                512   \n",
       "2             512                 10                 41                512   \n",
       "3             256                 37                 44                128   \n",
       "4            1024                 40                 16                512   \n",
       "\n",
       "   Bwd_Header_Length  Sub_Flow_Fwd_Bytes  Sub_Flow_Bwd_Bytes  Inbound  \\\n",
       "0                256                 697                1028        1   \n",
       "1                256                 513                1300        1   \n",
       "2                256                 250                 497        0   \n",
       "3                256                 985                1471        0   \n",
       "4                256                1877                 595        1   \n",
       "\n",
       "   Attack_Type  Label  \n",
       "0         DDoS      1  \n",
       "1         DDoS      1  \n",
       "2         DDoS      1  \n",
       "3   Ransomware      0  \n",
       "4       Normal      1  \n",
       "\n",
       "[5 rows x 23 columns]"
      ]
     },
     "execution_count": 10,
     "metadata": {},
     "output_type": "execute_result"
    }
   ],
   "source": [
    "df['Timestamp']=pd.to_datetime(df['Timestamp'])\n",
    "df.head()"
   ]
  },
  {
   "cell_type": "markdown",
   "id": "b5327b13",
   "metadata": {},
   "source": [
    "Label Encoding"
   ]
  },
  {
   "cell_type": "code",
   "execution_count": null,
   "id": "1098e3a2",
   "metadata": {},
   "outputs": [
    {
     "name": "stdout",
     "output_type": "stream",
     "text": [
      "   Packet_Length  Duration  Source_Port  Destination_Port  Bytes_Sent  \\\n",
      "0       0.550454  0.797959     0.003847          0.003847    0.308081   \n",
      "1       0.863774  0.744898     0.000000          0.000000    0.117172   \n",
      "2       0.284057  0.844898     0.007198          1.000000    0.028788   \n",
      "3       0.852674  0.610204     0.052246          0.052246    0.788384   \n",
      "4       0.636731  0.493878     0.007198          0.052246    0.902020   \n",
      "\n",
      "   Bytes_Received     Flags  Flow_Packets/s  Flow_Bytes/s  Avg_Packet_Size  \\\n",
      "0        0.410606  1.000000        0.930000      0.247985         0.466667   \n",
      "1        0.504040  0.000000        0.926667      0.513631         1.000000   \n",
      "2        0.332828  0.000000        0.076667      0.122657         0.466667   \n",
      "3        0.827778  0.333333        0.306667      0.930996         0.200000   \n",
      "4        0.357071  0.666667        0.206667      0.002927         1.000000   \n",
      "\n",
      "   Total_Fwd_Packets  Total_Bwd_Packets  Fwd_Header_Length  Bwd_Header_Length  \\\n",
      "0           0.282051           0.615385           0.333333           0.333333   \n",
      "1           0.102564           0.230769           1.000000           0.333333   \n",
      "2           0.000000           0.794872           1.000000           0.333333   \n",
      "3           0.692308           0.871795           0.000000           0.333333   \n",
      "4           0.769231           0.153846           1.000000           0.333333   \n",
      "\n",
      "   Sub_Flow_Fwd_Bytes  Sub_Flow_Bwd_Bytes  Inbound  Label           Timestamp  \n",
      "0            0.295775            0.469484      1.0      1 2024-10-23 12:00:00  \n",
      "1            0.199791            0.611372      1.0      1 2024-10-23 12:00:01  \n",
      "2            0.062598            0.192488      0.0      1 2024-10-23 12:00:02  \n",
      "3            0.446009            0.700574      0.0      0 2024-10-23 12:00:03  \n",
      "4            0.911320            0.243610      1.0      1 2024-10-23 12:00:04  \n"
     ]
    }
   ],
   "source": [
    "columns_to_drop = ['Source_IP', 'Destination_IP', 'Protocol', 'Attack_Type']\n",
    "df_cleaned = df.drop(columns=columns_to_drop)\n",
    "\n",
    "#  Encode 'Flags' column (categorical)\n",
    "if df_cleaned['Flags'].dtype == 'object':\n",
    "    df_cleaned['Flags'] = LabelEncoder().fit_transform(df_cleaned['Flags'])\n",
    "\n",
    "#  Fill missing values with median (robust strategy)\n",
    "df_cleaned.fillna(df_cleaned.median(numeric_only=True), inplace=True)\n",
    "\n",
    "#  Normalize numeric features \n",
    "features = df_cleaned.drop(columns=['Timestamp', 'Label'])\n",
    "scaler = MinMaxScaler()\n",
    "scaled_features = scaler.fit_transform(features)\n",
    "\n",
    "# Create final normalized DataFrame\n",
    "scaled_df = pd.DataFrame(scaled_features, columns=features.columns)\n",
    "scaled_df['Label'] = df_cleaned['Label'].values\n",
    "scaled_df['Timestamp'] = df_cleaned['Timestamp'].values\n",
    "\n",
    "# Preview the final preprocessed dataset\n",
    "print(scaled_df.head())"
   ]
  },
  {
   "cell_type": "markdown",
   "id": "c5e2b3c5",
   "metadata": {},
   "source": [
    "Threat Detection:\n",
    "\n",
    "RNN learns time-series patterns and detects deviations.\n",
    "\n",
    "Isolation Forest identifies rare behaviors as potential threats.\n",
    "\n",
    "Combined results labeled threats (binary flag)."
   ]
  },
  {
   "cell_type": "markdown",
   "id": "64b0d212",
   "metadata": {},
   "source": [
    "# Isolation Forest for Anomaly Detection"
   ]
  },
  {
   "cell_type": "code",
   "execution_count": null,
   "id": "26ce3a80",
   "metadata": {},
   "outputs": [
    {
     "name": "stdout",
     "output_type": "stream",
     "text": [
      " Isolation Forest Threat Detection Summary:\n",
      " Normal samples: 1358\n",
      " Detected threats (anomalies): 72\n"
     ]
    }
   ],
   "source": [
    "from sklearn.ensemble import IsolationForest\n",
    "import numpy as np\n",
    "\n",
    "# Select only the scaled numeric features \n",
    "iso_features = scaled_df.drop(columns=['Label', 'Timestamp'])\n",
    "\n",
    "# Train Isolation Forest\n",
    "iso_forest = IsolationForest(contamination=0.05, random_state=42)\n",
    "scaled_df['iso_anomaly'] = iso_forest.fit_predict(iso_features)\n",
    "\n",
    "# Convert predictions to binary\n",
    "scaled_df['iso_anomaly'] = np.where(scaled_df['iso_anomaly'] == -1, 1, 0)\n",
    "\n",
    "# Results\n",
    "anomaly_counts = scaled_df['iso_anomaly'].value_counts()\n",
    "print(\" Isolation Forest Threat Detection Summary:\")\n",
    "print(f\" Normal samples: {anomaly_counts[0]}\")\n",
    "print(f\" Detected threats (anomalies): {anomaly_counts[1]}\")\n"
   ]
  },
  {
   "cell_type": "markdown",
   "id": "b11edb72",
   "metadata": {},
   "source": [
    "# RNN model"
   ]
  },
  {
   "cell_type": "code",
   "execution_count": 13,
   "id": "a78964a3",
   "metadata": {},
   "outputs": [
    {
     "name": "stdout",
     "output_type": "stream",
     "text": [
      "Defaulting to user installation because normal site-packages is not writeable\n",
      "Requirement already satisfied: torch in c:\\users\\admin\\appdata\\roaming\\python\\python313\\site-packages (2.7.0)\n",
      "Requirement already satisfied: torchvision in c:\\users\\admin\\appdata\\roaming\\python\\python313\\site-packages (0.22.0)\n",
      "Collecting torchaudio\n",
      "  Downloading torchaudio-2.7.1-cp313-cp313-win_amd64.whl.metadata (6.6 kB)\n",
      "Requirement already satisfied: filelock in c:\\users\\admin\\appdata\\roaming\\python\\python313\\site-packages (from torch) (3.18.0)\n",
      "Requirement already satisfied: typing-extensions>=4.10.0 in c:\\users\\admin\\appdata\\roaming\\python\\python313\\site-packages (from torch) (4.13.2)\n",
      "Requirement already satisfied: sympy>=1.13.3 in c:\\users\\admin\\appdata\\roaming\\python\\python313\\site-packages (from torch) (1.14.0)\n",
      "Requirement already satisfied: networkx in c:\\users\\admin\\appdata\\roaming\\python\\python313\\site-packages (from torch) (3.4.2)\n",
      "Requirement already satisfied: jinja2 in c:\\users\\admin\\appdata\\roaming\\python\\python313\\site-packages (from torch) (3.1.6)\n",
      "Requirement already satisfied: fsspec in c:\\users\\admin\\appdata\\roaming\\python\\python313\\site-packages (from torch) (2025.5.0)\n",
      "Requirement already satisfied: setuptools in c:\\users\\admin\\appdata\\roaming\\python\\python313\\site-packages (from torch) (80.8.0)\n",
      "Requirement already satisfied: numpy in c:\\users\\admin\\appdata\\roaming\\python\\python313\\site-packages (from torchvision) (2.1.3)\n",
      "Requirement already satisfied: pillow!=8.3.*,>=5.3.0 in c:\\users\\admin\\appdata\\roaming\\python\\python313\\site-packages (from torchvision) (11.2.1)\n",
      "INFO: pip is looking at multiple versions of torchaudio to determine which version is compatible with other requirements. This could take a while.\n",
      "  Downloading torchaudio-2.7.0-cp313-cp313-win_amd64.whl.metadata (6.7 kB)\n",
      "Requirement already satisfied: mpmath<1.4,>=1.1.0 in c:\\users\\admin\\appdata\\roaming\\python\\python313\\site-packages (from sympy>=1.13.3->torch) (1.3.0)\n",
      "Requirement already satisfied: MarkupSafe>=2.0 in c:\\users\\admin\\appdata\\roaming\\python\\python313\\site-packages (from jinja2->torch) (3.0.2)\n",
      "Downloading torchaudio-2.7.0-cp313-cp313-win_amd64.whl (2.5 MB)\n",
      "   ---------------------------------------- 0.0/2.5 MB ? eta -:--:--\n",
      "   ---- ----------------------------------- 0.3/2.5 MB ? eta -:--:--\n",
      "   ---------------- ----------------------- 1.0/2.5 MB 3.0 MB/s eta 0:00:01\n",
      "   ----------------------------- ---------- 1.8/2.5 MB 3.4 MB/s eta 0:00:01\n",
      "   ------------------------------------- -- 2.4/2.5 MB 3.4 MB/s eta 0:00:01\n",
      "   ---------------------------------------- 2.5/2.5 MB 3.1 MB/s eta 0:00:00\n",
      "Installing collected packages: torchaudio\n",
      "Successfully installed torchaudio-2.7.0\n"
     ]
    }
   ],
   "source": [
    "!pip install torch torchvision torchaudio\n"
   ]
  },
  {
   "cell_type": "code",
   "execution_count": 14,
   "id": "e2128e02",
   "metadata": {},
   "outputs": [
    {
     "name": "stdout",
     "output_type": "stream",
     "text": [
      "Epoch 1/5 - Loss: 0.1278\n",
      "Epoch 2/5 - Loss: 0.1223\n",
      "Epoch 3/5 - Loss: 0.1200\n",
      "Epoch 4/5 - Loss: 0.1134\n",
      "Epoch 5/5 - Loss: 0.1207\n",
      "RNN Detected 15 anomalies out of 284 samples.\n"
     ]
    }
   ],
   "source": [
    "import torch\n",
    "import torch.nn as nn\n",
    "from sklearn.model_selection import train_test_split\n",
    "from torch.utils.data import DataLoader, TensorDataset\n",
    "import numpy as np\n",
    "\n",
    "\n",
    "# Sort data by timestamp\n",
    "scaled_df = scaled_df.sort_values(by='Timestamp')\n",
    "\n",
    "# Use only scaled numerical features\n",
    "rnn_features = scaled_df.drop(columns=['Label', 'Timestamp', 'iso_anomaly']).values\n",
    "\n",
    "# Sequence building\n",
    "SEQ_LEN = 10\n",
    "X_seq, y_seq = [], []\n",
    "for i in range(len(rnn_features) - SEQ_LEN):\n",
    "    X_seq.append(rnn_features[i:i+SEQ_LEN])\n",
    "    y_seq.append(rnn_features[i+SEQ_LEN])\n",
    "\n",
    "X_seq = np.array(X_seq)\n",
    "y_seq = np.array(y_seq)\n",
    "\n",
    "# Train-test split\n",
    "X_train, X_test, y_train, y_test = train_test_split(X_seq, y_seq, test_size=0.2, random_state=42)\n",
    "\n",
    "# Convert to tensors\n",
    "train_dataset = TensorDataset(torch.Tensor(X_train), torch.Tensor(y_train))\n",
    "test_dataset = TensorDataset(torch.Tensor(X_test), torch.Tensor(y_test))\n",
    "train_loader = DataLoader(train_dataset, batch_size=32, shuffle=True)\n",
    "test_loader = DataLoader(test_dataset, batch_size=32)\n",
    "\n",
    "# Define LSTM model\n",
    "class LSTMAnomalyDetector(nn.Module):\n",
    "    def __init__(self, input_size, hidden_size=64):\n",
    "        super().__init__()\n",
    "        self.lstm = nn.LSTM(input_size, hidden_size, batch_first=True)\n",
    "        self.fc = nn.Linear(hidden_size, input_size)\n",
    "\n",
    "    def forward(self, x):\n",
    "        _, (h_n, _) = self.lstm(x)\n",
    "        return self.fc(h_n.squeeze(0))\n",
    "\n",
    "# Model setup\n",
    "input_size = X_seq.shape[2]\n",
    "model = LSTMAnomalyDetector(input_size)\n",
    "criterion = nn.MSELoss()\n",
    "optimizer = torch.optim.Adam(model.parameters(), lr=0.001)\n",
    "\n",
    "# Train model\n",
    "EPOCHS = 5\n",
    "for epoch in range(EPOCHS):\n",
    "    model.train()\n",
    "    for X_batch, y_batch in train_loader:\n",
    "        optimizer.zero_grad()\n",
    "        y_pred = model(X_batch)\n",
    "        loss = criterion(y_pred, y_batch)\n",
    "        loss.backward()\n",
    "        optimizer.step()\n",
    "    print(f\"Epoch {epoch+1}/{EPOCHS} - Loss: {loss.item():.4f}\")\n",
    "\n",
    "# Evaluate reconstruction errors\n",
    "model.eval()\n",
    "recon_errors = []\n",
    "with torch.no_grad():\n",
    "    for X_batch, y_batch in test_loader:\n",
    "        y_pred = model(X_batch)\n",
    "        error = torch.mean((y_pred - y_batch)**2, dim=1)\n",
    "        recon_errors.extend(error.numpy())\n",
    "\n",
    "# Anomaly threshold\n",
    "threshold = np.percentile(recon_errors, 95)\n",
    "rnn_anomalies = np.array(recon_errors) > threshold\n",
    "print(f\" RNN Detected {np.sum(rnn_anomalies)} anomalies out of {len(rnn_anomalies)} samples.\")\n"
   ]
  },
  {
   "cell_type": "markdown",
   "id": "b13dd226",
   "metadata": {},
   "source": [
    "# Simulate MARL threat mitigation"
   ]
  },
  {
   "cell_type": "code",
   "execution_count": null,
   "id": "fae7a8f2",
   "metadata": {},
   "outputs": [
    {
     "name": "stdout",
     "output_type": "stream",
     "text": [
      "Threats BEFORE mitigation: 72\n",
      "Threats AFTER mitigation: 9\n"
     ]
    }
   ],
   "source": [
    "scaled_df['rnn_anomaly'] = scaled_df['iso_anomaly'].copy()\n",
    "\n",
    "# Mark as a threat if either RNN or Isolation Forest detects it\n",
    "scaled_df['threat'] = ((scaled_df['iso_anomaly'] == 1) | (scaled_df['rnn_anomaly'] == 1)).astype(int)\n",
    "\n",
    "# Simulate MARL mitigation \n",
    "np.random.seed(42)\n",
    "scaled_df['mitigated'] = scaled_df['threat'].apply(\n",
    "    lambda x: 1 if x == 1 and np.random.rand() < 0.9 else 0 if x == 1 else np.nan\n",
    ")\n",
    "\n",
    "# Update system state after mitigation\n",
    "scaled_df['post_threat'] = scaled_df.apply(\n",
    "    lambda row: 0 if row['threat'] == 1 and row['mitigated'] == 1 else row['threat'], axis=1\n",
    ")\n",
    "\n",
    "# Summary\n",
    "before_threats = scaled_df['threat'].sum()\n",
    "after_threats = scaled_df['post_threat'].sum()\n",
    "\n",
    "print(f\" Threats BEFORE mitigation: {int(before_threats)}\")\n",
    "print(f\" Threats AFTER mitigation: {int(after_threats)}\")\n",
    "\n"
   ]
  },
  {
   "cell_type": "markdown",
   "id": "ec3badc6",
   "metadata": {},
   "source": [
    "# Threat Mitigation Optimization\n",
    "\n",
    "Objective: Maximize threat severity mitigated under:\n",
    "\n",
    " Budget Constraint (Total response cost ≤ budget)\n",
    "\n",
    " Resource Constraint (Total resource units ≤ max available)\n",
    "\n",
    "# Tool: scipy.optimize.linprog (linear programming)"
   ]
  },
  {
   "cell_type": "code",
   "execution_count": 46,
   "id": "dfe1aa14",
   "metadata": {},
   "outputs": [
    {
     "name": "stdout",
     "output_type": "stream",
     "text": [
      "   iso_anomaly  rnn_anomaly  threat  threat_severity  response_cost  \\\n",
      "0            1            1       1                7              2   \n",
      "1            1            1       1                4              3   \n",
      "2            0            0       0                0              0   \n",
      "3            1            1       1                5              2   \n",
      "4            1            1       1                7              4   \n",
      "\n",
      "   resource_required  \n",
      "0                  2  \n",
      "1                  2  \n",
      "2                  0  \n",
      "3                  2  \n",
      "4                  2  \n"
     ]
    }
   ],
   "source": [
    "df_clean = df.dropna()  # Drop missing values\n",
    "df_clean = df_clean.select_dtypes(include=[np.number])  # Use numerical columns only\n",
    "\n",
    "# Step 4: Simulate anomaly detection\n",
    "df_clean['iso_anomaly'] = (df_clean[df_clean.columns[0]] > df_clean[df_clean.columns[0]].mean()).astype(int)\n",
    "df_clean['rnn_anomaly'] = df_clean['iso_anomaly'].copy()\n",
    "df_clean['threat'] = ((df_clean['iso_anomaly'] == 1) | (df_clean['rnn_anomaly'] == 1)).astype(int)\n",
    "\n",
    "# Step 5: Simulate business optimization parameters\n",
    "np.random.seed(42)\n",
    "df_clean['threat_severity'] = np.random.randint(1, 10, size=len(df_clean)) * df_clean['threat']\n",
    "df_clean['response_cost'] = np.random.randint(1, 5, size=len(df_clean)) * df_clean['threat']\n",
    "df_clean['resource_required'] = np.random.randint(1, 3, size=len(df_clean)) * df_clean['threat']\n",
    "\n",
    "# Step 6: View the processed dataset (optional)\n",
    "print(df_clean[['iso_anomaly', 'rnn_anomaly', 'threat', 'threat_severity', 'response_cost', 'resource_required']].head())\n"
   ]
  },
  {
   "cell_type": "markdown",
   "id": "2c0d0c24",
   "metadata": {},
   "source": [
    "For optimization"
   ]
  },
  {
   "cell_type": "code",
   "execution_count": null,
   "id": "300d14f8",
   "metadata": {},
   "outputs": [
    {
     "name": "stdout",
     "output_type": "stream",
     "text": [
      "   iso_anomaly  rnn_anomaly  threat  threat_severity  response_cost  \\\n",
      "0            1            1       1                7              2   \n",
      "1            1            1       1                4              3   \n",
      "2            0            0       0                0              0   \n",
      "3            1            1       1                5              2   \n",
      "4            1            1       1                7              4   \n",
      "\n",
      "   resource_required  \n",
      "0                  2  \n",
      "1                  2  \n",
      "2                  0  \n",
      "3                  2  \n",
      "4                  2  \n"
     ]
    }
   ],
   "source": [
    "\n",
    "df_clean = df.dropna()  # Drop missing values\n",
    "df_clean = df_clean.select_dtypes(include=[np.number])  # Use numerical columns only\n",
    "\n",
    "#Simulate anomaly detection\n",
    "df_clean['iso_anomaly'] = (df_clean[df_clean.columns[0]] > df_clean[df_clean.columns[0]].mean()).astype(int)\n",
    "df_clean['rnn_anomaly'] = df_clean['iso_anomaly'].copy()\n",
    "df_clean['threat'] = ((df_clean['iso_anomaly'] == 1) | (df_clean['rnn_anomaly'] == 1)).astype(int)\n",
    "\n",
    "# Simulate business optimization parameters\n",
    "np.random.seed(42)\n",
    "df_clean['threat_severity'] = np.random.randint(1, 10, size=len(df_clean)) * df_clean['threat']\n",
    "df_clean['response_cost'] = np.random.randint(1, 5, size=len(df_clean)) * df_clean['threat']\n",
    "df_clean['resource_required'] = np.random.randint(1, 3, size=len(df_clean)) * df_clean['threat']\n",
    "\n",
    "# View the processed dataset \n",
    "print(df_clean[['iso_anomaly', 'rnn_anomaly', 'threat', 'threat_severity', 'response_cost', 'resource_required']].head())\n"
   ]
  },
  {
   "cell_type": "code",
   "execution_count": null,
   "id": "5fb45cb7",
   "metadata": {},
   "outputs": [
    {
     "name": "stdout",
     "output_type": "stream",
     "text": [
      "All columns prepared: iso_anomaly, rnn_anomaly, threat, mitigated, post_threat\n"
     ]
    }
   ],
   "source": [
    "\n",
    "df = df.dropna()\n",
    "df = df.select_dtypes(include=[np.number])\n",
    "df['iso_anomaly'] = (df[df.columns[0]] > df[df.columns[0]].mean()).astype(int)\n",
    "df['rnn_anomaly'] = df['iso_anomaly'].copy()\n",
    "\n",
    "# Combine both anomalies to detect threats\n",
    "df['threat'] = ((df['iso_anomaly'] == 1) | (df['rnn_anomaly'] == 1)).astype(int)\n",
    "\n",
    "# Simulate MARL mitigation (90% success chance)\n",
    "np.random.seed(42)\n",
    "df['mitigated'] = df['threat'].apply(\n",
    "    lambda x: 1 if x == 1 and np.random.rand() < 0.9 else 0 if x == 1 else np.nan\n",
    ")\n",
    "\n",
    "# Final system state after mitigation\n",
    "df['post_threat'] = df.apply(\n",
    "    lambda row: 0 if row['threat'] == 1 and row['mitigated'] == 1 else row['threat'], axis=1\n",
    ")\n",
    "\n",
    "# Results\n",
    "print(\"✅ All columns prepared: iso_anomaly, rnn_anomaly, threat, mitigated, post_threat\")\n"
   ]
  },
  {
   "cell_type": "code",
   "execution_count": null,
   "id": "c2001786",
   "metadata": {},
   "outputs": [],
   "source": [
    "df['rnn_anomaly'] = df['iso_anomaly'].copy()\n",
    "\n",
    "# Mark threat if either RNN or Isolation Forest detects it\n",
    "df['threat'] = ((df['iso_anomaly'] == 1) | (df['rnn_anomaly'] == 1)).astype(int)\n",
    "\n",
    "# Simulate MARL mitigation success\n",
    "np.random.seed(42)\n",
    "df['mitigated'] = df['threat'].apply(\n",
    "    lambda x: 1 if x == 1 and np.random.rand() < 0.9 else 0 if x == 1 else np.nan\n",
    ")\n",
    "\n",
    "# Final post-threat state\n",
    "df['post_threat'] = df.apply(\n",
    "    lambda row: 0 if row['threat'] == 1 and row['mitigated'] == 1 else row['threat'], axis=1\n",
    ")\n"
   ]
  },
  {
   "cell_type": "markdown",
   "id": "877e67f8",
   "metadata": {},
   "source": [
    "# Optimization code"
   ]
  },
  {
   "cell_type": "code",
   "execution_count": 33,
   "id": "1ef57307",
   "metadata": {},
   "outputs": [
    {
     "name": "stdout",
     "output_type": "stream",
     "text": [
      "Defaulting to user installation because normal site-packages is not writeable\n",
      "Requirement already satisfied: pulp in c:\\users\\admin\\appdata\\roaming\\python\\python313\\site-packages (3.2.1)\n"
     ]
    }
   ],
   "source": [
    "!pip install pulp"
   ]
  },
  {
   "cell_type": "code",
   "execution_count": 53,
   "id": "db59a7dd",
   "metadata": {},
   "outputs": [
    {
     "name": "stdout",
     "output_type": "stream",
     "text": [
      "Avg cost: 2.5069832402234637\n",
      "Max cost: 4\n",
      "Avg resource: 1.5\n",
      "Max resource: 2\n"
     ]
    }
   ],
   "source": [
    "print(\"Avg cost:\", threat_df['response_cost'].mean())\n",
    "print(\"Max cost:\", threat_df['response_cost'].max())\n",
    "print(\"Avg resource:\", threat_df['resource_required'].mean())\n",
    "print(\"Max resource:\", threat_df['resource_required'].max())\n"
   ]
  },
  {
   "cell_type": "code",
   "execution_count": 54,
   "id": "ff5d7c3a",
   "metadata": {},
   "outputs": [
    {
     "data": {
      "text/html": [
       "<div>\n",
       "<style scoped>\n",
       "    .dataframe tbody tr th:only-of-type {\n",
       "        vertical-align: middle;\n",
       "    }\n",
       "\n",
       "    .dataframe tbody tr th {\n",
       "        vertical-align: top;\n",
       "    }\n",
       "\n",
       "    .dataframe thead th {\n",
       "        text-align: right;\n",
       "    }\n",
       "</style>\n",
       "<table border=\"1\" class=\"dataframe\">\n",
       "  <thead>\n",
       "    <tr style=\"text-align: right;\">\n",
       "      <th></th>\n",
       "      <th>threat_severity</th>\n",
       "      <th>response_cost</th>\n",
       "      <th>resource_required</th>\n",
       "      <th>mitigated</th>\n",
       "    </tr>\n",
       "  </thead>\n",
       "  <tbody>\n",
       "    <tr>\n",
       "      <th>0</th>\n",
       "      <td>7</td>\n",
       "      <td>2</td>\n",
       "      <td>2</td>\n",
       "      <td>1.0</td>\n",
       "    </tr>\n",
       "    <tr>\n",
       "      <th>1</th>\n",
       "      <td>4</td>\n",
       "      <td>3</td>\n",
       "      <td>2</td>\n",
       "      <td>1.0</td>\n",
       "    </tr>\n",
       "    <tr>\n",
       "      <th>3</th>\n",
       "      <td>5</td>\n",
       "      <td>2</td>\n",
       "      <td>2</td>\n",
       "      <td>1.0</td>\n",
       "    </tr>\n",
       "    <tr>\n",
       "      <th>4</th>\n",
       "      <td>7</td>\n",
       "      <td>4</td>\n",
       "      <td>2</td>\n",
       "      <td>1.0</td>\n",
       "    </tr>\n",
       "    <tr>\n",
       "      <th>5</th>\n",
       "      <td>3</td>\n",
       "      <td>3</td>\n",
       "      <td>2</td>\n",
       "      <td>1.0</td>\n",
       "    </tr>\n",
       "    <tr>\n",
       "      <th>8</th>\n",
       "      <td>5</td>\n",
       "      <td>1</td>\n",
       "      <td>1</td>\n",
       "      <td>1.0</td>\n",
       "    </tr>\n",
       "    <tr>\n",
       "      <th>9</th>\n",
       "      <td>4</td>\n",
       "      <td>4</td>\n",
       "      <td>1</td>\n",
       "      <td>1.0</td>\n",
       "    </tr>\n",
       "    <tr>\n",
       "      <th>10</th>\n",
       "      <td>8</td>\n",
       "      <td>2</td>\n",
       "      <td>2</td>\n",
       "      <td>1.0</td>\n",
       "    </tr>\n",
       "    <tr>\n",
       "      <th>12</th>\n",
       "      <td>3</td>\n",
       "      <td>4</td>\n",
       "      <td>1</td>\n",
       "      <td>1.0</td>\n",
       "    </tr>\n",
       "    <tr>\n",
       "      <th>15</th>\n",
       "      <td>2</td>\n",
       "      <td>3</td>\n",
       "      <td>2</td>\n",
       "      <td>1.0</td>\n",
       "    </tr>\n",
       "  </tbody>\n",
       "</table>\n",
       "</div>"
      ],
      "text/plain": [
       "    threat_severity  response_cost  resource_required  mitigated\n",
       "0                 7              2                  2        1.0\n",
       "1                 4              3                  2        1.0\n",
       "3                 5              2                  2        1.0\n",
       "4                 7              4                  2        1.0\n",
       "5                 3              3                  2        1.0\n",
       "8                 5              1                  1        1.0\n",
       "9                 4              4                  1        1.0\n",
       "10                8              2                  2        1.0\n",
       "12                3              4                  1        1.0\n",
       "15                2              3                  2        1.0"
      ]
     },
     "execution_count": 54,
     "metadata": {},
     "output_type": "execute_result"
    }
   ],
   "source": [
    "sample_df = threat_df.head(10).copy()\n",
    "n = len(sample_df)\n",
    "c = -1 * sample_df['threat_severity'].values\n",
    "A = [\n",
    "    sample_df['response_cost'].values,\n",
    "    sample_df['resource_required'].values\n",
    "]\n",
    "b = [500, 200]\n",
    "x_bounds = [(0, 1) for _ in range(n)]\n",
    "res = linprog(c=c, A_ub=A, b_ub=b, bounds=x_bounds, method='highs')\n",
    "sample_df['mitigated'] = np.round(res.x)\n",
    "sample_df[['threat_severity', 'response_cost', 'resource_required', 'mitigated']]\n"
   ]
  },
  {
   "cell_type": "markdown",
   "id": "365adbcb",
   "metadata": {},
   "source": [
    "# Interactive Graphical Representation of the outcome"
   ]
  },
  {
   "cell_type": "markdown",
   "id": "36f54bfb",
   "metadata": {},
   "source": [
    "Visualizations:\n",
    "\n",
    "\n",
    "Interactive Plotly charts:\n",
    "\n",
    "1. Threat count before vs after\n",
    "\n",
    "2. Mitigation status\n",
    "\n",
    "3. Resource vs Response Cost\n",
    "\n",
    "4. Threat Severity vs Response Cost\n",
    "\n",
    "5. Cost efficiency"
   ]
  },
  {
   "cell_type": "code",
   "execution_count": null,
   "id": "e9fe2dae",
   "metadata": {},
   "outputs": [
    {
     "data": {
      "application/vnd.plotly.v1+json": {
       "config": {
        "plotlyServerURL": "https://plot.ly"
       },
       "data": [
        {
         "marker": {
          "color": "indianred"
         },
         "name": "Before Mitigation",
         "type": "bar",
         "x": [
          "Threats"
         ],
         "y": [
          171
         ]
        },
        {
         "marker": {
          "color": "seagreen"
         },
         "name": "After Mitigation",
         "type": "bar",
         "x": [
          "Threats"
         ],
         "y": [
          16
         ]
        }
       ],
       "layout": {
        "barmode": "group",
        "template": {
         "data": {
          "bar": [
           {
            "error_x": {
             "color": "#2a3f5f"
            },
            "error_y": {
             "color": "#2a3f5f"
            },
            "marker": {
             "line": {
              "color": "#E5ECF6",
              "width": 0.5
             },
             "pattern": {
              "fillmode": "overlay",
              "size": 10,
              "solidity": 0.2
             }
            },
            "type": "bar"
           }
          ],
          "barpolar": [
           {
            "marker": {
             "line": {
              "color": "#E5ECF6",
              "width": 0.5
             },
             "pattern": {
              "fillmode": "overlay",
              "size": 10,
              "solidity": 0.2
             }
            },
            "type": "barpolar"
           }
          ],
          "carpet": [
           {
            "aaxis": {
             "endlinecolor": "#2a3f5f",
             "gridcolor": "white",
             "linecolor": "white",
             "minorgridcolor": "white",
             "startlinecolor": "#2a3f5f"
            },
            "baxis": {
             "endlinecolor": "#2a3f5f",
             "gridcolor": "white",
             "linecolor": "white",
             "minorgridcolor": "white",
             "startlinecolor": "#2a3f5f"
            },
            "type": "carpet"
           }
          ],
          "choropleth": [
           {
            "colorbar": {
             "outlinewidth": 0,
             "ticks": ""
            },
            "type": "choropleth"
           }
          ],
          "contour": [
           {
            "colorbar": {
             "outlinewidth": 0,
             "ticks": ""
            },
            "colorscale": [
             [
              0,
              "#0d0887"
             ],
             [
              0.1111111111111111,
              "#46039f"
             ],
             [
              0.2222222222222222,
              "#7201a8"
             ],
             [
              0.3333333333333333,
              "#9c179e"
             ],
             [
              0.4444444444444444,
              "#bd3786"
             ],
             [
              0.5555555555555556,
              "#d8576b"
             ],
             [
              0.6666666666666666,
              "#ed7953"
             ],
             [
              0.7777777777777778,
              "#fb9f3a"
             ],
             [
              0.8888888888888888,
              "#fdca26"
             ],
             [
              1,
              "#f0f921"
             ]
            ],
            "type": "contour"
           }
          ],
          "contourcarpet": [
           {
            "colorbar": {
             "outlinewidth": 0,
             "ticks": ""
            },
            "type": "contourcarpet"
           }
          ],
          "heatmap": [
           {
            "colorbar": {
             "outlinewidth": 0,
             "ticks": ""
            },
            "colorscale": [
             [
              0,
              "#0d0887"
             ],
             [
              0.1111111111111111,
              "#46039f"
             ],
             [
              0.2222222222222222,
              "#7201a8"
             ],
             [
              0.3333333333333333,
              "#9c179e"
             ],
             [
              0.4444444444444444,
              "#bd3786"
             ],
             [
              0.5555555555555556,
              "#d8576b"
             ],
             [
              0.6666666666666666,
              "#ed7953"
             ],
             [
              0.7777777777777778,
              "#fb9f3a"
             ],
             [
              0.8888888888888888,
              "#fdca26"
             ],
             [
              1,
              "#f0f921"
             ]
            ],
            "type": "heatmap"
           }
          ],
          "heatmapgl": [
           {
            "colorbar": {
             "outlinewidth": 0,
             "ticks": ""
            },
            "colorscale": [
             [
              0,
              "#0d0887"
             ],
             [
              0.1111111111111111,
              "#46039f"
             ],
             [
              0.2222222222222222,
              "#7201a8"
             ],
             [
              0.3333333333333333,
              "#9c179e"
             ],
             [
              0.4444444444444444,
              "#bd3786"
             ],
             [
              0.5555555555555556,
              "#d8576b"
             ],
             [
              0.6666666666666666,
              "#ed7953"
             ],
             [
              0.7777777777777778,
              "#fb9f3a"
             ],
             [
              0.8888888888888888,
              "#fdca26"
             ],
             [
              1,
              "#f0f921"
             ]
            ],
            "type": "heatmapgl"
           }
          ],
          "histogram": [
           {
            "marker": {
             "pattern": {
              "fillmode": "overlay",
              "size": 10,
              "solidity": 0.2
             }
            },
            "type": "histogram"
           }
          ],
          "histogram2d": [
           {
            "colorbar": {
             "outlinewidth": 0,
             "ticks": ""
            },
            "colorscale": [
             [
              0,
              "#0d0887"
             ],
             [
              0.1111111111111111,
              "#46039f"
             ],
             [
              0.2222222222222222,
              "#7201a8"
             ],
             [
              0.3333333333333333,
              "#9c179e"
             ],
             [
              0.4444444444444444,
              "#bd3786"
             ],
             [
              0.5555555555555556,
              "#d8576b"
             ],
             [
              0.6666666666666666,
              "#ed7953"
             ],
             [
              0.7777777777777778,
              "#fb9f3a"
             ],
             [
              0.8888888888888888,
              "#fdca26"
             ],
             [
              1,
              "#f0f921"
             ]
            ],
            "type": "histogram2d"
           }
          ],
          "histogram2dcontour": [
           {
            "colorbar": {
             "outlinewidth": 0,
             "ticks": ""
            },
            "colorscale": [
             [
              0,
              "#0d0887"
             ],
             [
              0.1111111111111111,
              "#46039f"
             ],
             [
              0.2222222222222222,
              "#7201a8"
             ],
             [
              0.3333333333333333,
              "#9c179e"
             ],
             [
              0.4444444444444444,
              "#bd3786"
             ],
             [
              0.5555555555555556,
              "#d8576b"
             ],
             [
              0.6666666666666666,
              "#ed7953"
             ],
             [
              0.7777777777777778,
              "#fb9f3a"
             ],
             [
              0.8888888888888888,
              "#fdca26"
             ],
             [
              1,
              "#f0f921"
             ]
            ],
            "type": "histogram2dcontour"
           }
          ],
          "mesh3d": [
           {
            "colorbar": {
             "outlinewidth": 0,
             "ticks": ""
            },
            "type": "mesh3d"
           }
          ],
          "parcoords": [
           {
            "line": {
             "colorbar": {
              "outlinewidth": 0,
              "ticks": ""
             }
            },
            "type": "parcoords"
           }
          ],
          "pie": [
           {
            "automargin": true,
            "type": "pie"
           }
          ],
          "scatter": [
           {
            "fillpattern": {
             "fillmode": "overlay",
             "size": 10,
             "solidity": 0.2
            },
            "type": "scatter"
           }
          ],
          "scatter3d": [
           {
            "line": {
             "colorbar": {
              "outlinewidth": 0,
              "ticks": ""
             }
            },
            "marker": {
             "colorbar": {
              "outlinewidth": 0,
              "ticks": ""
             }
            },
            "type": "scatter3d"
           }
          ],
          "scattercarpet": [
           {
            "marker": {
             "colorbar": {
              "outlinewidth": 0,
              "ticks": ""
             }
            },
            "type": "scattercarpet"
           }
          ],
          "scattergeo": [
           {
            "marker": {
             "colorbar": {
              "outlinewidth": 0,
              "ticks": ""
             }
            },
            "type": "scattergeo"
           }
          ],
          "scattergl": [
           {
            "marker": {
             "colorbar": {
              "outlinewidth": 0,
              "ticks": ""
             }
            },
            "type": "scattergl"
           }
          ],
          "scattermapbox": [
           {
            "marker": {
             "colorbar": {
              "outlinewidth": 0,
              "ticks": ""
             }
            },
            "type": "scattermapbox"
           }
          ],
          "scatterpolar": [
           {
            "marker": {
             "colorbar": {
              "outlinewidth": 0,
              "ticks": ""
             }
            },
            "type": "scatterpolar"
           }
          ],
          "scatterpolargl": [
           {
            "marker": {
             "colorbar": {
              "outlinewidth": 0,
              "ticks": ""
             }
            },
            "type": "scatterpolargl"
           }
          ],
          "scatterternary": [
           {
            "marker": {
             "colorbar": {
              "outlinewidth": 0,
              "ticks": ""
             }
            },
            "type": "scatterternary"
           }
          ],
          "surface": [
           {
            "colorbar": {
             "outlinewidth": 0,
             "ticks": ""
            },
            "colorscale": [
             [
              0,
              "#0d0887"
             ],
             [
              0.1111111111111111,
              "#46039f"
             ],
             [
              0.2222222222222222,
              "#7201a8"
             ],
             [
              0.3333333333333333,
              "#9c179e"
             ],
             [
              0.4444444444444444,
              "#bd3786"
             ],
             [
              0.5555555555555556,
              "#d8576b"
             ],
             [
              0.6666666666666666,
              "#ed7953"
             ],
             [
              0.7777777777777778,
              "#fb9f3a"
             ],
             [
              0.8888888888888888,
              "#fdca26"
             ],
             [
              1,
              "#f0f921"
             ]
            ],
            "type": "surface"
           }
          ],
          "table": [
           {
            "cells": {
             "fill": {
              "color": "#EBF0F8"
             },
             "line": {
              "color": "white"
             }
            },
            "header": {
             "fill": {
              "color": "#C8D4E3"
             },
             "line": {
              "color": "white"
             }
            },
            "type": "table"
           }
          ]
         },
         "layout": {
          "annotationdefaults": {
           "arrowcolor": "#2a3f5f",
           "arrowhead": 0,
           "arrowwidth": 1
          },
          "autotypenumbers": "strict",
          "coloraxis": {
           "colorbar": {
            "outlinewidth": 0,
            "ticks": ""
           }
          },
          "colorscale": {
           "diverging": [
            [
             0,
             "#8e0152"
            ],
            [
             0.1,
             "#c51b7d"
            ],
            [
             0.2,
             "#de77ae"
            ],
            [
             0.3,
             "#f1b6da"
            ],
            [
             0.4,
             "#fde0ef"
            ],
            [
             0.5,
             "#f7f7f7"
            ],
            [
             0.6,
             "#e6f5d0"
            ],
            [
             0.7,
             "#b8e186"
            ],
            [
             0.8,
             "#7fbc41"
            ],
            [
             0.9,
             "#4d9221"
            ],
            [
             1,
             "#276419"
            ]
           ],
           "sequential": [
            [
             0,
             "#0d0887"
            ],
            [
             0.1111111111111111,
             "#46039f"
            ],
            [
             0.2222222222222222,
             "#7201a8"
            ],
            [
             0.3333333333333333,
             "#9c179e"
            ],
            [
             0.4444444444444444,
             "#bd3786"
            ],
            [
             0.5555555555555556,
             "#d8576b"
            ],
            [
             0.6666666666666666,
             "#ed7953"
            ],
            [
             0.7777777777777778,
             "#fb9f3a"
            ],
            [
             0.8888888888888888,
             "#fdca26"
            ],
            [
             1,
             "#f0f921"
            ]
           ],
           "sequentialminus": [
            [
             0,
             "#0d0887"
            ],
            [
             0.1111111111111111,
             "#46039f"
            ],
            [
             0.2222222222222222,
             "#7201a8"
            ],
            [
             0.3333333333333333,
             "#9c179e"
            ],
            [
             0.4444444444444444,
             "#bd3786"
            ],
            [
             0.5555555555555556,
             "#d8576b"
            ],
            [
             0.6666666666666666,
             "#ed7953"
            ],
            [
             0.7777777777777778,
             "#fb9f3a"
            ],
            [
             0.8888888888888888,
             "#fdca26"
            ],
            [
             1,
             "#f0f921"
            ]
           ]
          },
          "colorway": [
           "#636efa",
           "#EF553B",
           "#00cc96",
           "#ab63fa",
           "#FFA15A",
           "#19d3f3",
           "#FF6692",
           "#B6E880",
           "#FF97FF",
           "#FECB52"
          ],
          "font": {
           "color": "#2a3f5f"
          },
          "geo": {
           "bgcolor": "white",
           "lakecolor": "white",
           "landcolor": "#E5ECF6",
           "showlakes": true,
           "showland": true,
           "subunitcolor": "white"
          },
          "hoverlabel": {
           "align": "left"
          },
          "hovermode": "closest",
          "mapbox": {
           "style": "light"
          },
          "paper_bgcolor": "white",
          "plot_bgcolor": "#E5ECF6",
          "polar": {
           "angularaxis": {
            "gridcolor": "white",
            "linecolor": "white",
            "ticks": ""
           },
           "bgcolor": "#E5ECF6",
           "radialaxis": {
            "gridcolor": "white",
            "linecolor": "white",
            "ticks": ""
           }
          },
          "scene": {
           "xaxis": {
            "backgroundcolor": "#E5ECF6",
            "gridcolor": "white",
            "gridwidth": 2,
            "linecolor": "white",
            "showbackground": true,
            "ticks": "",
            "zerolinecolor": "white"
           },
           "yaxis": {
            "backgroundcolor": "#E5ECF6",
            "gridcolor": "white",
            "gridwidth": 2,
            "linecolor": "white",
            "showbackground": true,
            "ticks": "",
            "zerolinecolor": "white"
           },
           "zaxis": {
            "backgroundcolor": "#E5ECF6",
            "gridcolor": "white",
            "gridwidth": 2,
            "linecolor": "white",
            "showbackground": true,
            "ticks": "",
            "zerolinecolor": "white"
           }
          },
          "shapedefaults": {
           "line": {
            "color": "#2a3f5f"
           }
          },
          "ternary": {
           "aaxis": {
            "gridcolor": "white",
            "linecolor": "white",
            "ticks": ""
           },
           "baxis": {
            "gridcolor": "white",
            "linecolor": "white",
            "ticks": ""
           },
           "bgcolor": "#E5ECF6",
           "caxis": {
            "gridcolor": "white",
            "linecolor": "white",
            "ticks": ""
           }
          },
          "title": {
           "x": 0.05
          },
          "xaxis": {
           "automargin": true,
           "gridcolor": "white",
           "linecolor": "white",
           "ticks": "",
           "title": {
            "standoff": 15
           },
           "zerolinecolor": "white",
           "zerolinewidth": 2
          },
          "yaxis": {
           "automargin": true,
           "gridcolor": "white",
           "linecolor": "white",
           "ticks": "",
           "title": {
            "standoff": 15
           },
           "zerolinecolor": "white",
           "zerolinewidth": 2
          }
         }
        },
        "title": {
         "text": "Threats Before vs After MARL Mitigation (Bar)"
        }
       }
      }
     },
     "metadata": {},
     "output_type": "display_data"
    },
    {
     "data": {
      "application/vnd.plotly.v1+json": {
       "config": {
        "plotlyServerURL": "https://plot.ly"
       },
       "data": [
        {
         "marker": {
          "color": "red",
          "size": 6
         },
         "mode": "markers",
         "name": "Threat",
         "type": "scatter",
         "x": [
          0,
          1,
          2,
          3,
          4,
          5,
          6,
          7,
          8,
          9,
          10,
          11,
          12,
          13,
          14,
          15,
          16,
          17,
          18,
          19,
          20,
          21,
          22,
          23,
          24,
          25,
          26,
          27,
          28,
          29,
          30,
          31,
          32,
          33,
          34,
          35,
          36,
          37,
          38,
          39,
          40,
          41,
          42,
          43,
          44,
          45,
          46,
          47,
          48,
          49,
          50,
          51,
          52,
          53,
          54,
          55,
          56,
          57,
          58,
          59,
          60,
          61,
          62,
          63,
          64,
          65,
          66,
          67,
          68,
          69,
          70,
          71,
          72,
          73,
          74,
          75,
          76,
          77,
          78,
          79,
          80,
          81,
          82,
          83,
          84,
          85,
          86,
          87,
          88,
          89,
          90,
          91,
          92,
          93,
          94,
          95,
          96,
          97,
          98,
          99,
          100,
          101,
          102,
          103,
          104,
          105,
          106,
          107,
          108,
          109,
          110,
          111,
          112,
          113,
          114,
          115,
          116,
          117,
          118,
          119,
          120,
          121,
          122,
          123,
          124,
          125,
          126,
          127,
          128,
          129,
          130,
          131,
          132,
          133,
          134,
          135,
          136,
          137,
          138,
          139,
          140,
          141,
          142,
          143,
          144,
          145,
          146,
          147,
          148,
          149,
          150,
          151,
          152,
          153,
          154,
          155,
          156,
          157,
          158,
          159,
          160,
          161,
          162,
          163,
          164,
          165,
          166,
          167,
          168,
          169,
          170,
          171,
          172,
          173,
          174,
          175,
          176,
          177,
          178,
          179,
          180,
          181,
          182,
          183,
          184,
          185,
          186,
          187,
          188,
          189,
          190,
          191,
          192,
          193,
          194,
          195,
          196,
          197,
          198,
          199,
          200,
          201,
          202,
          203,
          204,
          205,
          206,
          207,
          208,
          209,
          210,
          211,
          212,
          213,
          214,
          215,
          216,
          217,
          218,
          219,
          220,
          221,
          222,
          223,
          224,
          225,
          226,
          227,
          228,
          229,
          230,
          231,
          232,
          233,
          234,
          235,
          236,
          237,
          238,
          239,
          240,
          241,
          242,
          243,
          244,
          245,
          246,
          247,
          248,
          249,
          250,
          251,
          252,
          253,
          254,
          255,
          256,
          257,
          258,
          259,
          260,
          261,
          262,
          263,
          264,
          265,
          266,
          267,
          268,
          269,
          270,
          271,
          272,
          273,
          274,
          275,
          276,
          277,
          278,
          279,
          280,
          281,
          282,
          283,
          284,
          285,
          286,
          287,
          288,
          289,
          290,
          291,
          292,
          293,
          294,
          295,
          296,
          297,
          298,
          299,
          300,
          301,
          302,
          303,
          304,
          305,
          306,
          307,
          308,
          309,
          310,
          311,
          312,
          313,
          314,
          315,
          316,
          317,
          318,
          319,
          320,
          321,
          322,
          323,
          324,
          325,
          326,
          327,
          328,
          329,
          330,
          331,
          332,
          333,
          334,
          335,
          336,
          337,
          338,
          339,
          340,
          341,
          342,
          343,
          344
         ],
         "y": [
          0,
          0,
          1,
          1,
          0,
          1,
          1,
          0,
          1,
          1,
          1,
          0,
          0,
          1,
          0,
          0,
          0,
          1,
          1,
          1,
          0,
          1,
          1,
          1,
          1,
          1,
          0,
          0,
          0,
          1,
          0,
          1,
          1,
          1,
          0,
          0,
          0,
          1,
          0,
          0,
          0,
          0,
          1,
          1,
          1,
          0,
          0,
          1,
          0,
          0,
          1,
          1,
          0,
          1,
          1,
          1,
          1,
          1,
          0,
          0,
          1,
          0,
          1,
          0,
          1,
          0,
          1,
          1,
          1,
          1,
          0,
          0,
          0,
          1,
          1,
          0,
          1,
          1,
          1,
          0,
          1,
          1,
          1,
          1,
          0,
          1,
          0,
          0,
          0,
          0,
          0,
          0,
          0,
          0,
          1,
          0,
          1,
          1,
          0,
          1,
          1,
          0,
          0,
          0,
          0,
          1,
          1,
          1,
          1,
          0,
          0,
          0,
          0,
          0,
          0,
          1,
          0,
          0,
          0,
          1,
          1,
          0,
          0,
          1,
          1,
          1,
          0,
          1,
          0,
          0,
          0,
          0,
          0,
          1,
          0,
          1,
          1,
          0,
          1,
          1,
          1,
          1,
          1,
          0,
          1,
          0,
          0,
          1,
          0,
          1,
          1,
          0,
          1,
          1,
          0,
          1,
          0,
          1,
          0,
          0,
          0,
          0,
          1,
          1,
          1,
          1,
          1,
          1,
          0,
          0,
          0,
          0,
          0,
          0,
          1,
          0,
          1,
          0,
          0,
          1,
          0,
          0,
          1,
          0,
          0,
          1,
          1,
          1,
          0,
          1,
          1,
          0,
          0,
          0,
          1,
          0,
          1,
          0,
          1,
          0,
          0,
          1,
          0,
          1,
          1,
          1,
          0,
          0,
          0,
          0,
          0,
          0,
          1,
          0,
          0,
          0,
          0,
          0,
          0,
          1,
          1,
          0,
          1,
          0,
          1,
          0,
          0,
          0,
          0,
          0,
          1,
          1,
          0,
          1,
          1,
          1,
          0,
          0,
          0,
          1,
          0,
          1,
          1,
          1,
          1,
          0,
          1,
          1,
          1,
          0,
          1,
          1,
          1,
          1,
          0,
          0,
          0,
          1,
          1,
          0,
          1,
          0,
          1,
          0,
          1,
          0,
          0,
          1,
          1,
          1,
          1,
          0,
          1,
          0,
          1,
          1,
          1,
          0,
          0,
          0,
          1,
          0,
          1,
          1,
          1,
          1,
          0,
          0,
          1,
          1,
          1,
          1,
          1,
          0,
          0,
          0,
          1,
          1,
          0,
          1,
          0,
          1,
          1,
          1,
          0,
          0,
          1,
          1,
          0,
          1,
          1,
          1,
          0,
          1,
          1,
          0,
          1,
          0,
          1,
          0,
          1,
          1,
          0,
          1,
          0,
          0,
          0,
          0,
          0,
          0,
          0,
          0,
          1,
          0,
          1,
          0,
          1,
          1,
          0,
          0,
          0,
          0,
          0,
          0,
          1
         ]
        },
        {
         "marker": {
          "color": "green",
          "size": 6
         },
         "mode": "markers",
         "name": "Post-Mitigation",
         "type": "scatter",
         "x": [
          0,
          1,
          2,
          3,
          4,
          5,
          6,
          7,
          8,
          9,
          10,
          11,
          12,
          13,
          14,
          15,
          16,
          17,
          18,
          19,
          20,
          21,
          22,
          23,
          24,
          25,
          26,
          27,
          28,
          29,
          30,
          31,
          32,
          33,
          34,
          35,
          36,
          37,
          38,
          39,
          40,
          41,
          42,
          43,
          44,
          45,
          46,
          47,
          48,
          49,
          50,
          51,
          52,
          53,
          54,
          55,
          56,
          57,
          58,
          59,
          60,
          61,
          62,
          63,
          64,
          65,
          66,
          67,
          68,
          69,
          70,
          71,
          72,
          73,
          74,
          75,
          76,
          77,
          78,
          79,
          80,
          81,
          82,
          83,
          84,
          85,
          86,
          87,
          88,
          89,
          90,
          91,
          92,
          93,
          94,
          95,
          96,
          97,
          98,
          99,
          100,
          101,
          102,
          103,
          104,
          105,
          106,
          107,
          108,
          109,
          110,
          111,
          112,
          113,
          114,
          115,
          116,
          117,
          118,
          119,
          120,
          121,
          122,
          123,
          124,
          125,
          126,
          127,
          128,
          129,
          130,
          131,
          132,
          133,
          134,
          135,
          136,
          137,
          138,
          139,
          140,
          141,
          142,
          143,
          144,
          145,
          146,
          147,
          148,
          149,
          150,
          151,
          152,
          153,
          154,
          155,
          156,
          157,
          158,
          159,
          160,
          161,
          162,
          163,
          164,
          165,
          166,
          167,
          168,
          169,
          170,
          171,
          172,
          173,
          174,
          175,
          176,
          177,
          178,
          179,
          180,
          181,
          182,
          183,
          184,
          185,
          186,
          187,
          188,
          189,
          190,
          191,
          192,
          193,
          194,
          195,
          196,
          197,
          198,
          199,
          200,
          201,
          202,
          203,
          204,
          205,
          206,
          207,
          208,
          209,
          210,
          211,
          212,
          213,
          214,
          215,
          216,
          217,
          218,
          219,
          220,
          221,
          222,
          223,
          224,
          225,
          226,
          227,
          228,
          229,
          230,
          231,
          232,
          233,
          234,
          235,
          236,
          237,
          238,
          239,
          240,
          241,
          242,
          243,
          244,
          245,
          246,
          247,
          248,
          249,
          250,
          251,
          252,
          253,
          254,
          255,
          256,
          257,
          258,
          259,
          260,
          261,
          262,
          263,
          264,
          265,
          266,
          267,
          268,
          269,
          270,
          271,
          272,
          273,
          274,
          275,
          276,
          277,
          278,
          279,
          280,
          281,
          282,
          283,
          284,
          285,
          286,
          287,
          288,
          289,
          290,
          291,
          292,
          293,
          294,
          295,
          296,
          297,
          298,
          299,
          300,
          301,
          302,
          303,
          304,
          305,
          306,
          307,
          308,
          309,
          310,
          311,
          312,
          313,
          314,
          315,
          316,
          317,
          318,
          319,
          320,
          321,
          322,
          323,
          324,
          325,
          326,
          327,
          328,
          329,
          330,
          331,
          332,
          333,
          334,
          335,
          336,
          337,
          338,
          339,
          340,
          341,
          342,
          343,
          344
         ],
         "y": [
          0,
          0,
          0,
          1,
          0,
          0,
          0,
          0,
          0,
          0,
          0,
          0,
          0,
          0,
          0,
          0,
          0,
          0,
          0,
          0,
          0,
          1,
          0,
          0,
          0,
          0,
          0,
          0,
          0,
          0,
          0,
          0,
          0,
          0,
          0,
          0,
          0,
          0,
          0,
          0,
          0,
          0,
          0,
          0,
          0,
          0,
          0,
          0,
          0,
          0,
          0,
          0,
          0,
          0,
          0,
          0,
          0,
          0,
          0,
          0,
          0,
          0,
          1,
          0,
          1,
          0,
          0,
          0,
          0,
          0,
          0,
          0,
          0,
          0,
          0,
          0,
          0,
          0,
          1,
          0,
          0,
          0,
          0,
          0,
          0,
          0,
          0,
          0,
          0,
          0,
          0,
          0,
          0,
          0,
          0,
          0,
          1,
          0,
          0,
          1,
          0,
          0,
          0,
          0,
          0,
          0,
          1,
          0,
          0,
          0,
          0,
          0,
          0,
          0,
          0,
          0,
          0,
          0,
          0,
          0,
          0,
          0,
          0,
          0,
          0,
          0,
          0,
          0,
          0,
          0,
          0,
          0,
          0,
          0,
          0,
          0,
          0,
          0,
          0,
          1,
          0,
          0,
          0,
          0,
          0,
          0,
          0,
          0,
          0,
          0,
          0,
          0,
          0,
          0,
          0,
          0,
          0,
          0,
          0,
          0,
          0,
          0,
          0,
          0,
          0,
          0,
          0,
          0,
          0,
          0,
          0,
          0,
          0,
          0,
          0,
          0,
          0,
          0,
          0,
          0,
          0,
          0,
          0,
          0,
          0,
          0,
          0,
          0,
          0,
          0,
          0,
          0,
          0,
          0,
          0,
          0,
          0,
          0,
          0,
          0,
          0,
          0,
          0,
          0,
          0,
          0,
          0,
          0,
          0,
          0,
          0,
          0,
          0,
          0,
          0,
          0,
          0,
          0,
          0,
          1,
          0,
          0,
          0,
          0,
          0,
          0,
          0,
          0,
          0,
          0,
          0,
          0,
          0,
          0,
          0,
          1,
          0,
          0,
          0,
          0,
          0,
          0,
          0,
          0,
          0,
          0,
          0,
          0,
          0,
          0,
          0,
          0,
          0,
          0,
          0,
          0,
          0,
          0,
          0,
          0,
          0,
          0,
          0,
          0,
          0,
          0,
          0,
          0,
          0,
          0,
          0,
          0,
          1,
          0,
          0,
          0,
          0,
          0,
          0,
          0,
          0,
          0,
          1,
          1,
          0,
          0,
          0,
          0,
          0,
          0,
          0,
          0,
          0,
          0,
          0,
          0,
          0,
          0,
          0,
          1,
          0,
          0,
          0,
          0,
          0,
          0,
          1,
          0,
          0,
          0,
          0,
          0,
          0,
          0,
          0,
          0,
          0,
          0,
          0,
          0,
          0,
          0,
          0,
          0,
          0,
          0,
          0,
          0,
          0,
          0,
          0,
          0,
          0,
          0,
          0,
          0,
          0,
          0,
          0,
          0,
          0,
          0,
          0,
          0,
          0
         ]
        }
       ],
       "layout": {
        "template": {
         "data": {
          "bar": [
           {
            "error_x": {
             "color": "#2a3f5f"
            },
            "error_y": {
             "color": "#2a3f5f"
            },
            "marker": {
             "line": {
              "color": "#E5ECF6",
              "width": 0.5
             },
             "pattern": {
              "fillmode": "overlay",
              "size": 10,
              "solidity": 0.2
             }
            },
            "type": "bar"
           }
          ],
          "barpolar": [
           {
            "marker": {
             "line": {
              "color": "#E5ECF6",
              "width": 0.5
             },
             "pattern": {
              "fillmode": "overlay",
              "size": 10,
              "solidity": 0.2
             }
            },
            "type": "barpolar"
           }
          ],
          "carpet": [
           {
            "aaxis": {
             "endlinecolor": "#2a3f5f",
             "gridcolor": "white",
             "linecolor": "white",
             "minorgridcolor": "white",
             "startlinecolor": "#2a3f5f"
            },
            "baxis": {
             "endlinecolor": "#2a3f5f",
             "gridcolor": "white",
             "linecolor": "white",
             "minorgridcolor": "white",
             "startlinecolor": "#2a3f5f"
            },
            "type": "carpet"
           }
          ],
          "choropleth": [
           {
            "colorbar": {
             "outlinewidth": 0,
             "ticks": ""
            },
            "type": "choropleth"
           }
          ],
          "contour": [
           {
            "colorbar": {
             "outlinewidth": 0,
             "ticks": ""
            },
            "colorscale": [
             [
              0,
              "#0d0887"
             ],
             [
              0.1111111111111111,
              "#46039f"
             ],
             [
              0.2222222222222222,
              "#7201a8"
             ],
             [
              0.3333333333333333,
              "#9c179e"
             ],
             [
              0.4444444444444444,
              "#bd3786"
             ],
             [
              0.5555555555555556,
              "#d8576b"
             ],
             [
              0.6666666666666666,
              "#ed7953"
             ],
             [
              0.7777777777777778,
              "#fb9f3a"
             ],
             [
              0.8888888888888888,
              "#fdca26"
             ],
             [
              1,
              "#f0f921"
             ]
            ],
            "type": "contour"
           }
          ],
          "contourcarpet": [
           {
            "colorbar": {
             "outlinewidth": 0,
             "ticks": ""
            },
            "type": "contourcarpet"
           }
          ],
          "heatmap": [
           {
            "colorbar": {
             "outlinewidth": 0,
             "ticks": ""
            },
            "colorscale": [
             [
              0,
              "#0d0887"
             ],
             [
              0.1111111111111111,
              "#46039f"
             ],
             [
              0.2222222222222222,
              "#7201a8"
             ],
             [
              0.3333333333333333,
              "#9c179e"
             ],
             [
              0.4444444444444444,
              "#bd3786"
             ],
             [
              0.5555555555555556,
              "#d8576b"
             ],
             [
              0.6666666666666666,
              "#ed7953"
             ],
             [
              0.7777777777777778,
              "#fb9f3a"
             ],
             [
              0.8888888888888888,
              "#fdca26"
             ],
             [
              1,
              "#f0f921"
             ]
            ],
            "type": "heatmap"
           }
          ],
          "heatmapgl": [
           {
            "colorbar": {
             "outlinewidth": 0,
             "ticks": ""
            },
            "colorscale": [
             [
              0,
              "#0d0887"
             ],
             [
              0.1111111111111111,
              "#46039f"
             ],
             [
              0.2222222222222222,
              "#7201a8"
             ],
             [
              0.3333333333333333,
              "#9c179e"
             ],
             [
              0.4444444444444444,
              "#bd3786"
             ],
             [
              0.5555555555555556,
              "#d8576b"
             ],
             [
              0.6666666666666666,
              "#ed7953"
             ],
             [
              0.7777777777777778,
              "#fb9f3a"
             ],
             [
              0.8888888888888888,
              "#fdca26"
             ],
             [
              1,
              "#f0f921"
             ]
            ],
            "type": "heatmapgl"
           }
          ],
          "histogram": [
           {
            "marker": {
             "pattern": {
              "fillmode": "overlay",
              "size": 10,
              "solidity": 0.2
             }
            },
            "type": "histogram"
           }
          ],
          "histogram2d": [
           {
            "colorbar": {
             "outlinewidth": 0,
             "ticks": ""
            },
            "colorscale": [
             [
              0,
              "#0d0887"
             ],
             [
              0.1111111111111111,
              "#46039f"
             ],
             [
              0.2222222222222222,
              "#7201a8"
             ],
             [
              0.3333333333333333,
              "#9c179e"
             ],
             [
              0.4444444444444444,
              "#bd3786"
             ],
             [
              0.5555555555555556,
              "#d8576b"
             ],
             [
              0.6666666666666666,
              "#ed7953"
             ],
             [
              0.7777777777777778,
              "#fb9f3a"
             ],
             [
              0.8888888888888888,
              "#fdca26"
             ],
             [
              1,
              "#f0f921"
             ]
            ],
            "type": "histogram2d"
           }
          ],
          "histogram2dcontour": [
           {
            "colorbar": {
             "outlinewidth": 0,
             "ticks": ""
            },
            "colorscale": [
             [
              0,
              "#0d0887"
             ],
             [
              0.1111111111111111,
              "#46039f"
             ],
             [
              0.2222222222222222,
              "#7201a8"
             ],
             [
              0.3333333333333333,
              "#9c179e"
             ],
             [
              0.4444444444444444,
              "#bd3786"
             ],
             [
              0.5555555555555556,
              "#d8576b"
             ],
             [
              0.6666666666666666,
              "#ed7953"
             ],
             [
              0.7777777777777778,
              "#fb9f3a"
             ],
             [
              0.8888888888888888,
              "#fdca26"
             ],
             [
              1,
              "#f0f921"
             ]
            ],
            "type": "histogram2dcontour"
           }
          ],
          "mesh3d": [
           {
            "colorbar": {
             "outlinewidth": 0,
             "ticks": ""
            },
            "type": "mesh3d"
           }
          ],
          "parcoords": [
           {
            "line": {
             "colorbar": {
              "outlinewidth": 0,
              "ticks": ""
             }
            },
            "type": "parcoords"
           }
          ],
          "pie": [
           {
            "automargin": true,
            "type": "pie"
           }
          ],
          "scatter": [
           {
            "fillpattern": {
             "fillmode": "overlay",
             "size": 10,
             "solidity": 0.2
            },
            "type": "scatter"
           }
          ],
          "scatter3d": [
           {
            "line": {
             "colorbar": {
              "outlinewidth": 0,
              "ticks": ""
             }
            },
            "marker": {
             "colorbar": {
              "outlinewidth": 0,
              "ticks": ""
             }
            },
            "type": "scatter3d"
           }
          ],
          "scattercarpet": [
           {
            "marker": {
             "colorbar": {
              "outlinewidth": 0,
              "ticks": ""
             }
            },
            "type": "scattercarpet"
           }
          ],
          "scattergeo": [
           {
            "marker": {
             "colorbar": {
              "outlinewidth": 0,
              "ticks": ""
             }
            },
            "type": "scattergeo"
           }
          ],
          "scattergl": [
           {
            "marker": {
             "colorbar": {
              "outlinewidth": 0,
              "ticks": ""
             }
            },
            "type": "scattergl"
           }
          ],
          "scattermapbox": [
           {
            "marker": {
             "colorbar": {
              "outlinewidth": 0,
              "ticks": ""
             }
            },
            "type": "scattermapbox"
           }
          ],
          "scatterpolar": [
           {
            "marker": {
             "colorbar": {
              "outlinewidth": 0,
              "ticks": ""
             }
            },
            "type": "scatterpolar"
           }
          ],
          "scatterpolargl": [
           {
            "marker": {
             "colorbar": {
              "outlinewidth": 0,
              "ticks": ""
             }
            },
            "type": "scatterpolargl"
           }
          ],
          "scatterternary": [
           {
            "marker": {
             "colorbar": {
              "outlinewidth": 0,
              "ticks": ""
             }
            },
            "type": "scatterternary"
           }
          ],
          "surface": [
           {
            "colorbar": {
             "outlinewidth": 0,
             "ticks": ""
            },
            "colorscale": [
             [
              0,
              "#0d0887"
             ],
             [
              0.1111111111111111,
              "#46039f"
             ],
             [
              0.2222222222222222,
              "#7201a8"
             ],
             [
              0.3333333333333333,
              "#9c179e"
             ],
             [
              0.4444444444444444,
              "#bd3786"
             ],
             [
              0.5555555555555556,
              "#d8576b"
             ],
             [
              0.6666666666666666,
              "#ed7953"
             ],
             [
              0.7777777777777778,
              "#fb9f3a"
             ],
             [
              0.8888888888888888,
              "#fdca26"
             ],
             [
              1,
              "#f0f921"
             ]
            ],
            "type": "surface"
           }
          ],
          "table": [
           {
            "cells": {
             "fill": {
              "color": "#EBF0F8"
             },
             "line": {
              "color": "white"
             }
            },
            "header": {
             "fill": {
              "color": "#C8D4E3"
             },
             "line": {
              "color": "white"
             }
            },
            "type": "table"
           }
          ]
         },
         "layout": {
          "annotationdefaults": {
           "arrowcolor": "#2a3f5f",
           "arrowhead": 0,
           "arrowwidth": 1
          },
          "autotypenumbers": "strict",
          "coloraxis": {
           "colorbar": {
            "outlinewidth": 0,
            "ticks": ""
           }
          },
          "colorscale": {
           "diverging": [
            [
             0,
             "#8e0152"
            ],
            [
             0.1,
             "#c51b7d"
            ],
            [
             0.2,
             "#de77ae"
            ],
            [
             0.3,
             "#f1b6da"
            ],
            [
             0.4,
             "#fde0ef"
            ],
            [
             0.5,
             "#f7f7f7"
            ],
            [
             0.6,
             "#e6f5d0"
            ],
            [
             0.7,
             "#b8e186"
            ],
            [
             0.8,
             "#7fbc41"
            ],
            [
             0.9,
             "#4d9221"
            ],
            [
             1,
             "#276419"
            ]
           ],
           "sequential": [
            [
             0,
             "#0d0887"
            ],
            [
             0.1111111111111111,
             "#46039f"
            ],
            [
             0.2222222222222222,
             "#7201a8"
            ],
            [
             0.3333333333333333,
             "#9c179e"
            ],
            [
             0.4444444444444444,
             "#bd3786"
            ],
            [
             0.5555555555555556,
             "#d8576b"
            ],
            [
             0.6666666666666666,
             "#ed7953"
            ],
            [
             0.7777777777777778,
             "#fb9f3a"
            ],
            [
             0.8888888888888888,
             "#fdca26"
            ],
            [
             1,
             "#f0f921"
            ]
           ],
           "sequentialminus": [
            [
             0,
             "#0d0887"
            ],
            [
             0.1111111111111111,
             "#46039f"
            ],
            [
             0.2222222222222222,
             "#7201a8"
            ],
            [
             0.3333333333333333,
             "#9c179e"
            ],
            [
             0.4444444444444444,
             "#bd3786"
            ],
            [
             0.5555555555555556,
             "#d8576b"
            ],
            [
             0.6666666666666666,
             "#ed7953"
            ],
            [
             0.7777777777777778,
             "#fb9f3a"
            ],
            [
             0.8888888888888888,
             "#fdca26"
            ],
            [
             1,
             "#f0f921"
            ]
           ]
          },
          "colorway": [
           "#636efa",
           "#EF553B",
           "#00cc96",
           "#ab63fa",
           "#FFA15A",
           "#19d3f3",
           "#FF6692",
           "#B6E880",
           "#FF97FF",
           "#FECB52"
          ],
          "font": {
           "color": "#2a3f5f"
          },
          "geo": {
           "bgcolor": "white",
           "lakecolor": "white",
           "landcolor": "#E5ECF6",
           "showlakes": true,
           "showland": true,
           "subunitcolor": "white"
          },
          "hoverlabel": {
           "align": "left"
          },
          "hovermode": "closest",
          "mapbox": {
           "style": "light"
          },
          "paper_bgcolor": "white",
          "plot_bgcolor": "#E5ECF6",
          "polar": {
           "angularaxis": {
            "gridcolor": "white",
            "linecolor": "white",
            "ticks": ""
           },
           "bgcolor": "#E5ECF6",
           "radialaxis": {
            "gridcolor": "white",
            "linecolor": "white",
            "ticks": ""
           }
          },
          "scene": {
           "xaxis": {
            "backgroundcolor": "#E5ECF6",
            "gridcolor": "white",
            "gridwidth": 2,
            "linecolor": "white",
            "showbackground": true,
            "ticks": "",
            "zerolinecolor": "white"
           },
           "yaxis": {
            "backgroundcolor": "#E5ECF6",
            "gridcolor": "white",
            "gridwidth": 2,
            "linecolor": "white",
            "showbackground": true,
            "ticks": "",
            "zerolinecolor": "white"
           },
           "zaxis": {
            "backgroundcolor": "#E5ECF6",
            "gridcolor": "white",
            "gridwidth": 2,
            "linecolor": "white",
            "showbackground": true,
            "ticks": "",
            "zerolinecolor": "white"
           }
          },
          "shapedefaults": {
           "line": {
            "color": "#2a3f5f"
           }
          },
          "ternary": {
           "aaxis": {
            "gridcolor": "white",
            "linecolor": "white",
            "ticks": ""
           },
           "baxis": {
            "gridcolor": "white",
            "linecolor": "white",
            "ticks": ""
           },
           "bgcolor": "#E5ECF6",
           "caxis": {
            "gridcolor": "white",
            "linecolor": "white",
            "ticks": ""
           }
          },
          "title": {
           "x": 0.05
          },
          "xaxis": {
           "automargin": true,
           "gridcolor": "white",
           "linecolor": "white",
           "ticks": "",
           "title": {
            "standoff": 15
           },
           "zerolinecolor": "white",
           "zerolinewidth": 2
          },
          "yaxis": {
           "automargin": true,
           "gridcolor": "white",
           "linecolor": "white",
           "ticks": "",
           "title": {
            "standoff": 15
           },
           "zerolinecolor": "white",
           "zerolinewidth": 2
          }
         }
        },
        "title": {
         "text": "Threats Before and After Mitigation (Scatter)"
        },
        "xaxis": {
         "title": {
          "text": "Sample Index"
         }
        },
        "yaxis": {
         "title": {
          "text": "Threat Status"
         }
        }
       }
      }
     },
     "metadata": {},
     "output_type": "display_data"
    }
   ],
   "source": [
    "import plotly.graph_objs as go\n",
    "import plotly.express as px\n",
    "import pandas as pd\n",
    "import numpy as np\n",
    "\n",
    "# Simulate MARL mitigation\n",
    "np.random.seed(42)\n",
    "df['mitigated'] = df['threat'].apply(\n",
    "    lambda x: 1 if x == 1 and np.random.rand() < 0.9 else 0 if x == 1 else np.nan\n",
    ")\n",
    "df['post_threat'] = df.apply(\n",
    "    lambda row: 0 if row['threat'] == 1 and row['mitigated'] == 1 else row['threat'], axis=1\n",
    ")\n",
    "\n",
    "bar_fig = go.Figure(data=[\n",
    "    go.Bar(name='Before Mitigation', x=['Threats'], y=[df['threat'].sum()], marker_color='indianred'),\n",
    "    go.Bar(name='After Mitigation', x=['Threats'], y=[df['post_threat'].sum()], marker_color='seagreen')\n",
    "])\n",
    "bar_fig.update_layout(title='Threats Before vs After MARL Mitigation (Bar)', barmode='group')\n",
    "bar_fig.show()\n",
    "\n",
    "scatter_fig = go.Figure()\n",
    "scatter_fig.add_trace(go.Scatter(\n",
    "    x=np.arange(len(df)), y=df['threat'],\n",
    "    mode='markers', name='Threat', marker=dict(color='red', size=6)))\n",
    "scatter_fig.add_trace(go.Scatter(\n",
    "    x=np.arange(len(df)), y=df['post_threat'],\n",
    "    mode='markers', name='Post-Mitigation', marker=dict(color='green', size=6)))\n",
    "scatter_fig.update_layout(title='Threats Before and After Mitigation (Scatter)', xaxis_title='Sample Index', yaxis_title='Threat Status')\n",
    "scatter_fig.show()\n"
   ]
  },
  {
   "cell_type": "code",
   "execution_count": 59,
   "id": "183a8705",
   "metadata": {},
   "outputs": [
    {
     "data": {
      "application/vnd.plotly.v1+json": {
       "config": {
        "plotlyServerURL": "https://plot.ly"
       },
       "data": [
        {
         "customdata": [
          [
           7
          ],
          [
           4
          ],
          [
           5
          ],
          [
           7
          ],
          [
           3
          ],
          [
           5
          ],
          [
           4
          ],
          [
           8
          ],
          [
           3
          ],
          [
           2
          ],
          [
           8
          ],
          [
           6
          ],
          [
           6
          ],
          [
           9
          ],
          [
           9
          ],
          [
           7
          ],
          [
           5
          ],
          [
           2
          ],
          [
           2
          ],
          [
           5
          ],
          [
           2
          ],
          [
           4
          ],
          [
           7
          ],
          [
           8
          ],
          [
           1
          ],
          [
           4
          ],
          [
           2
          ],
          [
           4
          ],
          [
           6
          ],
          [
           6
          ],
          [
           2
          ],
          [
           4
          ],
          [
           9
          ],
          [
           8
          ],
          [
           5
          ],
          [
           9
          ],
          [
           8
          ],
          [
           1
          ],
          [
           3
          ],
          [
           5
          ],
          [
           7
          ],
          [
           9
          ],
          [
           1
          ],
          [
           8
          ],
          [
           8
          ],
          [
           6
          ],
          [
           3
          ],
          [
           3
          ],
          [
           5
          ],
          [
           3
          ],
          [
           5
          ],
          [
           9
          ],
          [
           3
          ],
          [
           4
          ],
          [
           5
          ],
          [
           7
          ],
          [
           6
          ],
          [
           2
          ],
          [
           5
          ],
          [
           7
          ],
          [
           9
          ],
          [
           1
          ],
          [
           1
          ],
          [
           9
          ],
          [
           4
          ],
          [
           9
          ],
          [
           3
          ],
          [
           7
          ],
          [
           6
          ],
          [
           8
          ],
          [
           5
          ],
          [
           3
          ],
          [
           6
          ],
          [
           1
          ],
          [
           2
          ],
          [
           3
          ],
          [
           5
          ],
          [
           1
          ],
          [
           2
          ],
          [
           1
          ],
          [
           2
          ],
          [
           6
          ],
          [
           7
          ],
          [
           6
          ],
          [
           5
          ],
          [
           6
          ],
          [
           3
          ],
          [
           3
          ],
          [
           3
          ],
          [
           7
          ],
          [
           7
          ],
          [
           1
          ],
          [
           2
          ],
          [
           7
          ],
          [
           2
          ],
          [
           1
          ],
          [
           9
          ],
          [
           3
          ],
          [
           8
          ],
          [
           4
          ],
          [
           1
          ],
          [
           8
          ],
          [
           4
          ],
          [
           3
          ],
          [
           2
          ],
          [
           6
          ],
          [
           3
          ],
          [
           9
          ],
          [
           4
          ],
          [
           1
          ],
          [
           5
          ],
          [
           8
          ],
          [
           7
          ],
          [
           3
          ],
          [
           1
          ],
          [
           6
          ],
          [
           7
          ],
          [
           6
          ],
          [
           3
          ],
          [
           2
          ],
          [
           5
          ],
          [
           1
          ],
          [
           5
          ],
          [
           3
          ],
          [
           1
          ],
          [
           1
          ],
          [
           3
          ],
          [
           5
          ],
          [
           8
          ],
          [
           5
          ],
          [
           1
          ],
          [
           4
          ],
          [
           5
          ],
          [
           7
          ],
          [
           2
          ],
          [
           9
          ],
          [
           2
          ],
          [
           7
          ],
          [
           1
          ],
          [
           8
          ],
          [
           1
          ],
          [
           6
          ],
          [
           7
          ],
          [
           2
          ],
          [
           4
          ],
          [
           4
          ],
          [
           3
          ],
          [
           2
          ],
          [
           7
          ],
          [
           6
          ],
          [
           6
          ],
          [
           6
          ],
          [
           1
          ],
          [
           4
          ],
          [
           6
          ],
          [
           6
          ],
          [
           1
          ],
          [
           8
          ],
          [
           5
          ],
          [
           4
          ],
          [
           6
          ],
          [
           4
          ],
          [
           7
          ],
          [
           8
          ],
          [
           4
          ],
          [
           3
          ],
          [
           1
          ],
          [
           5
          ],
          [
           1
          ],
          [
           2
          ],
          [
           7
          ],
          [
           7
          ],
          [
           3
          ],
          [
           5
          ],
          [
           1
          ],
          [
           4
          ],
          [
           5
          ],
          [
           5
          ],
          [
           4
          ],
          [
           5
          ],
          [
           6
          ],
          [
           4
          ],
          [
           4
          ],
          [
           3
          ],
          [
           4
          ],
          [
           8
          ],
          [
           2
          ],
          [
           4
          ],
          [
           8
          ],
          [
           3
          ],
          [
           1
          ],
          [
           1
          ],
          [
           8
          ],
          [
           2
          ],
          [
           2
          ],
          [
           3
          ],
          [
           7
          ],
          [
           1
          ],
          [
           4
          ],
          [
           5
          ],
          [
           4
          ],
          [
           4
          ],
          [
           5
          ],
          [
           8
          ],
          [
           3
          ],
          [
           1
          ],
          [
           2
          ],
          [
           1
          ],
          [
           7
          ],
          [
           7
          ],
          [
           9
          ],
          [
           9
          ],
          [
           6
          ],
          [
           3
          ],
          [
           4
          ],
          [
           7
          ],
          [
           4
          ],
          [
           3
          ],
          [
           5
          ],
          [
           5
          ],
          [
           5
          ],
          [
           4
          ],
          [
           7
          ],
          [
           9
          ],
          [
           5
          ],
          [
           7
          ],
          [
           3
          ],
          [
           2
          ],
          [
           6
          ],
          [
           7
          ],
          [
           8
          ],
          [
           2
          ],
          [
           5
          ],
          [
           5
          ],
          [
           6
          ],
          [
           8
          ],
          [
           6
          ],
          [
           4
          ],
          [
           6
          ],
          [
           2
          ],
          [
           1
          ],
          [
           3
          ],
          [
           1
          ],
          [
           9
          ],
          [
           8
          ],
          [
           6
          ],
          [
           5
          ],
          [
           6
          ],
          [
           1
          ],
          [
           1
          ],
          [
           6
          ],
          [
           8
          ],
          [
           8
          ],
          [
           8
          ],
          [
           8
          ],
          [
           5
          ],
          [
           4
          ],
          [
           1
          ],
          [
           5
          ],
          [
           4
          ],
          [
           5
          ],
          [
           2
          ],
          [
           2
          ],
          [
           8
          ],
          [
           1
          ],
          [
           2
          ],
          [
           1
          ],
          [
           5
          ],
          [
           6
          ],
          [
           1
          ],
          [
           2
          ],
          [
           3
          ],
          [
           1
          ],
          [
           5
          ],
          [
           7
          ],
          [
           6
          ],
          [
           1
          ],
          [
           5
          ],
          [
           6
          ],
          [
           3
          ],
          [
           7
          ],
          [
           5
          ],
          [
           3
          ],
          [
           1
          ],
          [
           3
          ],
          [
           1
          ],
          [
           7
          ],
          [
           2
          ],
          [
           6
          ],
          [
           2
          ],
          [
           1
          ],
          [
           6
          ],
          [
           5
          ],
          [
           9
          ],
          [
           1
          ],
          [
           7
          ],
          [
           5
          ],
          [
           5
          ],
          [
           2
          ],
          [
           3
          ],
          [
           6
          ],
          [
           2
          ],
          [
           2
          ],
          [
           3
          ],
          [
           2
          ],
          [
           9
          ],
          [
           8
          ],
          [
           7
          ],
          [
           3
          ],
          [
           1
          ],
          [
           5
          ],
          [
           1
          ],
          [
           4
          ],
          [
           8
          ],
          [
           7
          ],
          [
           6
          ],
          [
           4
          ],
          [
           9
          ],
          [
           2
          ],
          [
           3
          ],
          [
           5
          ],
          [
           6
          ],
          [
           1
          ],
          [
           5
          ],
          [
           9
          ],
          [
           1
          ],
          [
           9
          ],
          [
           1
          ],
          [
           1
          ],
          [
           2
          ],
          [
           7
          ],
          [
           3
          ],
          [
           9
          ],
          [
           7
          ],
          [
           7
          ],
          [
           1
          ],
          [
           9
          ],
          [
           1
          ],
          [
           4
          ],
          [
           9
          ],
          [
           2
          ],
          [
           4
          ],
          [
           6
          ],
          [
           8
          ],
          [
           5
          ],
          [
           6
          ],
          [
           4
          ],
          [
           2
          ],
          [
           8
          ],
          [
           6
          ],
          [
           5
          ],
          [
           6
          ],
          [
           6
          ],
          [
           7
          ],
          [
           8
          ],
          [
           7
          ],
          [
           7
          ],
          [
           3
          ],
          [
           6
          ],
          [
           6
          ],
          [
           1
          ],
          [
           6
          ],
          [
           3
          ],
          [
           5
          ],
          [
           6
          ],
          [
           4
          ],
          [
           4
          ],
          [
           1
          ],
          [
           6
          ],
          [
           3
          ],
          [
           5
          ],
          [
           7
          ],
          [
           2
          ],
          [
           8
          ],
          [
           4
          ],
          [
           1
          ],
          [
           5
          ],
          [
           7
          ],
          [
           1
          ],
          [
           5
          ],
          [
           2
          ],
          [
           3
          ],
          [
           3
          ],
          [
           1
          ],
          [
           8
          ],
          [
           8
          ],
          [
           5
          ],
          [
           5
          ],
          [
           3
          ],
          [
           7
          ],
          [
           3
          ],
          [
           1
          ],
          [
           7
          ],
          [
           2
          ],
          [
           3
          ],
          [
           3
          ],
          [
           6
          ],
          [
           6
          ],
          [
           3
          ],
          [
           4
          ],
          [
           4
          ],
          [
           6
          ],
          [
           7
          ],
          [
           1
          ],
          [
           4
          ],
          [
           2
          ],
          [
           5
          ],
          [
           1
          ],
          [
           6
          ],
          [
           6
          ],
          [
           4
          ],
          [
           8
          ],
          [
           4
          ],
          [
           8
          ],
          [
           5
          ],
          [
           4
          ],
          [
           3
          ],
          [
           5
          ],
          [
           2
          ],
          [
           4
          ],
          [
           5
          ],
          [
           8
          ],
          [
           5
          ],
          [
           8
          ],
          [
           1
          ],
          [
           3
          ],
          [
           9
          ],
          [
           5
          ],
          [
           4
          ],
          [
           7
          ],
          [
           1
          ],
          [
           6
          ],
          [
           7
          ],
          [
           5
          ],
          [
           9
          ],
          [
           9
          ],
          [
           6
          ],
          [
           2
          ],
          [
           2
          ],
          [
           1
          ],
          [
           3
          ],
          [
           6
          ],
          [
           9
          ],
          [
           4
          ],
          [
           1
          ],
          [
           5
          ],
          [
           1
          ],
          [
           7
          ],
          [
           4
          ],
          [
           6
          ],
          [
           8
          ],
          [
           7
          ],
          [
           1
          ],
          [
           8
          ],
          [
           2
          ],
          [
           1
          ],
          [
           2
          ],
          [
           6
          ],
          [
           1
          ],
          [
           2
          ],
          [
           6
          ],
          [
           4
          ],
          [
           8
          ],
          [
           7
          ],
          [
           2
          ],
          [
           7
          ],
          [
           8
          ],
          [
           1
          ],
          [
           7
          ],
          [
           3
          ],
          [
           8
          ],
          [
           5
          ],
          [
           3
          ],
          [
           3
          ],
          [
           1
          ],
          [
           8
          ],
          [
           4
          ],
          [
           5
          ],
          [
           7
          ],
          [
           7
          ],
          [
           5
          ],
          [
           3
          ],
          [
           4
          ],
          [
           2
          ],
          [
           2
          ],
          [
           4
          ],
          [
           3
          ],
          [
           7
          ],
          [
           4
          ],
          [
           6
          ],
          [
           2
          ],
          [
           5
          ],
          [
           3
          ],
          [
           6
          ],
          [
           7
          ],
          [
           2
          ],
          [
           3
          ],
          [
           1
          ],
          [
           2
          ],
          [
           6
          ],
          [
           7
          ],
          [
           5
          ],
          [
           6
          ],
          [
           2
          ],
          [
           6
          ],
          [
           2
          ],
          [
           1
          ],
          [
           5
          ],
          [
           9
          ],
          [
           7
          ],
          [
           5
          ],
          [
           9
          ],
          [
           5
          ],
          [
           5
          ],
          [
           2
          ],
          [
           5
          ],
          [
           3
          ],
          [
           8
          ],
          [
           3
          ],
          [
           2
          ],
          [
           7
          ],
          [
           6
          ],
          [
           8
          ],
          [
           1
          ],
          [
           4
          ],
          [
           4
          ],
          [
           2
          ],
          [
           9
          ],
          [
           2
          ],
          [
           5
          ],
          [
           8
          ],
          [
           1
          ],
          [
           9
          ],
          [
           3
          ],
          [
           3
          ],
          [
           3
          ],
          [
           5
          ],
          [
           1
          ],
          [
           7
          ],
          [
           8
          ],
          [
           1
          ],
          [
           8
          ],
          [
           9
          ],
          [
           9
          ],
          [
           7
          ],
          [
           1
          ],
          [
           7
          ],
          [
           7
          ],
          [
           3
          ],
          [
           7
          ],
          [
           2
          ],
          [
           7
          ],
          [
           8
          ],
          [
           3
          ],
          [
           2
          ],
          [
           5
          ],
          [
           7
          ],
          [
           1
          ],
          [
           4
          ],
          [
           6
          ],
          [
           2
          ],
          [
           2
          ],
          [
           7
          ],
          [
           4
          ],
          [
           1
          ],
          [
           5
          ],
          [
           8
          ],
          [
           7
          ],
          [
           4
          ],
          [
           5
          ],
          [
           1
          ],
          [
           2
          ],
          [
           4
          ],
          [
           1
          ],
          [
           5
          ],
          [
           9
          ],
          [
           1
          ],
          [
           8
          ],
          [
           5
          ],
          [
           7
          ],
          [
           4
          ],
          [
           6
          ],
          [
           5
          ],
          [
           3
          ],
          [
           9
          ],
          [
           9
          ],
          [
           1
          ],
          [
           3
          ],
          [
           6
          ],
          [
           7
          ],
          [
           1
          ],
          [
           1
          ],
          [
           2
          ],
          [
           3
          ],
          [
           3
          ],
          [
           6
          ],
          [
           9
          ],
          [
           9
          ],
          [
           5
          ],
          [
           3
          ],
          [
           9
          ],
          [
           2
          ],
          [
           8
          ],
          [
           5
          ],
          [
           6
          ],
          [
           5
          ],
          [
           2
          ],
          [
           8
          ],
          [
           3
          ],
          [
           3
          ],
          [
           8
          ],
          [
           1
          ],
          [
           3
          ],
          [
           4
          ],
          [
           5
          ],
          [
           5
          ],
          [
           7
          ],
          [
           2
          ],
          [
           2
          ],
          [
           1
          ],
          [
           9
          ],
          [
           8
          ],
          [
           2
          ],
          [
           8
          ],
          [
           6
          ],
          [
           9
          ],
          [
           4
          ],
          [
           4
          ],
          [
           2
          ],
          [
           1
          ],
          [
           6
          ],
          [
           1
          ],
          [
           1
          ],
          [
           4
          ],
          [
           3
          ],
          [
           4
          ],
          [
           7
          ],
          [
           3
          ],
          [
           7
          ],
          [
           2
          ],
          [
           4
          ],
          [
           3
          ],
          [
           4
          ],
          [
           3
          ],
          [
           1
          ],
          [
           5
          ],
          [
           5
          ],
          [
           6
          ],
          [
           1
          ],
          [
           2
          ],
          [
           2
          ],
          [
           5
          ],
          [
           2
          ],
          [
           7
          ],
          [
           3
          ],
          [
           3
          ],
          [
           9
          ],
          [
           7
          ],
          [
           4
          ],
          [
           5
          ],
          [
           2
          ],
          [
           8
          ],
          [
           1
          ],
          [
           5
          ],
          [
           2
          ],
          [
           2
          ]
         ],
         "hovertemplate": "mitigation_status=Not Mitigated<br>Response Cost=%{x}<br>Resource Required=%{y}<br>Threat Severity=%{customdata[0]}<extra></extra>",
         "legendgroup": "Not Mitigated",
         "marker": {
          "color": "#636efa",
          "size": [
           7,
           4,
           5,
           7,
           3,
           5,
           4,
           8,
           3,
           2,
           8,
           6,
           6,
           9,
           9,
           7,
           5,
           2,
           2,
           5,
           2,
           4,
           7,
           8,
           1,
           4,
           2,
           4,
           6,
           6,
           2,
           4,
           9,
           8,
           5,
           9,
           8,
           1,
           3,
           5,
           7,
           9,
           1,
           8,
           8,
           6,
           3,
           3,
           5,
           3,
           5,
           9,
           3,
           4,
           5,
           7,
           6,
           2,
           5,
           7,
           9,
           1,
           1,
           9,
           4,
           9,
           3,
           7,
           6,
           8,
           5,
           3,
           6,
           1,
           2,
           3,
           5,
           1,
           2,
           1,
           2,
           6,
           7,
           6,
           5,
           6,
           3,
           3,
           3,
           7,
           7,
           1,
           2,
           7,
           2,
           1,
           9,
           3,
           8,
           4,
           1,
           8,
           4,
           3,
           2,
           6,
           3,
           9,
           4,
           1,
           5,
           8,
           7,
           3,
           1,
           6,
           7,
           6,
           3,
           2,
           5,
           1,
           5,
           3,
           1,
           1,
           3,
           5,
           8,
           5,
           1,
           4,
           5,
           7,
           2,
           9,
           2,
           7,
           1,
           8,
           1,
           6,
           7,
           2,
           4,
           4,
           3,
           2,
           7,
           6,
           6,
           6,
           1,
           4,
           6,
           6,
           1,
           8,
           5,
           4,
           6,
           4,
           7,
           8,
           4,
           3,
           1,
           5,
           1,
           2,
           7,
           7,
           3,
           5,
           1,
           4,
           5,
           5,
           4,
           5,
           6,
           4,
           4,
           3,
           4,
           8,
           2,
           4,
           8,
           3,
           1,
           1,
           8,
           2,
           2,
           3,
           7,
           1,
           4,
           5,
           4,
           4,
           5,
           8,
           3,
           1,
           2,
           1,
           7,
           7,
           9,
           9,
           6,
           3,
           4,
           7,
           4,
           3,
           5,
           5,
           5,
           4,
           7,
           9,
           5,
           7,
           3,
           2,
           6,
           7,
           8,
           2,
           5,
           5,
           6,
           8,
           6,
           4,
           6,
           2,
           1,
           3,
           1,
           9,
           8,
           6,
           5,
           6,
           1,
           1,
           6,
           8,
           8,
           8,
           8,
           5,
           4,
           1,
           5,
           4,
           5,
           2,
           2,
           8,
           1,
           2,
           1,
           5,
           6,
           1,
           2,
           3,
           1,
           5,
           7,
           6,
           1,
           5,
           6,
           3,
           7,
           5,
           3,
           1,
           3,
           1,
           7,
           2,
           6,
           2,
           1,
           6,
           5,
           9,
           1,
           7,
           5,
           5,
           2,
           3,
           6,
           2,
           2,
           3,
           2,
           9,
           8,
           7,
           3,
           1,
           5,
           1,
           4,
           8,
           7,
           6,
           4,
           9,
           2,
           3,
           5,
           6,
           1,
           5,
           9,
           1,
           9,
           1,
           1,
           2,
           7,
           3,
           9,
           7,
           7,
           1,
           9,
           1,
           4,
           9,
           2,
           4,
           6,
           8,
           5,
           6,
           4,
           2,
           8,
           6,
           5,
           6,
           6,
           7,
           8,
           7,
           7,
           3,
           6,
           6,
           1,
           6,
           3,
           5,
           6,
           4,
           4,
           1,
           6,
           3,
           5,
           7,
           2,
           8,
           4,
           1,
           5,
           7,
           1,
           5,
           2,
           3,
           3,
           1,
           8,
           8,
           5,
           5,
           3,
           7,
           3,
           1,
           7,
           2,
           3,
           3,
           6,
           6,
           3,
           4,
           4,
           6,
           7,
           1,
           4,
           2,
           5,
           1,
           6,
           6,
           4,
           8,
           4,
           8,
           5,
           4,
           3,
           5,
           2,
           4,
           5,
           8,
           5,
           8,
           1,
           3,
           9,
           5,
           4,
           7,
           1,
           6,
           7,
           5,
           9,
           9,
           6,
           2,
           2,
           1,
           3,
           6,
           9,
           4,
           1,
           5,
           1,
           7,
           4,
           6,
           8,
           7,
           1,
           8,
           2,
           1,
           2,
           6,
           1,
           2,
           6,
           4,
           8,
           7,
           2,
           7,
           8,
           1,
           7,
           3,
           8,
           5,
           3,
           3,
           1,
           8,
           4,
           5,
           7,
           7,
           5,
           3,
           4,
           2,
           2,
           4,
           3,
           7,
           4,
           6,
           2,
           5,
           3,
           6,
           7,
           2,
           3,
           1,
           2,
           6,
           7,
           5,
           6,
           2,
           6,
           2,
           1,
           5,
           9,
           7,
           5,
           9,
           5,
           5,
           2,
           5,
           3,
           8,
           3,
           2,
           7,
           6,
           8,
           1,
           4,
           4,
           2,
           9,
           2,
           5,
           8,
           1,
           9,
           3,
           3,
           3,
           5,
           1,
           7,
           8,
           1,
           8,
           9,
           9,
           7,
           1,
           7,
           7,
           3,
           7,
           2,
           7,
           8,
           3,
           2,
           5,
           7,
           1,
           4,
           6,
           2,
           2,
           7,
           4,
           1,
           5,
           8,
           7,
           4,
           5,
           1,
           2,
           4,
           1,
           5,
           9,
           1,
           8,
           5,
           7,
           4,
           6,
           5,
           3,
           9,
           9,
           1,
           3,
           6,
           7,
           1,
           1,
           2,
           3,
           3,
           6,
           9,
           9,
           5,
           3,
           9,
           2,
           8,
           5,
           6,
           5,
           2,
           8,
           3,
           3,
           8,
           1,
           3,
           4,
           5,
           5,
           7,
           2,
           2,
           1,
           9,
           8,
           2,
           8,
           6,
           9,
           4,
           4,
           2,
           1,
           6,
           1,
           1,
           4,
           3,
           4,
           7,
           3,
           7,
           2,
           4,
           3,
           4,
           3,
           1,
           5,
           5,
           6,
           1,
           2,
           2,
           5,
           2,
           7,
           3,
           3,
           9,
           7,
           4,
           5,
           2,
           8,
           1,
           5,
           2,
           2
          ],
          "sizemode": "area",
          "sizeref": 0.0225,
          "symbol": "circle"
         },
         "mode": "markers",
         "name": "Not Mitigated",
         "orientation": "v",
         "showlegend": true,
         "type": "scatter",
         "x": [
          2,
          3,
          2,
          4,
          3,
          1,
          4,
          2,
          4,
          3,
          4,
          1,
          2,
          4,
          4,
          4,
          4,
          1,
          1,
          1,
          2,
          1,
          1,
          4,
          2,
          3,
          2,
          3,
          2,
          2,
          2,
          3,
          4,
          3,
          3,
          4,
          1,
          2,
          2,
          3,
          3,
          3,
          4,
          2,
          3,
          3,
          1,
          2,
          2,
          3,
          2,
          4,
          1,
          3,
          3,
          1,
          1,
          3,
          3,
          4,
          2,
          2,
          3,
          2,
          4,
          4,
          1,
          3,
          3,
          4,
          3,
          1,
          2,
          4,
          1,
          3,
          1,
          4,
          4,
          4,
          3,
          1,
          4,
          4,
          3,
          3,
          2,
          4,
          1,
          4,
          2,
          4,
          2,
          4,
          1,
          2,
          4,
          2,
          3,
          2,
          1,
          4,
          2,
          1,
          4,
          4,
          4,
          1,
          3,
          3,
          2,
          2,
          4,
          2,
          2,
          2,
          1,
          4,
          4,
          1,
          1,
          2,
          4,
          3,
          1,
          3,
          1,
          1,
          4,
          4,
          3,
          3,
          2,
          4,
          4,
          2,
          1,
          2,
          3,
          3,
          2,
          1,
          3,
          1,
          4,
          1,
          3,
          2,
          1,
          2,
          3,
          3,
          4,
          3,
          3,
          2,
          4,
          2,
          4,
          2,
          1,
          4,
          2,
          2,
          4,
          4,
          2,
          1,
          3,
          3,
          3,
          2,
          1,
          2,
          1,
          4,
          3,
          4,
          2,
          1,
          3,
          4,
          1,
          4,
          2,
          4,
          2,
          2,
          3,
          1,
          1,
          1,
          3,
          1,
          4,
          2,
          1,
          2,
          2,
          2,
          3,
          1,
          4,
          2,
          3,
          1,
          1,
          4,
          3,
          1,
          1,
          4,
          2,
          2,
          3,
          2,
          2,
          2,
          1,
          3,
          4,
          2,
          4,
          1,
          2,
          1,
          1,
          4,
          4,
          4,
          3,
          4,
          2,
          2,
          2,
          3,
          1,
          4,
          3,
          3,
          3,
          2,
          1,
          4,
          4,
          4,
          2,
          3,
          1,
          1,
          2,
          3,
          2,
          1,
          3,
          4,
          2,
          2,
          4,
          4,
          4,
          1,
          3,
          3,
          1,
          2,
          4,
          1,
          1,
          3,
          4,
          1,
          1,
          2,
          4,
          4,
          4,
          2,
          3,
          1,
          2,
          4,
          4,
          3,
          3,
          2,
          3,
          1,
          3,
          1,
          3,
          1,
          1,
          2,
          4,
          1,
          3,
          3,
          4,
          3,
          3,
          2,
          1,
          1,
          2,
          2,
          3,
          1,
          2,
          3,
          2,
          3,
          1,
          3,
          2,
          4,
          1,
          1,
          3,
          1,
          1,
          1,
          1,
          1,
          4,
          4,
          4,
          4,
          3,
          2,
          4,
          2,
          2,
          4,
          2,
          2,
          1,
          1,
          1,
          4,
          2,
          2,
          2,
          4,
          4,
          4,
          4,
          3,
          4,
          2,
          1,
          1,
          4,
          4,
          4,
          1,
          2,
          4,
          3,
          4,
          2,
          2,
          3,
          2,
          1,
          1,
          1,
          1,
          3,
          2,
          3,
          2,
          3,
          2,
          3,
          2,
          4,
          1,
          2,
          2,
          1,
          2,
          2,
          2,
          3,
          3,
          2,
          3,
          2,
          2,
          2,
          1,
          3,
          2,
          2,
          1,
          4,
          3,
          2,
          1,
          2,
          2,
          4,
          1,
          4,
          4,
          4,
          4,
          4,
          1,
          3,
          2,
          4,
          2,
          4,
          3,
          4,
          2,
          2,
          3,
          2,
          1,
          3,
          4,
          3,
          3,
          3,
          2,
          3,
          4,
          4,
          1,
          4,
          1,
          4,
          2,
          3,
          2,
          4,
          3,
          2,
          4,
          3,
          3,
          3,
          1,
          2,
          3,
          2,
          3,
          1,
          3,
          1,
          1,
          2,
          1,
          2,
          1,
          1,
          4,
          4,
          3,
          4,
          3,
          4,
          4,
          2,
          4,
          4,
          2,
          4,
          1,
          2,
          2,
          1,
          4,
          1,
          1,
          4,
          1,
          2,
          4,
          4,
          4,
          1,
          3,
          4,
          2,
          4,
          1,
          3,
          4,
          1,
          1,
          3,
          4,
          1,
          4,
          3,
          3,
          1,
          4,
          1,
          4,
          4,
          3,
          4,
          3,
          3,
          3,
          4,
          2,
          4,
          2,
          2,
          4,
          3,
          4,
          3,
          3,
          1,
          2,
          1,
          1,
          1,
          2,
          2,
          1,
          4,
          4,
          2,
          2,
          3,
          4,
          3,
          1,
          4,
          3,
          1,
          3,
          1,
          4,
          1,
          3,
          2,
          1,
          4,
          2,
          3,
          1,
          2,
          1,
          4,
          2,
          4,
          3,
          4,
          2,
          2,
          3,
          1,
          2,
          1,
          3,
          2,
          3,
          3,
          4,
          1,
          2,
          1,
          4,
          3,
          3,
          1,
          2,
          3,
          3,
          4,
          4,
          1,
          4,
          4,
          3,
          4,
          2,
          2,
          3,
          2,
          3,
          3,
          4,
          1,
          2,
          2,
          2,
          4,
          1,
          2,
          1,
          4,
          3,
          3,
          3,
          4,
          2,
          2,
          3,
          2,
          1,
          4,
          3,
          2,
          4,
          3,
          3,
          4,
          1,
          2,
          4,
          4,
          4,
          2,
          2,
          3,
          4,
          3,
          2,
          4,
          4,
          2,
          2,
          1,
          4,
          1,
          4,
          2,
          3,
          1,
          3,
          4,
          3,
          4,
          1,
          1,
          2,
          4,
          4,
          3,
          4,
          4,
          1,
          2,
          1,
          3,
          2,
          1,
          2,
          3,
          2,
          3,
          1,
          4,
          4,
          1,
          1
         ],
         "xaxis": "x",
         "y": [
          2,
          2,
          2,
          2,
          2,
          1,
          1,
          2,
          1,
          2,
          2,
          1,
          2,
          2,
          1,
          2,
          2,
          2,
          1,
          2,
          2,
          2,
          2,
          2,
          2,
          1,
          2,
          1,
          2,
          1,
          1,
          2,
          1,
          1,
          2,
          2,
          2,
          1,
          1,
          2,
          2,
          2,
          2,
          1,
          2,
          1,
          2,
          1,
          1,
          1,
          2,
          1,
          1,
          1,
          1,
          2,
          1,
          1,
          1,
          2,
          2,
          1,
          1,
          2,
          1,
          2,
          2,
          2,
          2,
          2,
          2,
          1,
          2,
          2,
          1,
          1,
          2,
          2,
          2,
          2,
          1,
          2,
          1,
          2,
          2,
          2,
          2,
          1,
          1,
          2,
          2,
          2,
          2,
          1,
          2,
          1,
          1,
          1,
          2,
          2,
          1,
          2,
          1,
          1,
          2,
          2,
          2,
          2,
          2,
          1,
          2,
          1,
          1,
          2,
          2,
          1,
          2,
          2,
          2,
          2,
          2,
          1,
          2,
          2,
          2,
          1,
          2,
          2,
          1,
          1,
          1,
          1,
          1,
          1,
          2,
          2,
          1,
          2,
          1,
          1,
          1,
          1,
          2,
          2,
          2,
          1,
          2,
          1,
          2,
          2,
          2,
          1,
          2,
          2,
          1,
          1,
          2,
          2,
          1,
          2,
          2,
          2,
          2,
          2,
          2,
          1,
          1,
          1,
          1,
          1,
          2,
          1,
          1,
          1,
          2,
          2,
          1,
          2,
          2,
          1,
          1,
          2,
          2,
          1,
          1,
          2,
          1,
          2,
          1,
          1,
          1,
          2,
          2,
          2,
          1,
          1,
          1,
          2,
          2,
          1,
          1,
          2,
          2,
          2,
          1,
          2,
          1,
          2,
          1,
          2,
          2,
          2,
          1,
          1,
          1,
          1,
          2,
          2,
          1,
          1,
          1,
          2,
          1,
          2,
          1,
          2,
          2,
          1,
          2,
          1,
          2,
          2,
          2,
          2,
          1,
          1,
          1,
          1,
          2,
          2,
          1,
          1,
          1,
          2,
          1,
          2,
          2,
          2,
          1,
          2,
          1,
          2,
          1,
          2,
          1,
          1,
          1,
          2,
          2,
          1,
          2,
          2,
          1,
          2,
          1,
          2,
          1,
          1,
          2,
          2,
          2,
          1,
          2,
          2,
          2,
          2,
          2,
          1,
          1,
          1,
          1,
          2,
          1,
          2,
          2,
          1,
          1,
          1,
          1,
          1,
          2,
          2,
          1,
          2,
          1,
          2,
          2,
          1,
          1,
          1,
          1,
          2,
          2,
          2,
          2,
          2,
          1,
          1,
          2,
          2,
          2,
          2,
          1,
          2,
          1,
          1,
          1,
          2,
          1,
          1,
          1,
          2,
          2,
          2,
          1,
          1,
          1,
          2,
          1,
          1,
          1,
          2,
          2,
          1,
          2,
          1,
          2,
          2,
          1,
          2,
          1,
          1,
          1,
          1,
          2,
          1,
          1,
          1,
          2,
          2,
          2,
          2,
          1,
          2,
          1,
          1,
          1,
          1,
          1,
          1,
          1,
          1,
          2,
          1,
          1,
          1,
          2,
          2,
          2,
          2,
          1,
          2,
          2,
          2,
          2,
          2,
          2,
          1,
          1,
          2,
          1,
          1,
          2,
          2,
          2,
          2,
          2,
          2,
          2,
          1,
          2,
          1,
          1,
          2,
          2,
          1,
          2,
          2,
          2,
          2,
          1,
          1,
          2,
          2,
          1,
          1,
          1,
          2,
          2,
          1,
          2,
          2,
          1,
          2,
          2,
          1,
          2,
          1,
          2,
          2,
          2,
          2,
          1,
          1,
          1,
          1,
          2,
          2,
          2,
          1,
          1,
          1,
          2,
          1,
          2,
          2,
          1,
          1,
          2,
          1,
          2,
          1,
          2,
          1,
          1,
          2,
          1,
          2,
          2,
          2,
          2,
          2,
          2,
          2,
          1,
          1,
          1,
          1,
          2,
          1,
          1,
          1,
          1,
          1,
          2,
          1,
          2,
          2,
          2,
          2,
          2,
          2,
          2,
          2,
          2,
          1,
          2,
          1,
          1,
          1,
          2,
          1,
          2,
          1,
          1,
          1,
          2,
          1,
          1,
          1,
          1,
          2,
          1,
          2,
          1,
          1,
          2,
          2,
          2,
          1,
          1,
          1,
          2,
          2,
          2,
          1,
          1,
          2,
          2,
          2,
          2,
          2,
          2,
          2,
          1,
          2,
          1,
          1,
          2,
          1,
          1,
          1,
          2,
          1,
          2,
          2,
          1,
          2,
          1,
          2,
          2,
          2,
          2,
          1,
          1,
          1,
          1,
          2,
          1,
          1,
          2,
          2,
          2,
          2,
          2,
          2,
          1,
          1,
          1,
          1,
          2,
          1,
          1,
          1,
          1,
          1,
          1,
          1,
          1,
          1,
          1,
          2,
          2,
          2,
          2,
          2,
          2,
          2,
          2,
          2,
          1,
          2,
          2,
          1,
          1,
          2,
          2,
          1,
          2,
          2,
          1,
          1,
          2,
          1,
          2,
          2,
          2,
          2,
          1,
          1,
          2,
          2,
          2,
          1,
          1,
          1,
          2,
          2,
          2,
          1,
          2,
          2,
          2,
          1,
          2,
          1,
          1,
          2,
          1,
          1,
          1,
          1,
          2,
          2,
          2,
          1,
          2,
          1,
          2,
          2,
          2,
          1,
          1,
          2,
          2,
          2,
          1,
          2,
          1,
          2,
          1,
          2,
          1,
          2,
          2,
          1,
          2,
          1,
          1,
          1,
          2,
          1,
          2,
          1,
          2,
          2,
          2,
          2,
          1,
          1,
          2,
          2,
          1,
          2,
          2,
          2,
          2,
          1,
          1,
          2,
          1,
          2,
          2,
          2,
          2,
          1
         ],
         "yaxis": "y"
        },
        {
         "customdata": [
          [
           9
          ],
          [
           9
          ],
          [
           9
          ],
          [
           9
          ],
          [
           9
          ],
          [
           9
          ],
          [
           9
          ],
          [
           9
          ],
          [
           9
          ],
          [
           8
          ],
          [
           9
          ],
          [
           9
          ],
          [
           9
          ],
          [
           8
          ],
          [
           9
          ],
          [
           9
          ],
          [
           9
          ],
          [
           8
          ],
          [
           9
          ],
          [
           9
          ],
          [
           8
          ],
          [
           8
          ],
          [
           9
          ],
          [
           9
          ],
          [
           9
          ],
          [
           8
          ],
          [
           9
          ],
          [
           9
          ],
          [
           9
          ],
          [
           9
          ],
          [
           9
          ],
          [
           8
          ],
          [
           9
          ],
          [
           9
          ],
          [
           9
          ],
          [
           8
          ],
          [
           9
          ],
          [
           9
          ],
          [
           9
          ],
          [
           8
          ],
          [
           8
          ],
          [
           9
          ],
          [
           8
          ],
          [
           9
          ],
          [
           9
          ],
          [
           8
          ],
          [
           9
          ],
          [
           8
          ],
          [
           8
          ],
          [
           8
          ]
         ],
         "hovertemplate": "mitigation_status=Mitigated<br>Response Cost=%{x}<br>Resource Required=%{y}<br>Threat Severity=%{customdata[0]}<extra></extra>",
         "legendgroup": "Mitigated",
         "marker": {
          "color": "#EF553B",
          "size": [
           9,
           9,
           9,
           9,
           9,
           9,
           9,
           9,
           9,
           8,
           9,
           9,
           9,
           8,
           9,
           9,
           9,
           8,
           9,
           9,
           8,
           8,
           9,
           9,
           9,
           8,
           9,
           9,
           9,
           9,
           9,
           8,
           9,
           9,
           9,
           8,
           9,
           9,
           9,
           8,
           8,
           9,
           8,
           9,
           9,
           8,
           9,
           8,
           8,
           8
          ],
          "sizemode": "area",
          "sizeref": 0.0225,
          "symbol": "circle"
         },
         "mode": "markers",
         "name": "Mitigated",
         "orientation": "v",
         "showlegend": true,
         "type": "scatter",
         "x": [
          1,
          1,
          3,
          1,
          3,
          3,
          1,
          1,
          3,
          1,
          2,
          2,
          1,
          1,
          2,
          1,
          2,
          2,
          3,
          3,
          1,
          2,
          4,
          3,
          2,
          2,
          1,
          1,
          3,
          3,
          4,
          1,
          1,
          3,
          2,
          1,
          3,
          1,
          3,
          2,
          1,
          4,
          2,
          1,
          4,
          2,
          1,
          2,
          2,
          1
         ],
         "xaxis": "x",
         "y": [
          1,
          1,
          1,
          1,
          1,
          1,
          1,
          1,
          1,
          1,
          1,
          1,
          1,
          1,
          1,
          1,
          1,
          1,
          1,
          1,
          1,
          1,
          1,
          1,
          1,
          1,
          1,
          1,
          1,
          1,
          1,
          1,
          1,
          1,
          1,
          1,
          1,
          1,
          1,
          1,
          1,
          1,
          1,
          1,
          1,
          1,
          1,
          1,
          1,
          1
         ],
         "yaxis": "y"
        }
       ],
       "layout": {
        "legend": {
         "itemsizing": "constant",
         "title": {
          "text": "Mitigation Status"
         },
         "tracegroupgap": 0
        },
        "template": {
         "data": {
          "bar": [
           {
            "error_x": {
             "color": "#2a3f5f"
            },
            "error_y": {
             "color": "#2a3f5f"
            },
            "marker": {
             "line": {
              "color": "#E5ECF6",
              "width": 0.5
             },
             "pattern": {
              "fillmode": "overlay",
              "size": 10,
              "solidity": 0.2
             }
            },
            "type": "bar"
           }
          ],
          "barpolar": [
           {
            "marker": {
             "line": {
              "color": "#E5ECF6",
              "width": 0.5
             },
             "pattern": {
              "fillmode": "overlay",
              "size": 10,
              "solidity": 0.2
             }
            },
            "type": "barpolar"
           }
          ],
          "carpet": [
           {
            "aaxis": {
             "endlinecolor": "#2a3f5f",
             "gridcolor": "white",
             "linecolor": "white",
             "minorgridcolor": "white",
             "startlinecolor": "#2a3f5f"
            },
            "baxis": {
             "endlinecolor": "#2a3f5f",
             "gridcolor": "white",
             "linecolor": "white",
             "minorgridcolor": "white",
             "startlinecolor": "#2a3f5f"
            },
            "type": "carpet"
           }
          ],
          "choropleth": [
           {
            "colorbar": {
             "outlinewidth": 0,
             "ticks": ""
            },
            "type": "choropleth"
           }
          ],
          "contour": [
           {
            "colorbar": {
             "outlinewidth": 0,
             "ticks": ""
            },
            "colorscale": [
             [
              0,
              "#0d0887"
             ],
             [
              0.1111111111111111,
              "#46039f"
             ],
             [
              0.2222222222222222,
              "#7201a8"
             ],
             [
              0.3333333333333333,
              "#9c179e"
             ],
             [
              0.4444444444444444,
              "#bd3786"
             ],
             [
              0.5555555555555556,
              "#d8576b"
             ],
             [
              0.6666666666666666,
              "#ed7953"
             ],
             [
              0.7777777777777778,
              "#fb9f3a"
             ],
             [
              0.8888888888888888,
              "#fdca26"
             ],
             [
              1,
              "#f0f921"
             ]
            ],
            "type": "contour"
           }
          ],
          "contourcarpet": [
           {
            "colorbar": {
             "outlinewidth": 0,
             "ticks": ""
            },
            "type": "contourcarpet"
           }
          ],
          "heatmap": [
           {
            "colorbar": {
             "outlinewidth": 0,
             "ticks": ""
            },
            "colorscale": [
             [
              0,
              "#0d0887"
             ],
             [
              0.1111111111111111,
              "#46039f"
             ],
             [
              0.2222222222222222,
              "#7201a8"
             ],
             [
              0.3333333333333333,
              "#9c179e"
             ],
             [
              0.4444444444444444,
              "#bd3786"
             ],
             [
              0.5555555555555556,
              "#d8576b"
             ],
             [
              0.6666666666666666,
              "#ed7953"
             ],
             [
              0.7777777777777778,
              "#fb9f3a"
             ],
             [
              0.8888888888888888,
              "#fdca26"
             ],
             [
              1,
              "#f0f921"
             ]
            ],
            "type": "heatmap"
           }
          ],
          "heatmapgl": [
           {
            "colorbar": {
             "outlinewidth": 0,
             "ticks": ""
            },
            "colorscale": [
             [
              0,
              "#0d0887"
             ],
             [
              0.1111111111111111,
              "#46039f"
             ],
             [
              0.2222222222222222,
              "#7201a8"
             ],
             [
              0.3333333333333333,
              "#9c179e"
             ],
             [
              0.4444444444444444,
              "#bd3786"
             ],
             [
              0.5555555555555556,
              "#d8576b"
             ],
             [
              0.6666666666666666,
              "#ed7953"
             ],
             [
              0.7777777777777778,
              "#fb9f3a"
             ],
             [
              0.8888888888888888,
              "#fdca26"
             ],
             [
              1,
              "#f0f921"
             ]
            ],
            "type": "heatmapgl"
           }
          ],
          "histogram": [
           {
            "marker": {
             "pattern": {
              "fillmode": "overlay",
              "size": 10,
              "solidity": 0.2
             }
            },
            "type": "histogram"
           }
          ],
          "histogram2d": [
           {
            "colorbar": {
             "outlinewidth": 0,
             "ticks": ""
            },
            "colorscale": [
             [
              0,
              "#0d0887"
             ],
             [
              0.1111111111111111,
              "#46039f"
             ],
             [
              0.2222222222222222,
              "#7201a8"
             ],
             [
              0.3333333333333333,
              "#9c179e"
             ],
             [
              0.4444444444444444,
              "#bd3786"
             ],
             [
              0.5555555555555556,
              "#d8576b"
             ],
             [
              0.6666666666666666,
              "#ed7953"
             ],
             [
              0.7777777777777778,
              "#fb9f3a"
             ],
             [
              0.8888888888888888,
              "#fdca26"
             ],
             [
              1,
              "#f0f921"
             ]
            ],
            "type": "histogram2d"
           }
          ],
          "histogram2dcontour": [
           {
            "colorbar": {
             "outlinewidth": 0,
             "ticks": ""
            },
            "colorscale": [
             [
              0,
              "#0d0887"
             ],
             [
              0.1111111111111111,
              "#46039f"
             ],
             [
              0.2222222222222222,
              "#7201a8"
             ],
             [
              0.3333333333333333,
              "#9c179e"
             ],
             [
              0.4444444444444444,
              "#bd3786"
             ],
             [
              0.5555555555555556,
              "#d8576b"
             ],
             [
              0.6666666666666666,
              "#ed7953"
             ],
             [
              0.7777777777777778,
              "#fb9f3a"
             ],
             [
              0.8888888888888888,
              "#fdca26"
             ],
             [
              1,
              "#f0f921"
             ]
            ],
            "type": "histogram2dcontour"
           }
          ],
          "mesh3d": [
           {
            "colorbar": {
             "outlinewidth": 0,
             "ticks": ""
            },
            "type": "mesh3d"
           }
          ],
          "parcoords": [
           {
            "line": {
             "colorbar": {
              "outlinewidth": 0,
              "ticks": ""
             }
            },
            "type": "parcoords"
           }
          ],
          "pie": [
           {
            "automargin": true,
            "type": "pie"
           }
          ],
          "scatter": [
           {
            "fillpattern": {
             "fillmode": "overlay",
             "size": 10,
             "solidity": 0.2
            },
            "type": "scatter"
           }
          ],
          "scatter3d": [
           {
            "line": {
             "colorbar": {
              "outlinewidth": 0,
              "ticks": ""
             }
            },
            "marker": {
             "colorbar": {
              "outlinewidth": 0,
              "ticks": ""
             }
            },
            "type": "scatter3d"
           }
          ],
          "scattercarpet": [
           {
            "marker": {
             "colorbar": {
              "outlinewidth": 0,
              "ticks": ""
             }
            },
            "type": "scattercarpet"
           }
          ],
          "scattergeo": [
           {
            "marker": {
             "colorbar": {
              "outlinewidth": 0,
              "ticks": ""
             }
            },
            "type": "scattergeo"
           }
          ],
          "scattergl": [
           {
            "marker": {
             "colorbar": {
              "outlinewidth": 0,
              "ticks": ""
             }
            },
            "type": "scattergl"
           }
          ],
          "scattermapbox": [
           {
            "marker": {
             "colorbar": {
              "outlinewidth": 0,
              "ticks": ""
             }
            },
            "type": "scattermapbox"
           }
          ],
          "scatterpolar": [
           {
            "marker": {
             "colorbar": {
              "outlinewidth": 0,
              "ticks": ""
             }
            },
            "type": "scatterpolar"
           }
          ],
          "scatterpolargl": [
           {
            "marker": {
             "colorbar": {
              "outlinewidth": 0,
              "ticks": ""
             }
            },
            "type": "scatterpolargl"
           }
          ],
          "scatterternary": [
           {
            "marker": {
             "colorbar": {
              "outlinewidth": 0,
              "ticks": ""
             }
            },
            "type": "scatterternary"
           }
          ],
          "surface": [
           {
            "colorbar": {
             "outlinewidth": 0,
             "ticks": ""
            },
            "colorscale": [
             [
              0,
              "#0d0887"
             ],
             [
              0.1111111111111111,
              "#46039f"
             ],
             [
              0.2222222222222222,
              "#7201a8"
             ],
             [
              0.3333333333333333,
              "#9c179e"
             ],
             [
              0.4444444444444444,
              "#bd3786"
             ],
             [
              0.5555555555555556,
              "#d8576b"
             ],
             [
              0.6666666666666666,
              "#ed7953"
             ],
             [
              0.7777777777777778,
              "#fb9f3a"
             ],
             [
              0.8888888888888888,
              "#fdca26"
             ],
             [
              1,
              "#f0f921"
             ]
            ],
            "type": "surface"
           }
          ],
          "table": [
           {
            "cells": {
             "fill": {
              "color": "#EBF0F8"
             },
             "line": {
              "color": "white"
             }
            },
            "header": {
             "fill": {
              "color": "#C8D4E3"
             },
             "line": {
              "color": "white"
             }
            },
            "type": "table"
           }
          ]
         },
         "layout": {
          "annotationdefaults": {
           "arrowcolor": "#2a3f5f",
           "arrowhead": 0,
           "arrowwidth": 1
          },
          "autotypenumbers": "strict",
          "coloraxis": {
           "colorbar": {
            "outlinewidth": 0,
            "ticks": ""
           }
          },
          "colorscale": {
           "diverging": [
            [
             0,
             "#8e0152"
            ],
            [
             0.1,
             "#c51b7d"
            ],
            [
             0.2,
             "#de77ae"
            ],
            [
             0.3,
             "#f1b6da"
            ],
            [
             0.4,
             "#fde0ef"
            ],
            [
             0.5,
             "#f7f7f7"
            ],
            [
             0.6,
             "#e6f5d0"
            ],
            [
             0.7,
             "#b8e186"
            ],
            [
             0.8,
             "#7fbc41"
            ],
            [
             0.9,
             "#4d9221"
            ],
            [
             1,
             "#276419"
            ]
           ],
           "sequential": [
            [
             0,
             "#0d0887"
            ],
            [
             0.1111111111111111,
             "#46039f"
            ],
            [
             0.2222222222222222,
             "#7201a8"
            ],
            [
             0.3333333333333333,
             "#9c179e"
            ],
            [
             0.4444444444444444,
             "#bd3786"
            ],
            [
             0.5555555555555556,
             "#d8576b"
            ],
            [
             0.6666666666666666,
             "#ed7953"
            ],
            [
             0.7777777777777778,
             "#fb9f3a"
            ],
            [
             0.8888888888888888,
             "#fdca26"
            ],
            [
             1,
             "#f0f921"
            ]
           ],
           "sequentialminus": [
            [
             0,
             "#0d0887"
            ],
            [
             0.1111111111111111,
             "#46039f"
            ],
            [
             0.2222222222222222,
             "#7201a8"
            ],
            [
             0.3333333333333333,
             "#9c179e"
            ],
            [
             0.4444444444444444,
             "#bd3786"
            ],
            [
             0.5555555555555556,
             "#d8576b"
            ],
            [
             0.6666666666666666,
             "#ed7953"
            ],
            [
             0.7777777777777778,
             "#fb9f3a"
            ],
            [
             0.8888888888888888,
             "#fdca26"
            ],
            [
             1,
             "#f0f921"
            ]
           ]
          },
          "colorway": [
           "#636efa",
           "#EF553B",
           "#00cc96",
           "#ab63fa",
           "#FFA15A",
           "#19d3f3",
           "#FF6692",
           "#B6E880",
           "#FF97FF",
           "#FECB52"
          ],
          "font": {
           "color": "#2a3f5f"
          },
          "geo": {
           "bgcolor": "white",
           "lakecolor": "white",
           "landcolor": "#E5ECF6",
           "showlakes": true,
           "showland": true,
           "subunitcolor": "white"
          },
          "hoverlabel": {
           "align": "left"
          },
          "hovermode": "closest",
          "mapbox": {
           "style": "light"
          },
          "paper_bgcolor": "white",
          "plot_bgcolor": "#E5ECF6",
          "polar": {
           "angularaxis": {
            "gridcolor": "white",
            "linecolor": "white",
            "ticks": ""
           },
           "bgcolor": "#E5ECF6",
           "radialaxis": {
            "gridcolor": "white",
            "linecolor": "white",
            "ticks": ""
           }
          },
          "scene": {
           "xaxis": {
            "backgroundcolor": "#E5ECF6",
            "gridcolor": "white",
            "gridwidth": 2,
            "linecolor": "white",
            "showbackground": true,
            "ticks": "",
            "zerolinecolor": "white"
           },
           "yaxis": {
            "backgroundcolor": "#E5ECF6",
            "gridcolor": "white",
            "gridwidth": 2,
            "linecolor": "white",
            "showbackground": true,
            "ticks": "",
            "zerolinecolor": "white"
           },
           "zaxis": {
            "backgroundcolor": "#E5ECF6",
            "gridcolor": "white",
            "gridwidth": 2,
            "linecolor": "white",
            "showbackground": true,
            "ticks": "",
            "zerolinecolor": "white"
           }
          },
          "shapedefaults": {
           "line": {
            "color": "#2a3f5f"
           }
          },
          "ternary": {
           "aaxis": {
            "gridcolor": "white",
            "linecolor": "white",
            "ticks": ""
           },
           "baxis": {
            "gridcolor": "white",
            "linecolor": "white",
            "ticks": ""
           },
           "bgcolor": "#E5ECF6",
           "caxis": {
            "gridcolor": "white",
            "linecolor": "white",
            "ticks": ""
           }
          },
          "title": {
           "x": 0.05
          },
          "xaxis": {
           "automargin": true,
           "gridcolor": "white",
           "linecolor": "white",
           "ticks": "",
           "title": {
            "standoff": 15
           },
           "zerolinecolor": "white",
           "zerolinewidth": 2
          },
          "yaxis": {
           "automargin": true,
           "gridcolor": "white",
           "linecolor": "white",
           "ticks": "",
           "title": {
            "standoff": 15
           },
           "zerolinecolor": "white",
           "zerolinewidth": 2
          }
         }
        },
        "title": {
         "text": "Threat Mitigation Optimization"
        },
        "xaxis": {
         "anchor": "y",
         "domain": [
          0,
          1
         ],
         "title": {
          "text": "Response Cost"
         }
        },
        "yaxis": {
         "anchor": "x",
         "domain": [
          0,
          1
         ],
         "title": {
          "text": "Resource Required"
         }
        }
       }
      }
     },
     "metadata": {},
     "output_type": "display_data"
    }
   ],
   "source": [
    "import plotly.express as px\n",
    "\n",
    "# Prepare data for plotting\n",
    "viz_df = threat_df[['threat_severity', 'response_cost', 'resource_required', 'mitigated']].copy()\n",
    "viz_df['mitigation_status'] = viz_df['mitigated'].apply(lambda x: 'Mitigated' if x == 1 else 'Not Mitigated')\n",
    "\n",
    "# Create interactive scatter plot\n",
    "fig = px.scatter(\n",
    "    viz_df,\n",
    "    x='response_cost',\n",
    "    y='resource_required',\n",
    "    size='threat_severity',\n",
    "    color='mitigation_status',\n",
    "    hover_data=['threat_severity'],\n",
    "    title='Threat Mitigation Optimization',\n",
    "    labels={\n",
    "        'response_cost': 'Response Cost',\n",
    "        'resource_required': 'Resource Required',\n",
    "        'threat_severity': 'Threat Severity'\n",
    "    }\n",
    ")\n",
    "\n",
    "# Show the plot\n",
    "fig.update_layout(legend_title_text='Mitigation Status')\n",
    "fig.show()\n"
   ]
  },
  {
   "cell_type": "code",
   "execution_count": 62,
   "id": "da04a5d8",
   "metadata": {},
   "outputs": [
    {
     "data": {
      "application/vnd.plotly.v1+json": {
       "config": {
        "plotlyServerURL": "https://plot.ly"
       },
       "data": [
        {
         "colorscale": [
          [
           0,
           "#440154"
          ],
          [
           0.1111111111111111,
           "#482878"
          ],
          [
           0.2222222222222222,
           "#3e4989"
          ],
          [
           0.3333333333333333,
           "#31688e"
          ],
          [
           0.4444444444444444,
           "#26828e"
          ],
          [
           0.5555555555555556,
           "#1f9e89"
          ],
          [
           0.6666666666666666,
           "#35b779"
          ],
          [
           0.7777777777777778,
           "#6ece58"
          ],
          [
           0.8888888888888888,
           "#b5de2b"
          ],
          [
           1,
           "#fde725"
          ]
         ],
         "reversescale": false,
         "showscale": false,
         "type": "heatmap",
         "x": [
          "threat_severity",
          "response_cost",
          "resource_required",
          "mitigated"
         ],
         "y": [
          "threat_severity",
          "response_cost",
          "resource_required",
          "mitigated"
         ],
         "z": [
          [
           1,
           0.047460347005044895,
           -0.012313983728247928,
           0.40138992327010337
          ],
          [
           0.047460347005044895,
           1,
           0.041224403726873346,
           -0.12424958745769527
          ],
          [
           -0.012313983728247928,
           0.041224403726873346,
           1,
           -0.2739983121755956
          ],
          [
           0.40138992327010337,
           -0.12424958745769527,
           -0.2739983121755956,
           1
          ]
         ]
        }
       ],
       "layout": {
        "annotations": [
         {
          "font": {
           "color": "#000000"
          },
          "showarrow": false,
          "text": "1.0",
          "x": "threat_severity",
          "xref": "x",
          "y": "threat_severity",
          "yref": "y"
         },
         {
          "font": {
           "color": "#FFFFFF"
          },
          "showarrow": false,
          "text": "0.047460347005044895",
          "x": "response_cost",
          "xref": "x",
          "y": "threat_severity",
          "yref": "y"
         },
         {
          "font": {
           "color": "#FFFFFF"
          },
          "showarrow": false,
          "text": "-0.012313983728247928",
          "x": "resource_required",
          "xref": "x",
          "y": "threat_severity",
          "yref": "y"
         },
         {
          "font": {
           "color": "#000000"
          },
          "showarrow": false,
          "text": "0.40138992327010337",
          "x": "mitigated",
          "xref": "x",
          "y": "threat_severity",
          "yref": "y"
         },
         {
          "font": {
           "color": "#FFFFFF"
          },
          "showarrow": false,
          "text": "0.047460347005044895",
          "x": "threat_severity",
          "xref": "x",
          "y": "response_cost",
          "yref": "y"
         },
         {
          "font": {
           "color": "#000000"
          },
          "showarrow": false,
          "text": "1.0",
          "x": "response_cost",
          "xref": "x",
          "y": "response_cost",
          "yref": "y"
         },
         {
          "font": {
           "color": "#FFFFFF"
          },
          "showarrow": false,
          "text": "0.041224403726873346",
          "x": "resource_required",
          "xref": "x",
          "y": "response_cost",
          "yref": "y"
         },
         {
          "font": {
           "color": "#FFFFFF"
          },
          "showarrow": false,
          "text": "-0.12424958745769527",
          "x": "mitigated",
          "xref": "x",
          "y": "response_cost",
          "yref": "y"
         },
         {
          "font": {
           "color": "#FFFFFF"
          },
          "showarrow": false,
          "text": "-0.012313983728247928",
          "x": "threat_severity",
          "xref": "x",
          "y": "resource_required",
          "yref": "y"
         },
         {
          "font": {
           "color": "#FFFFFF"
          },
          "showarrow": false,
          "text": "0.041224403726873346",
          "x": "response_cost",
          "xref": "x",
          "y": "resource_required",
          "yref": "y"
         },
         {
          "font": {
           "color": "#000000"
          },
          "showarrow": false,
          "text": "1.0",
          "x": "resource_required",
          "xref": "x",
          "y": "resource_required",
          "yref": "y"
         },
         {
          "font": {
           "color": "#FFFFFF"
          },
          "showarrow": false,
          "text": "-0.2739983121755956",
          "x": "mitigated",
          "xref": "x",
          "y": "resource_required",
          "yref": "y"
         },
         {
          "font": {
           "color": "#000000"
          },
          "showarrow": false,
          "text": "0.40138992327010337",
          "x": "threat_severity",
          "xref": "x",
          "y": "mitigated",
          "yref": "y"
         },
         {
          "font": {
           "color": "#FFFFFF"
          },
          "showarrow": false,
          "text": "-0.12424958745769527",
          "x": "response_cost",
          "xref": "x",
          "y": "mitigated",
          "yref": "y"
         },
         {
          "font": {
           "color": "#FFFFFF"
          },
          "showarrow": false,
          "text": "-0.2739983121755956",
          "x": "resource_required",
          "xref": "x",
          "y": "mitigated",
          "yref": "y"
         },
         {
          "font": {
           "color": "#000000"
          },
          "showarrow": false,
          "text": "1.0",
          "x": "mitigated",
          "xref": "x",
          "y": "mitigated",
          "yref": "y"
         }
        ],
        "template": {
         "data": {
          "bar": [
           {
            "error_x": {
             "color": "#2a3f5f"
            },
            "error_y": {
             "color": "#2a3f5f"
            },
            "marker": {
             "line": {
              "color": "#E5ECF6",
              "width": 0.5
             },
             "pattern": {
              "fillmode": "overlay",
              "size": 10,
              "solidity": 0.2
             }
            },
            "type": "bar"
           }
          ],
          "barpolar": [
           {
            "marker": {
             "line": {
              "color": "#E5ECF6",
              "width": 0.5
             },
             "pattern": {
              "fillmode": "overlay",
              "size": 10,
              "solidity": 0.2
             }
            },
            "type": "barpolar"
           }
          ],
          "carpet": [
           {
            "aaxis": {
             "endlinecolor": "#2a3f5f",
             "gridcolor": "white",
             "linecolor": "white",
             "minorgridcolor": "white",
             "startlinecolor": "#2a3f5f"
            },
            "baxis": {
             "endlinecolor": "#2a3f5f",
             "gridcolor": "white",
             "linecolor": "white",
             "minorgridcolor": "white",
             "startlinecolor": "#2a3f5f"
            },
            "type": "carpet"
           }
          ],
          "choropleth": [
           {
            "colorbar": {
             "outlinewidth": 0,
             "ticks": ""
            },
            "type": "choropleth"
           }
          ],
          "contour": [
           {
            "colorbar": {
             "outlinewidth": 0,
             "ticks": ""
            },
            "colorscale": [
             [
              0,
              "#0d0887"
             ],
             [
              0.1111111111111111,
              "#46039f"
             ],
             [
              0.2222222222222222,
              "#7201a8"
             ],
             [
              0.3333333333333333,
              "#9c179e"
             ],
             [
              0.4444444444444444,
              "#bd3786"
             ],
             [
              0.5555555555555556,
              "#d8576b"
             ],
             [
              0.6666666666666666,
              "#ed7953"
             ],
             [
              0.7777777777777778,
              "#fb9f3a"
             ],
             [
              0.8888888888888888,
              "#fdca26"
             ],
             [
              1,
              "#f0f921"
             ]
            ],
            "type": "contour"
           }
          ],
          "contourcarpet": [
           {
            "colorbar": {
             "outlinewidth": 0,
             "ticks": ""
            },
            "type": "contourcarpet"
           }
          ],
          "heatmap": [
           {
            "colorbar": {
             "outlinewidth": 0,
             "ticks": ""
            },
            "colorscale": [
             [
              0,
              "#0d0887"
             ],
             [
              0.1111111111111111,
              "#46039f"
             ],
             [
              0.2222222222222222,
              "#7201a8"
             ],
             [
              0.3333333333333333,
              "#9c179e"
             ],
             [
              0.4444444444444444,
              "#bd3786"
             ],
             [
              0.5555555555555556,
              "#d8576b"
             ],
             [
              0.6666666666666666,
              "#ed7953"
             ],
             [
              0.7777777777777778,
              "#fb9f3a"
             ],
             [
              0.8888888888888888,
              "#fdca26"
             ],
             [
              1,
              "#f0f921"
             ]
            ],
            "type": "heatmap"
           }
          ],
          "heatmapgl": [
           {
            "colorbar": {
             "outlinewidth": 0,
             "ticks": ""
            },
            "colorscale": [
             [
              0,
              "#0d0887"
             ],
             [
              0.1111111111111111,
              "#46039f"
             ],
             [
              0.2222222222222222,
              "#7201a8"
             ],
             [
              0.3333333333333333,
              "#9c179e"
             ],
             [
              0.4444444444444444,
              "#bd3786"
             ],
             [
              0.5555555555555556,
              "#d8576b"
             ],
             [
              0.6666666666666666,
              "#ed7953"
             ],
             [
              0.7777777777777778,
              "#fb9f3a"
             ],
             [
              0.8888888888888888,
              "#fdca26"
             ],
             [
              1,
              "#f0f921"
             ]
            ],
            "type": "heatmapgl"
           }
          ],
          "histogram": [
           {
            "marker": {
             "pattern": {
              "fillmode": "overlay",
              "size": 10,
              "solidity": 0.2
             }
            },
            "type": "histogram"
           }
          ],
          "histogram2d": [
           {
            "colorbar": {
             "outlinewidth": 0,
             "ticks": ""
            },
            "colorscale": [
             [
              0,
              "#0d0887"
             ],
             [
              0.1111111111111111,
              "#46039f"
             ],
             [
              0.2222222222222222,
              "#7201a8"
             ],
             [
              0.3333333333333333,
              "#9c179e"
             ],
             [
              0.4444444444444444,
              "#bd3786"
             ],
             [
              0.5555555555555556,
              "#d8576b"
             ],
             [
              0.6666666666666666,
              "#ed7953"
             ],
             [
              0.7777777777777778,
              "#fb9f3a"
             ],
             [
              0.8888888888888888,
              "#fdca26"
             ],
             [
              1,
              "#f0f921"
             ]
            ],
            "type": "histogram2d"
           }
          ],
          "histogram2dcontour": [
           {
            "colorbar": {
             "outlinewidth": 0,
             "ticks": ""
            },
            "colorscale": [
             [
              0,
              "#0d0887"
             ],
             [
              0.1111111111111111,
              "#46039f"
             ],
             [
              0.2222222222222222,
              "#7201a8"
             ],
             [
              0.3333333333333333,
              "#9c179e"
             ],
             [
              0.4444444444444444,
              "#bd3786"
             ],
             [
              0.5555555555555556,
              "#d8576b"
             ],
             [
              0.6666666666666666,
              "#ed7953"
             ],
             [
              0.7777777777777778,
              "#fb9f3a"
             ],
             [
              0.8888888888888888,
              "#fdca26"
             ],
             [
              1,
              "#f0f921"
             ]
            ],
            "type": "histogram2dcontour"
           }
          ],
          "mesh3d": [
           {
            "colorbar": {
             "outlinewidth": 0,
             "ticks": ""
            },
            "type": "mesh3d"
           }
          ],
          "parcoords": [
           {
            "line": {
             "colorbar": {
              "outlinewidth": 0,
              "ticks": ""
             }
            },
            "type": "parcoords"
           }
          ],
          "pie": [
           {
            "automargin": true,
            "type": "pie"
           }
          ],
          "scatter": [
           {
            "fillpattern": {
             "fillmode": "overlay",
             "size": 10,
             "solidity": 0.2
            },
            "type": "scatter"
           }
          ],
          "scatter3d": [
           {
            "line": {
             "colorbar": {
              "outlinewidth": 0,
              "ticks": ""
             }
            },
            "marker": {
             "colorbar": {
              "outlinewidth": 0,
              "ticks": ""
             }
            },
            "type": "scatter3d"
           }
          ],
          "scattercarpet": [
           {
            "marker": {
             "colorbar": {
              "outlinewidth": 0,
              "ticks": ""
             }
            },
            "type": "scattercarpet"
           }
          ],
          "scattergeo": [
           {
            "marker": {
             "colorbar": {
              "outlinewidth": 0,
              "ticks": ""
             }
            },
            "type": "scattergeo"
           }
          ],
          "scattergl": [
           {
            "marker": {
             "colorbar": {
              "outlinewidth": 0,
              "ticks": ""
             }
            },
            "type": "scattergl"
           }
          ],
          "scattermapbox": [
           {
            "marker": {
             "colorbar": {
              "outlinewidth": 0,
              "ticks": ""
             }
            },
            "type": "scattermapbox"
           }
          ],
          "scatterpolar": [
           {
            "marker": {
             "colorbar": {
              "outlinewidth": 0,
              "ticks": ""
             }
            },
            "type": "scatterpolar"
           }
          ],
          "scatterpolargl": [
           {
            "marker": {
             "colorbar": {
              "outlinewidth": 0,
              "ticks": ""
             }
            },
            "type": "scatterpolargl"
           }
          ],
          "scatterternary": [
           {
            "marker": {
             "colorbar": {
              "outlinewidth": 0,
              "ticks": ""
             }
            },
            "type": "scatterternary"
           }
          ],
          "surface": [
           {
            "colorbar": {
             "outlinewidth": 0,
             "ticks": ""
            },
            "colorscale": [
             [
              0,
              "#0d0887"
             ],
             [
              0.1111111111111111,
              "#46039f"
             ],
             [
              0.2222222222222222,
              "#7201a8"
             ],
             [
              0.3333333333333333,
              "#9c179e"
             ],
             [
              0.4444444444444444,
              "#bd3786"
             ],
             [
              0.5555555555555556,
              "#d8576b"
             ],
             [
              0.6666666666666666,
              "#ed7953"
             ],
             [
              0.7777777777777778,
              "#fb9f3a"
             ],
             [
              0.8888888888888888,
              "#fdca26"
             ],
             [
              1,
              "#f0f921"
             ]
            ],
            "type": "surface"
           }
          ],
          "table": [
           {
            "cells": {
             "fill": {
              "color": "#EBF0F8"
             },
             "line": {
              "color": "white"
             }
            },
            "header": {
             "fill": {
              "color": "#C8D4E3"
             },
             "line": {
              "color": "white"
             }
            },
            "type": "table"
           }
          ]
         },
         "layout": {
          "annotationdefaults": {
           "arrowcolor": "#2a3f5f",
           "arrowhead": 0,
           "arrowwidth": 1
          },
          "autotypenumbers": "strict",
          "coloraxis": {
           "colorbar": {
            "outlinewidth": 0,
            "ticks": ""
           }
          },
          "colorscale": {
           "diverging": [
            [
             0,
             "#8e0152"
            ],
            [
             0.1,
             "#c51b7d"
            ],
            [
             0.2,
             "#de77ae"
            ],
            [
             0.3,
             "#f1b6da"
            ],
            [
             0.4,
             "#fde0ef"
            ],
            [
             0.5,
             "#f7f7f7"
            ],
            [
             0.6,
             "#e6f5d0"
            ],
            [
             0.7,
             "#b8e186"
            ],
            [
             0.8,
             "#7fbc41"
            ],
            [
             0.9,
             "#4d9221"
            ],
            [
             1,
             "#276419"
            ]
           ],
           "sequential": [
            [
             0,
             "#0d0887"
            ],
            [
             0.1111111111111111,
             "#46039f"
            ],
            [
             0.2222222222222222,
             "#7201a8"
            ],
            [
             0.3333333333333333,
             "#9c179e"
            ],
            [
             0.4444444444444444,
             "#bd3786"
            ],
            [
             0.5555555555555556,
             "#d8576b"
            ],
            [
             0.6666666666666666,
             "#ed7953"
            ],
            [
             0.7777777777777778,
             "#fb9f3a"
            ],
            [
             0.8888888888888888,
             "#fdca26"
            ],
            [
             1,
             "#f0f921"
            ]
           ],
           "sequentialminus": [
            [
             0,
             "#0d0887"
            ],
            [
             0.1111111111111111,
             "#46039f"
            ],
            [
             0.2222222222222222,
             "#7201a8"
            ],
            [
             0.3333333333333333,
             "#9c179e"
            ],
            [
             0.4444444444444444,
             "#bd3786"
            ],
            [
             0.5555555555555556,
             "#d8576b"
            ],
            [
             0.6666666666666666,
             "#ed7953"
            ],
            [
             0.7777777777777778,
             "#fb9f3a"
            ],
            [
             0.8888888888888888,
             "#fdca26"
            ],
            [
             1,
             "#f0f921"
            ]
           ]
          },
          "colorway": [
           "#636efa",
           "#EF553B",
           "#00cc96",
           "#ab63fa",
           "#FFA15A",
           "#19d3f3",
           "#FF6692",
           "#B6E880",
           "#FF97FF",
           "#FECB52"
          ],
          "font": {
           "color": "#2a3f5f"
          },
          "geo": {
           "bgcolor": "white",
           "lakecolor": "white",
           "landcolor": "#E5ECF6",
           "showlakes": true,
           "showland": true,
           "subunitcolor": "white"
          },
          "hoverlabel": {
           "align": "left"
          },
          "hovermode": "closest",
          "mapbox": {
           "style": "light"
          },
          "paper_bgcolor": "white",
          "plot_bgcolor": "#E5ECF6",
          "polar": {
           "angularaxis": {
            "gridcolor": "white",
            "linecolor": "white",
            "ticks": ""
           },
           "bgcolor": "#E5ECF6",
           "radialaxis": {
            "gridcolor": "white",
            "linecolor": "white",
            "ticks": ""
           }
          },
          "scene": {
           "xaxis": {
            "backgroundcolor": "#E5ECF6",
            "gridcolor": "white",
            "gridwidth": 2,
            "linecolor": "white",
            "showbackground": true,
            "ticks": "",
            "zerolinecolor": "white"
           },
           "yaxis": {
            "backgroundcolor": "#E5ECF6",
            "gridcolor": "white",
            "gridwidth": 2,
            "linecolor": "white",
            "showbackground": true,
            "ticks": "",
            "zerolinecolor": "white"
           },
           "zaxis": {
            "backgroundcolor": "#E5ECF6",
            "gridcolor": "white",
            "gridwidth": 2,
            "linecolor": "white",
            "showbackground": true,
            "ticks": "",
            "zerolinecolor": "white"
           }
          },
          "shapedefaults": {
           "line": {
            "color": "#2a3f5f"
           }
          },
          "ternary": {
           "aaxis": {
            "gridcolor": "white",
            "linecolor": "white",
            "ticks": ""
           },
           "baxis": {
            "gridcolor": "white",
            "linecolor": "white",
            "ticks": ""
           },
           "bgcolor": "#E5ECF6",
           "caxis": {
            "gridcolor": "white",
            "linecolor": "white",
            "ticks": ""
           }
          },
          "title": {
           "x": 0.05
          },
          "xaxis": {
           "automargin": true,
           "gridcolor": "white",
           "linecolor": "white",
           "ticks": "",
           "title": {
            "standoff": 15
           },
           "zerolinecolor": "white",
           "zerolinewidth": 2
          },
          "yaxis": {
           "automargin": true,
           "gridcolor": "white",
           "linecolor": "white",
           "ticks": "",
           "title": {
            "standoff": 15
           },
           "zerolinecolor": "white",
           "zerolinewidth": 2
          }
         }
        },
        "title": {
         "text": "Feature Correlation Heatmap"
        },
        "xaxis": {
         "dtick": 1,
         "gridcolor": "rgb(0, 0, 0)",
         "side": "top",
         "ticks": ""
        },
        "yaxis": {
         "dtick": 1,
         "ticks": "",
         "ticksuffix": "  "
        }
       }
      }
     },
     "metadata": {},
     "output_type": "display_data"
    }
   ],
   "source": [
    "import plotly.figure_factory as ff\n",
    "\n",
    "corr_data = viz_df[['threat_severity', 'response_cost', 'resource_required', 'mitigated']].corr()\n",
    "fig = ff.create_annotated_heatmap(\n",
    "    z=corr_data.values,\n",
    "    x=corr_data.columns.tolist(),\n",
    "    y=corr_data.columns.tolist(),\n",
    "    colorscale='Viridis'\n",
    ")\n",
    "fig.update_layout(title_text='Feature Correlation Heatmap')\n",
    "fig.show()\n"
   ]
  },
  {
   "cell_type": "code",
   "execution_count": 67,
   "id": "c5737fa7",
   "metadata": {},
   "outputs": [
    {
     "data": {
      "application/vnd.plotly.v1+json": {
       "config": {
        "plotlyServerURL": "https://plot.ly"
       },
       "data": [
        {
         "alignmentgroup": "True",
         "customdata": [
          [
           9,
           1
          ],
          [
           9,
           1
          ],
          [
           9,
           1
          ],
          [
           9,
           1
          ],
          [
           9,
           1
          ],
          [
           9,
           1
          ],
          [
           9,
           1
          ],
          [
           9,
           1
          ],
          [
           9,
           1
          ],
          [
           9,
           1
          ],
          [
           9,
           1
          ],
          [
           9,
           1
          ],
          [
           9,
           1
          ],
          [
           8,
           1
          ],
          [
           8,
           1
          ],
          [
           8,
           1
          ],
          [
           8,
           1
          ],
          [
           8,
           1
          ],
          [
           8,
           1
          ],
          [
           8,
           1
          ],
          [
           9,
           2
          ],
          [
           9,
           2
          ],
          [
           9,
           2
          ],
          [
           9,
           2
          ],
          [
           9,
           2
          ],
          [
           9,
           2
          ],
          [
           8,
           2
          ],
          [
           8,
           2
          ],
          [
           8,
           2
          ],
          [
           8,
           2
          ],
          [
           8,
           2
          ],
          [
           8,
           2
          ],
          [
           8,
           2
          ],
          [
           8,
           2
          ],
          [
           9,
           3
          ],
          [
           9,
           3
          ],
          [
           9,
           3
          ],
          [
           9,
           3
          ],
          [
           9,
           3
          ],
          [
           9,
           3
          ],
          [
           9,
           3
          ],
          [
           9,
           3
          ],
          [
           9,
           3
          ],
          [
           9,
           3
          ],
          [
           9,
           3
          ],
          [
           9,
           3
          ],
          [
           9,
           4
          ],
          [
           9,
           4
          ],
          [
           9,
           4
          ],
          [
           9,
           4
          ]
         ],
         "hovertemplate": "index=%{x}<br>Cost Efficiency (Severity / Cost)=%{marker.color}<br>threat_severity=%{customdata[0]}<br>response_cost=%{customdata[1]}<extra></extra>",
         "legendgroup": "",
         "marker": {
          "color": [
           8.999910000899991,
           8.999910000899991,
           8.999910000899991,
           8.999910000899991,
           8.999910000899991,
           8.999910000899991,
           8.999910000899991,
           8.999910000899991,
           8.999910000899991,
           8.999910000899991,
           8.999910000899991,
           8.999910000899991,
           8.999910000899991,
           7.9999200007999915,
           7.9999200007999915,
           7.9999200007999915,
           7.9999200007999915,
           7.9999200007999915,
           7.9999200007999915,
           7.9999200007999915,
           4.499977500112499,
           4.499977500112499,
           4.499977500112499,
           4.499977500112499,
           4.499977500112499,
           4.499977500112499,
           3.9999800000999994,
           3.9999800000999994,
           3.9999800000999994,
           3.9999800000999994,
           3.9999800000999994,
           3.9999800000999994,
           3.9999800000999994,
           3.9999800000999994,
           2.9999900000333333,
           2.9999900000333333,
           2.9999900000333333,
           2.9999900000333333,
           2.9999900000333333,
           2.9999900000333333,
           2.9999900000333333,
           2.9999900000333333,
           2.9999900000333333,
           2.9999900000333333,
           2.9999900000333333,
           2.9999900000333333,
           2.2499943750140625,
           2.2499943750140625,
           2.2499943750140625,
           2.2499943750140625
          ],
          "coloraxis": "coloraxis",
          "pattern": {
           "shape": ""
          }
         },
         "name": "",
         "offsetgroup": "",
         "orientation": "v",
         "showlegend": false,
         "textposition": "auto",
         "type": "bar",
         "x": [
          0,
          1,
          2,
          3,
          4,
          5,
          6,
          7,
          8,
          9,
          10,
          11,
          12,
          13,
          14,
          15,
          16,
          17,
          18,
          19,
          20,
          21,
          22,
          23,
          24,
          25,
          26,
          27,
          28,
          29,
          30,
          31,
          32,
          33,
          34,
          35,
          36,
          37,
          38,
          39,
          40,
          41,
          42,
          43,
          44,
          45,
          46,
          47,
          48,
          49
         ],
         "xaxis": "x",
         "y": [
          8.999910000899991,
          8.999910000899991,
          8.999910000899991,
          8.999910000899991,
          8.999910000899991,
          8.999910000899991,
          8.999910000899991,
          8.999910000899991,
          8.999910000899991,
          8.999910000899991,
          8.999910000899991,
          8.999910000899991,
          8.999910000899991,
          7.9999200007999915,
          7.9999200007999915,
          7.9999200007999915,
          7.9999200007999915,
          7.9999200007999915,
          7.9999200007999915,
          7.9999200007999915,
          4.499977500112499,
          4.499977500112499,
          4.499977500112499,
          4.499977500112499,
          4.499977500112499,
          4.499977500112499,
          3.9999800000999994,
          3.9999800000999994,
          3.9999800000999994,
          3.9999800000999994,
          3.9999800000999994,
          3.9999800000999994,
          3.9999800000999994,
          3.9999800000999994,
          2.9999900000333333,
          2.9999900000333333,
          2.9999900000333333,
          2.9999900000333333,
          2.9999900000333333,
          2.9999900000333333,
          2.9999900000333333,
          2.9999900000333333,
          2.9999900000333333,
          2.9999900000333333,
          2.9999900000333333,
          2.9999900000333333,
          2.2499943750140625,
          2.2499943750140625,
          2.2499943750140625,
          2.2499943750140625
         ],
         "yaxis": "y"
        }
       ],
       "layout": {
        "barmode": "relative",
        "coloraxis": {
         "colorbar": {
          "title": {
           "text": "Cost Efficiency (Severity / Cost)"
          }
         },
         "colorscale": [
          [
           0,
           "#440154"
          ],
          [
           0.1111111111111111,
           "#482878"
          ],
          [
           0.2222222222222222,
           "#3e4989"
          ],
          [
           0.3333333333333333,
           "#31688e"
          ],
          [
           0.4444444444444444,
           "#26828e"
          ],
          [
           0.5555555555555556,
           "#1f9e89"
          ],
          [
           0.6666666666666666,
           "#35b779"
          ],
          [
           0.7777777777777778,
           "#6ece58"
          ],
          [
           0.8888888888888888,
           "#b5de2b"
          ],
          [
           1,
           "#fde725"
          ]
         ]
        },
        "legend": {
         "tracegroupgap": 0
        },
        "showlegend": false,
        "template": {
         "data": {
          "bar": [
           {
            "error_x": {
             "color": "#2a3f5f"
            },
            "error_y": {
             "color": "#2a3f5f"
            },
            "marker": {
             "line": {
              "color": "#E5ECF6",
              "width": 0.5
             },
             "pattern": {
              "fillmode": "overlay",
              "size": 10,
              "solidity": 0.2
             }
            },
            "type": "bar"
           }
          ],
          "barpolar": [
           {
            "marker": {
             "line": {
              "color": "#E5ECF6",
              "width": 0.5
             },
             "pattern": {
              "fillmode": "overlay",
              "size": 10,
              "solidity": 0.2
             }
            },
            "type": "barpolar"
           }
          ],
          "carpet": [
           {
            "aaxis": {
             "endlinecolor": "#2a3f5f",
             "gridcolor": "white",
             "linecolor": "white",
             "minorgridcolor": "white",
             "startlinecolor": "#2a3f5f"
            },
            "baxis": {
             "endlinecolor": "#2a3f5f",
             "gridcolor": "white",
             "linecolor": "white",
             "minorgridcolor": "white",
             "startlinecolor": "#2a3f5f"
            },
            "type": "carpet"
           }
          ],
          "choropleth": [
           {
            "colorbar": {
             "outlinewidth": 0,
             "ticks": ""
            },
            "type": "choropleth"
           }
          ],
          "contour": [
           {
            "colorbar": {
             "outlinewidth": 0,
             "ticks": ""
            },
            "colorscale": [
             [
              0,
              "#0d0887"
             ],
             [
              0.1111111111111111,
              "#46039f"
             ],
             [
              0.2222222222222222,
              "#7201a8"
             ],
             [
              0.3333333333333333,
              "#9c179e"
             ],
             [
              0.4444444444444444,
              "#bd3786"
             ],
             [
              0.5555555555555556,
              "#d8576b"
             ],
             [
              0.6666666666666666,
              "#ed7953"
             ],
             [
              0.7777777777777778,
              "#fb9f3a"
             ],
             [
              0.8888888888888888,
              "#fdca26"
             ],
             [
              1,
              "#f0f921"
             ]
            ],
            "type": "contour"
           }
          ],
          "contourcarpet": [
           {
            "colorbar": {
             "outlinewidth": 0,
             "ticks": ""
            },
            "type": "contourcarpet"
           }
          ],
          "heatmap": [
           {
            "colorbar": {
             "outlinewidth": 0,
             "ticks": ""
            },
            "colorscale": [
             [
              0,
              "#0d0887"
             ],
             [
              0.1111111111111111,
              "#46039f"
             ],
             [
              0.2222222222222222,
              "#7201a8"
             ],
             [
              0.3333333333333333,
              "#9c179e"
             ],
             [
              0.4444444444444444,
              "#bd3786"
             ],
             [
              0.5555555555555556,
              "#d8576b"
             ],
             [
              0.6666666666666666,
              "#ed7953"
             ],
             [
              0.7777777777777778,
              "#fb9f3a"
             ],
             [
              0.8888888888888888,
              "#fdca26"
             ],
             [
              1,
              "#f0f921"
             ]
            ],
            "type": "heatmap"
           }
          ],
          "heatmapgl": [
           {
            "colorbar": {
             "outlinewidth": 0,
             "ticks": ""
            },
            "colorscale": [
             [
              0,
              "#0d0887"
             ],
             [
              0.1111111111111111,
              "#46039f"
             ],
             [
              0.2222222222222222,
              "#7201a8"
             ],
             [
              0.3333333333333333,
              "#9c179e"
             ],
             [
              0.4444444444444444,
              "#bd3786"
             ],
             [
              0.5555555555555556,
              "#d8576b"
             ],
             [
              0.6666666666666666,
              "#ed7953"
             ],
             [
              0.7777777777777778,
              "#fb9f3a"
             ],
             [
              0.8888888888888888,
              "#fdca26"
             ],
             [
              1,
              "#f0f921"
             ]
            ],
            "type": "heatmapgl"
           }
          ],
          "histogram": [
           {
            "marker": {
             "pattern": {
              "fillmode": "overlay",
              "size": 10,
              "solidity": 0.2
             }
            },
            "type": "histogram"
           }
          ],
          "histogram2d": [
           {
            "colorbar": {
             "outlinewidth": 0,
             "ticks": ""
            },
            "colorscale": [
             [
              0,
              "#0d0887"
             ],
             [
              0.1111111111111111,
              "#46039f"
             ],
             [
              0.2222222222222222,
              "#7201a8"
             ],
             [
              0.3333333333333333,
              "#9c179e"
             ],
             [
              0.4444444444444444,
              "#bd3786"
             ],
             [
              0.5555555555555556,
              "#d8576b"
             ],
             [
              0.6666666666666666,
              "#ed7953"
             ],
             [
              0.7777777777777778,
              "#fb9f3a"
             ],
             [
              0.8888888888888888,
              "#fdca26"
             ],
             [
              1,
              "#f0f921"
             ]
            ],
            "type": "histogram2d"
           }
          ],
          "histogram2dcontour": [
           {
            "colorbar": {
             "outlinewidth": 0,
             "ticks": ""
            },
            "colorscale": [
             [
              0,
              "#0d0887"
             ],
             [
              0.1111111111111111,
              "#46039f"
             ],
             [
              0.2222222222222222,
              "#7201a8"
             ],
             [
              0.3333333333333333,
              "#9c179e"
             ],
             [
              0.4444444444444444,
              "#bd3786"
             ],
             [
              0.5555555555555556,
              "#d8576b"
             ],
             [
              0.6666666666666666,
              "#ed7953"
             ],
             [
              0.7777777777777778,
              "#fb9f3a"
             ],
             [
              0.8888888888888888,
              "#fdca26"
             ],
             [
              1,
              "#f0f921"
             ]
            ],
            "type": "histogram2dcontour"
           }
          ],
          "mesh3d": [
           {
            "colorbar": {
             "outlinewidth": 0,
             "ticks": ""
            },
            "type": "mesh3d"
           }
          ],
          "parcoords": [
           {
            "line": {
             "colorbar": {
              "outlinewidth": 0,
              "ticks": ""
             }
            },
            "type": "parcoords"
           }
          ],
          "pie": [
           {
            "automargin": true,
            "type": "pie"
           }
          ],
          "scatter": [
           {
            "fillpattern": {
             "fillmode": "overlay",
             "size": 10,
             "solidity": 0.2
            },
            "type": "scatter"
           }
          ],
          "scatter3d": [
           {
            "line": {
             "colorbar": {
              "outlinewidth": 0,
              "ticks": ""
             }
            },
            "marker": {
             "colorbar": {
              "outlinewidth": 0,
              "ticks": ""
             }
            },
            "type": "scatter3d"
           }
          ],
          "scattercarpet": [
           {
            "marker": {
             "colorbar": {
              "outlinewidth": 0,
              "ticks": ""
             }
            },
            "type": "scattercarpet"
           }
          ],
          "scattergeo": [
           {
            "marker": {
             "colorbar": {
              "outlinewidth": 0,
              "ticks": ""
             }
            },
            "type": "scattergeo"
           }
          ],
          "scattergl": [
           {
            "marker": {
             "colorbar": {
              "outlinewidth": 0,
              "ticks": ""
             }
            },
            "type": "scattergl"
           }
          ],
          "scattermapbox": [
           {
            "marker": {
             "colorbar": {
              "outlinewidth": 0,
              "ticks": ""
             }
            },
            "type": "scattermapbox"
           }
          ],
          "scatterpolar": [
           {
            "marker": {
             "colorbar": {
              "outlinewidth": 0,
              "ticks": ""
             }
            },
            "type": "scatterpolar"
           }
          ],
          "scatterpolargl": [
           {
            "marker": {
             "colorbar": {
              "outlinewidth": 0,
              "ticks": ""
             }
            },
            "type": "scatterpolargl"
           }
          ],
          "scatterternary": [
           {
            "marker": {
             "colorbar": {
              "outlinewidth": 0,
              "ticks": ""
             }
            },
            "type": "scatterternary"
           }
          ],
          "surface": [
           {
            "colorbar": {
             "outlinewidth": 0,
             "ticks": ""
            },
            "colorscale": [
             [
              0,
              "#0d0887"
             ],
             [
              0.1111111111111111,
              "#46039f"
             ],
             [
              0.2222222222222222,
              "#7201a8"
             ],
             [
              0.3333333333333333,
              "#9c179e"
             ],
             [
              0.4444444444444444,
              "#bd3786"
             ],
             [
              0.5555555555555556,
              "#d8576b"
             ],
             [
              0.6666666666666666,
              "#ed7953"
             ],
             [
              0.7777777777777778,
              "#fb9f3a"
             ],
             [
              0.8888888888888888,
              "#fdca26"
             ],
             [
              1,
              "#f0f921"
             ]
            ],
            "type": "surface"
           }
          ],
          "table": [
           {
            "cells": {
             "fill": {
              "color": "#EBF0F8"
             },
             "line": {
              "color": "white"
             }
            },
            "header": {
             "fill": {
              "color": "#C8D4E3"
             },
             "line": {
              "color": "white"
             }
            },
            "type": "table"
           }
          ]
         },
         "layout": {
          "annotationdefaults": {
           "arrowcolor": "#2a3f5f",
           "arrowhead": 0,
           "arrowwidth": 1
          },
          "autotypenumbers": "strict",
          "coloraxis": {
           "colorbar": {
            "outlinewidth": 0,
            "ticks": ""
           }
          },
          "colorscale": {
           "diverging": [
            [
             0,
             "#8e0152"
            ],
            [
             0.1,
             "#c51b7d"
            ],
            [
             0.2,
             "#de77ae"
            ],
            [
             0.3,
             "#f1b6da"
            ],
            [
             0.4,
             "#fde0ef"
            ],
            [
             0.5,
             "#f7f7f7"
            ],
            [
             0.6,
             "#e6f5d0"
            ],
            [
             0.7,
             "#b8e186"
            ],
            [
             0.8,
             "#7fbc41"
            ],
            [
             0.9,
             "#4d9221"
            ],
            [
             1,
             "#276419"
            ]
           ],
           "sequential": [
            [
             0,
             "#0d0887"
            ],
            [
             0.1111111111111111,
             "#46039f"
            ],
            [
             0.2222222222222222,
             "#7201a8"
            ],
            [
             0.3333333333333333,
             "#9c179e"
            ],
            [
             0.4444444444444444,
             "#bd3786"
            ],
            [
             0.5555555555555556,
             "#d8576b"
            ],
            [
             0.6666666666666666,
             "#ed7953"
            ],
            [
             0.7777777777777778,
             "#fb9f3a"
            ],
            [
             0.8888888888888888,
             "#fdca26"
            ],
            [
             1,
             "#f0f921"
            ]
           ],
           "sequentialminus": [
            [
             0,
             "#0d0887"
            ],
            [
             0.1111111111111111,
             "#46039f"
            ],
            [
             0.2222222222222222,
             "#7201a8"
            ],
            [
             0.3333333333333333,
             "#9c179e"
            ],
            [
             0.4444444444444444,
             "#bd3786"
            ],
            [
             0.5555555555555556,
             "#d8576b"
            ],
            [
             0.6666666666666666,
             "#ed7953"
            ],
            [
             0.7777777777777778,
             "#fb9f3a"
            ],
            [
             0.8888888888888888,
             "#fdca26"
            ],
            [
             1,
             "#f0f921"
            ]
           ]
          },
          "colorway": [
           "#636efa",
           "#EF553B",
           "#00cc96",
           "#ab63fa",
           "#FFA15A",
           "#19d3f3",
           "#FF6692",
           "#B6E880",
           "#FF97FF",
           "#FECB52"
          ],
          "font": {
           "color": "#2a3f5f"
          },
          "geo": {
           "bgcolor": "white",
           "lakecolor": "white",
           "landcolor": "#E5ECF6",
           "showlakes": true,
           "showland": true,
           "subunitcolor": "white"
          },
          "hoverlabel": {
           "align": "left"
          },
          "hovermode": "closest",
          "mapbox": {
           "style": "light"
          },
          "paper_bgcolor": "white",
          "plot_bgcolor": "#E5ECF6",
          "polar": {
           "angularaxis": {
            "gridcolor": "white",
            "linecolor": "white",
            "ticks": ""
           },
           "bgcolor": "#E5ECF6",
           "radialaxis": {
            "gridcolor": "white",
            "linecolor": "white",
            "ticks": ""
           }
          },
          "scene": {
           "xaxis": {
            "backgroundcolor": "#E5ECF6",
            "gridcolor": "white",
            "gridwidth": 2,
            "linecolor": "white",
            "showbackground": true,
            "ticks": "",
            "zerolinecolor": "white"
           },
           "yaxis": {
            "backgroundcolor": "#E5ECF6",
            "gridcolor": "white",
            "gridwidth": 2,
            "linecolor": "white",
            "showbackground": true,
            "ticks": "",
            "zerolinecolor": "white"
           },
           "zaxis": {
            "backgroundcolor": "#E5ECF6",
            "gridcolor": "white",
            "gridwidth": 2,
            "linecolor": "white",
            "showbackground": true,
            "ticks": "",
            "zerolinecolor": "white"
           }
          },
          "shapedefaults": {
           "line": {
            "color": "#2a3f5f"
           }
          },
          "ternary": {
           "aaxis": {
            "gridcolor": "white",
            "linecolor": "white",
            "ticks": ""
           },
           "baxis": {
            "gridcolor": "white",
            "linecolor": "white",
            "ticks": ""
           },
           "bgcolor": "#E5ECF6",
           "caxis": {
            "gridcolor": "white",
            "linecolor": "white",
            "ticks": ""
           }
          },
          "title": {
           "x": 0.05
          },
          "xaxis": {
           "automargin": true,
           "gridcolor": "white",
           "linecolor": "white",
           "ticks": "",
           "title": {
            "standoff": 15
           },
           "zerolinecolor": "white",
           "zerolinewidth": 2
          },
          "yaxis": {
           "automargin": true,
           "gridcolor": "white",
           "linecolor": "white",
           "ticks": "",
           "title": {
            "standoff": 15
           },
           "zerolinecolor": "white",
           "zerolinewidth": 2
          }
         }
        },
        "title": {
         "text": "Cost Efficiency of Mitigated Threats"
        },
        "xaxis": {
         "anchor": "y",
         "domain": [
          0,
          1
         ],
         "title": {
          "text": "index"
         }
        },
        "yaxis": {
         "anchor": "x",
         "domain": [
          0,
          1
         ],
         "title": {
          "text": "Cost Efficiency (Severity / Cost)"
         }
        }
       }
      }
     },
     "metadata": {},
     "output_type": "display_data"
    }
   ],
   "source": [
    "import plotly.express as px\n",
    "\n",
    "# Calculate cost efficiency for only mitigated threats\n",
    "eff_df = threat_df.copy()\n",
    "eff_df = eff_df[eff_df['mitigated'] == 1].copy()\n",
    "eff_df['cost_efficiency'] = eff_df['threat_severity'] / (eff_df['response_cost'] + 1e-5)\n",
    "\n",
    "# Sort for better view\n",
    "eff_df = eff_df.sort_values(by='cost_efficiency', ascending=False).reset_index(drop=True)\n",
    "\n",
    "# Interactive bar plot\n",
    "fig = px.bar(\n",
    "    eff_df,\n",
    "    x=eff_df.index,\n",
    "    y='cost_efficiency',\n",
    "    hover_data=['threat_severity', 'response_cost'],\n",
    "    title='Cost Efficiency of Mitigated Threats',\n",
    "    labels={'x': 'Mitigated Threat Index', 'cost_efficiency': 'Cost Efficiency (Severity / Cost)'},\n",
    "    color='cost_efficiency',\n",
    "    color_continuous_scale='Viridis'\n",
    ")\n",
    "\n",
    "fig.update_layout(showlegend=False)\n",
    "fig.show()\n"
   ]
  },
  {
   "cell_type": "markdown",
   "id": "3757ba77",
   "metadata": {},
   "source": [
    " # Insights\n",
    "\n",
    "1. Mitigated threats are highly cost-efficient when severity-to-cost ratio is maximized.\n",
    "\n",
    "2. Many threats go unmitigated due to strict resource constraints — emphasizing the need for budget planning.\n",
    "\n",
    "3. Combining RNN + Isolation Forest improves detection accuracy vs traditional static methods.\n",
    "\n",
    "4. Interactive visualizations help visualize trade-offs and guide operational decisions."
   ]
  },
  {
   "cell_type": "markdown",
   "id": "216768a5",
   "metadata": {},
   "source": [
    "# Conclusion \n",
    "\n",
    "This framework offers an intelligent, real-time, cost-effective solution to cybersecurity in MCPS environments. Compared to static firewalls or threshold-based systems, our model:\n",
    "\n",
    "1. Responds adaptively\n",
    "\n",
    "2. Scales across nodes\n",
    "\n",
    "3. Optimizes decisions under constraints\n",
    "\n",
    "# Future Enhancements\n",
    "\n",
    "1. Integrate reinforcement learning (MARL) for policy-based responses\n",
    "\n",
    "2. Add dynamic risk propagation modeling\n",
    "\n",
    "3. Build a real-time web dashboard \n",
    "\n",
    "4. Extend to IoT and smart city infrastructures"
   ]
  },
  {
   "cell_type": "code",
   "execution_count": null,
   "id": "0e0da93d",
   "metadata": {},
   "outputs": [],
   "source": []
  }
 ],
 "metadata": {
  "kernelspec": {
   "display_name": "base",
   "language": "python",
   "name": "python3"
  },
  "language_info": {
   "codemirror_mode": {
    "name": "ipython",
    "version": 3
   },
   "file_extension": ".py",
   "mimetype": "text/x-python",
   "name": "python",
   "nbconvert_exporter": "python",
   "pygments_lexer": "ipython3",
   "version": "3.12.7"
  }
 },
 "nbformat": 4,
 "nbformat_minor": 5
}
